{
 "cells": [
  {
   "cell_type": "code",
   "execution_count": 1,
   "metadata": {},
   "outputs": [],
   "source": [
    "import acquire\n",
    "import prepare\n",
    "import explore\n",
    "import scipy.stats as stats\n",
    "\n",
    "import pandas as pd\n",
    "import numpy as np\n",
    "import seaborn as sns\n",
    "import matplotlib.pyplot as plt\n",
    "\n",
    "import warnings\n",
    "warnings.filterwarnings(\"ignore\")\n",
    "\n",
    "from sklearn.model_selection import train_test_split\n",
    "from sklearn.tree import DecisionTreeClassifier, plot_tree, export_text\n",
    "from sklearn.linear_model import LogisticRegression\n",
    "from sklearn.ensemble import RandomForestClassifier\n",
    "from sklearn.metrics import classification_report, confusion_matrix, accuracy_score"
   ]
  },
  {
   "cell_type": "markdown",
   "metadata": {},
   "source": [
    "## Project Planning and Goals:\n",
    "\n",
    "- Create README.md with data dictionary, project and business goals.\n",
    "- Acquire my data function to automate data acquisition.\n",
    "- Clean and prepare my data as necessary. Create a function to automate the process, store it for import.\n",
    "- Clearly define two hypotheses, set an alpha, run the statistical tests needed, reject or fail to reject the ${H_0}$, and document findings.\n",
    "- Establish a baseline accuracy model.\n",
    "- Train three different classification models.\n",
    "- Evaluate models on train and validate datasets.\n",
    "- Choose the model with that performs the best and evaluate that single model on the test dataset.\n",
    "- Create csv file with the customer id, the probability of the customer's churn, and the model's prediction for each observation.\n",
    "- End with conclusion, takeaways, and next steps."
   ]
  },
  {
   "cell_type": "markdown",
   "metadata": {},
   "source": [
    "## Exercutive Summary:\n",
    "- I created three different models between LogisticRegression, DecisionTree, and RandomForest, my RandomForest model performed the best on customer churn with an 81% overall accuracy.\n",
    "- This model outperformed my baseline score of 73%.\n",
    "- Further statistical testing confirmed associations of churn with paperless billing, monthly charges, and having a partner.\n"
   ]
  },
  {
   "cell_type": "markdown",
   "metadata": {},
   "source": [
    "## ACQUIRE DATA"
   ]
  },
  {
   "cell_type": "code",
   "execution_count": 2,
   "metadata": {},
   "outputs": [],
   "source": [
    "df = acquire.get_new_telco_churn_data()"
   ]
  },
  {
   "cell_type": "code",
   "execution_count": 3,
   "metadata": {},
   "outputs": [
    {
     "data": {
      "text/html": [
       "<div>\n",
       "<style scoped>\n",
       "    .dataframe tbody tr th:only-of-type {\n",
       "        vertical-align: middle;\n",
       "    }\n",
       "\n",
       "    .dataframe tbody tr th {\n",
       "        vertical-align: top;\n",
       "    }\n",
       "\n",
       "    .dataframe thead th {\n",
       "        text-align: right;\n",
       "    }\n",
       "</style>\n",
       "<table border=\"1\" class=\"dataframe\">\n",
       "  <thead>\n",
       "    <tr style=\"text-align: right;\">\n",
       "      <th></th>\n",
       "      <th>payment_type_id</th>\n",
       "      <th>payment_type</th>\n",
       "      <th>customer_id</th>\n",
       "      <th>gender</th>\n",
       "      <th>senior_citizen</th>\n",
       "      <th>partner</th>\n",
       "      <th>dependents</th>\n",
       "      <th>tenure</th>\n",
       "      <th>phone_service</th>\n",
       "      <th>multiple_lines</th>\n",
       "      <th>...</th>\n",
       "      <th>contract_type_id</th>\n",
       "      <th>paperless_billing</th>\n",
       "      <th>payment_type_id</th>\n",
       "      <th>monthly_charges</th>\n",
       "      <th>total_charges</th>\n",
       "      <th>churn</th>\n",
       "      <th>internet_service_type_id</th>\n",
       "      <th>internet_service_type</th>\n",
       "      <th>contract_type_id</th>\n",
       "      <th>contract_type</th>\n",
       "    </tr>\n",
       "  </thead>\n",
       "  <tbody>\n",
       "    <tr>\n",
       "      <th>5857</th>\n",
       "      <td>3</td>\n",
       "      <td>Bank transfer (automatic)</td>\n",
       "      <td>7996-BPXHY</td>\n",
       "      <td>Female</td>\n",
       "      <td>0</td>\n",
       "      <td>Yes</td>\n",
       "      <td>Yes</td>\n",
       "      <td>13</td>\n",
       "      <td>Yes</td>\n",
       "      <td>Yes</td>\n",
       "      <td>...</td>\n",
       "      <td>3</td>\n",
       "      <td>Yes</td>\n",
       "      <td>3</td>\n",
       "      <td>25.00</td>\n",
       "      <td>332.5</td>\n",
       "      <td>No</td>\n",
       "      <td>3</td>\n",
       "      <td>None</td>\n",
       "      <td>3</td>\n",
       "      <td>Two year</td>\n",
       "    </tr>\n",
       "    <tr>\n",
       "      <th>408</th>\n",
       "      <td>3</td>\n",
       "      <td>Bank transfer (automatic)</td>\n",
       "      <td>7727-SHVZV</td>\n",
       "      <td>Female</td>\n",
       "      <td>0</td>\n",
       "      <td>No</td>\n",
       "      <td>No</td>\n",
       "      <td>9</td>\n",
       "      <td>Yes</td>\n",
       "      <td>No</td>\n",
       "      <td>...</td>\n",
       "      <td>1</td>\n",
       "      <td>No</td>\n",
       "      <td>3</td>\n",
       "      <td>19.50</td>\n",
       "      <td>150.35</td>\n",
       "      <td>No</td>\n",
       "      <td>3</td>\n",
       "      <td>None</td>\n",
       "      <td>1</td>\n",
       "      <td>Month-to-month</td>\n",
       "    </tr>\n",
       "    <tr>\n",
       "      <th>279</th>\n",
       "      <td>2</td>\n",
       "      <td>Mailed check</td>\n",
       "      <td>4946-EDSEW</td>\n",
       "      <td>Female</td>\n",
       "      <td>0</td>\n",
       "      <td>Yes</td>\n",
       "      <td>Yes</td>\n",
       "      <td>11</td>\n",
       "      <td>Yes</td>\n",
       "      <td>No</td>\n",
       "      <td>...</td>\n",
       "      <td>1</td>\n",
       "      <td>Yes</td>\n",
       "      <td>2</td>\n",
       "      <td>19.25</td>\n",
       "      <td>180.3</td>\n",
       "      <td>Yes</td>\n",
       "      <td>3</td>\n",
       "      <td>None</td>\n",
       "      <td>1</td>\n",
       "      <td>Month-to-month</td>\n",
       "    </tr>\n",
       "    <tr>\n",
       "      <th>5144</th>\n",
       "      <td>2</td>\n",
       "      <td>Mailed check</td>\n",
       "      <td>6478-HRRCZ</td>\n",
       "      <td>Male</td>\n",
       "      <td>0</td>\n",
       "      <td>Yes</td>\n",
       "      <td>No</td>\n",
       "      <td>32</td>\n",
       "      <td>Yes</td>\n",
       "      <td>No</td>\n",
       "      <td>...</td>\n",
       "      <td>2</td>\n",
       "      <td>No</td>\n",
       "      <td>2</td>\n",
       "      <td>70.50</td>\n",
       "      <td>2201.75</td>\n",
       "      <td>No</td>\n",
       "      <td>1</td>\n",
       "      <td>DSL</td>\n",
       "      <td>2</td>\n",
       "      <td>One year</td>\n",
       "    </tr>\n",
       "    <tr>\n",
       "      <th>5403</th>\n",
       "      <td>3</td>\n",
       "      <td>Bank transfer (automatic)</td>\n",
       "      <td>0902-XKXPN</td>\n",
       "      <td>Male</td>\n",
       "      <td>0</td>\n",
       "      <td>Yes</td>\n",
       "      <td>Yes</td>\n",
       "      <td>69</td>\n",
       "      <td>Yes</td>\n",
       "      <td>No</td>\n",
       "      <td>...</td>\n",
       "      <td>3</td>\n",
       "      <td>No</td>\n",
       "      <td>3</td>\n",
       "      <td>20.20</td>\n",
       "      <td>1376.5</td>\n",
       "      <td>No</td>\n",
       "      <td>3</td>\n",
       "      <td>None</td>\n",
       "      <td>3</td>\n",
       "      <td>Two year</td>\n",
       "    </tr>\n",
       "  </tbody>\n",
       "</table>\n",
       "<p>5 rows × 27 columns</p>\n",
       "</div>"
      ],
      "text/plain": [
       "     payment_type_id               payment_type customer_id  gender  \\\n",
       "5857               3  Bank transfer (automatic)  7996-BPXHY  Female   \n",
       "408                3  Bank transfer (automatic)  7727-SHVZV  Female   \n",
       "279                2               Mailed check  4946-EDSEW  Female   \n",
       "5144               2               Mailed check  6478-HRRCZ    Male   \n",
       "5403               3  Bank transfer (automatic)  0902-XKXPN    Male   \n",
       "\n",
       "      senior_citizen partner dependents  tenure phone_service multiple_lines  \\\n",
       "5857               0     Yes        Yes      13           Yes            Yes   \n",
       "408                0      No         No       9           Yes             No   \n",
       "279                0     Yes        Yes      11           Yes             No   \n",
       "5144               0     Yes         No      32           Yes             No   \n",
       "5403               0     Yes        Yes      69           Yes             No   \n",
       "\n",
       "      ... contract_type_id paperless_billing payment_type_id monthly_charges  \\\n",
       "5857  ...                3               Yes               3           25.00   \n",
       "408   ...                1                No               3           19.50   \n",
       "279   ...                1               Yes               2           19.25   \n",
       "5144  ...                2                No               2           70.50   \n",
       "5403  ...                3                No               3           20.20   \n",
       "\n",
       "     total_charges churn internet_service_type_id  internet_service_type  \\\n",
       "5857         332.5    No                        3                   None   \n",
       "408         150.35    No                        3                   None   \n",
       "279          180.3   Yes                        3                   None   \n",
       "5144       2201.75    No                        1                    DSL   \n",
       "5403        1376.5    No                        3                   None   \n",
       "\n",
       "     contract_type_id   contract_type  \n",
       "5857                3        Two year  \n",
       "408                 1  Month-to-month  \n",
       "279                 1  Month-to-month  \n",
       "5144                2        One year  \n",
       "5403                3        Two year  \n",
       "\n",
       "[5 rows x 27 columns]"
      ]
     },
     "execution_count": 3,
     "metadata": {},
     "output_type": "execute_result"
    }
   ],
   "source": [
    "# take a look at our dataframe\n",
    "df.sample(5)"
   ]
  },
  {
   "cell_type": "code",
   "execution_count": 4,
   "metadata": {},
   "outputs": [
    {
     "name": "stdout",
     "output_type": "stream",
     "text": [
      "My dataframe has 7043 rows and 27 columns\n"
     ]
    }
   ],
   "source": [
    "print('My dataframe has', df.shape[0], 'rows and', df.shape[1], 'columns')"
   ]
  },
  {
   "cell_type": "code",
   "execution_count": 5,
   "metadata": {},
   "outputs": [
    {
     "name": "stdout",
     "output_type": "stream",
     "text": [
      "<class 'pandas.core.frame.DataFrame'>\n",
      "RangeIndex: 7043 entries, 0 to 7042\n",
      "Data columns (total 27 columns):\n",
      " #   Column                    Non-Null Count  Dtype  \n",
      "---  ------                    --------------  -----  \n",
      " 0   payment_type_id           7043 non-null   int64  \n",
      " 1   payment_type              7043 non-null   object \n",
      " 2   customer_id               7043 non-null   object \n",
      " 3   gender                    7043 non-null   object \n",
      " 4   senior_citizen            7043 non-null   int64  \n",
      " 5   partner                   7043 non-null   object \n",
      " 6   dependents                7043 non-null   object \n",
      " 7   tenure                    7043 non-null   int64  \n",
      " 8   phone_service             7043 non-null   object \n",
      " 9   multiple_lines            7043 non-null   object \n",
      " 10  internet_service_type_id  7043 non-null   int64  \n",
      " 11  online_security           7043 non-null   object \n",
      " 12  online_backup             7043 non-null   object \n",
      " 13  device_protection         7043 non-null   object \n",
      " 14  tech_support              7043 non-null   object \n",
      " 15  streaming_tv              7043 non-null   object \n",
      " 16  streaming_movies          7043 non-null   object \n",
      " 17  contract_type_id          7043 non-null   int64  \n",
      " 18  paperless_billing         7043 non-null   object \n",
      " 19  payment_type_id           7043 non-null   int64  \n",
      " 20  monthly_charges           7043 non-null   float64\n",
      " 21  total_charges             7043 non-null   object \n",
      " 22  churn                     7043 non-null   object \n",
      " 23  internet_service_type_id  7043 non-null   int64  \n",
      " 24  internet_service_type     7043 non-null   object \n",
      " 25  contract_type_id          7043 non-null   int64  \n",
      " 26  contract_type             7043 non-null   object \n",
      "dtypes: float64(1), int64(8), object(18)\n",
      "memory usage: 1.5+ MB\n"
     ]
    }
   ],
   "source": [
    "# let's take a look at our columns and data types.\n",
    "df.info()"
   ]
  },
  {
   "cell_type": "markdown",
   "metadata": {},
   "source": [
    "## Acquire takeaways:\n",
    "- The data is imported from my sql query.\n",
    "- The original dataframe has 7043 rows and 27 columns.\n",
    "- There are duplicate columns from the query.\n",
    "- Many columns we need to convert to flag columns for exploration and modeling."
   ]
  },
  {
   "cell_type": "markdown",
   "metadata": {},
   "source": [
    "## PREPARE"
   ]
  },
  {
   "cell_type": "code",
   "execution_count": 6,
   "metadata": {},
   "outputs": [
    {
     "name": "stdout",
     "output_type": "stream",
     "text": [
      "payment_type\n",
      "Electronic check             1071\n",
      "Mailed check                  308\n",
      "Bank transfer (automatic)     258\n",
      "Credit card (automatic)       232\n",
      "Name: payment_type, dtype: int64\n",
      "-------------\n",
      "gender\n",
      "Female    939\n",
      "Male      930\n",
      "Name: gender, dtype: int64\n",
      "-------------\n",
      "senior_citizen\n",
      "0    1393\n",
      "1     476\n",
      "Name: senior_citizen, dtype: int64\n",
      "-------------\n",
      "partner\n",
      "No     1200\n",
      "Yes     669\n",
      "Name: partner, dtype: int64\n",
      "-------------\n",
      "dependents\n",
      "No     1543\n",
      "Yes     326\n",
      "Name: dependents, dtype: int64\n",
      "-------------\n",
      "phone_service\n",
      "Yes    1699\n",
      "No      170\n",
      "Name: phone_service, dtype: int64\n",
      "-------------\n",
      "multiple_lines\n",
      "Yes                 850\n",
      "No                  849\n",
      "No phone service    170\n",
      "Name: multiple_lines, dtype: int64\n",
      "-------------\n",
      "online_security\n",
      "No                     1461\n",
      "Yes                     295\n",
      "No internet service     113\n",
      "Name: online_security, dtype: int64\n",
      "-------------\n",
      "online_backup\n",
      "No                     1233\n",
      "Yes                     523\n",
      "No internet service     113\n",
      "Name: online_backup, dtype: int64\n",
      "-------------\n",
      "device_protection\n",
      "No                     1211\n",
      "Yes                     545\n",
      "No internet service     113\n",
      "Name: device_protection, dtype: int64\n",
      "-------------\n",
      "tech_support\n",
      "No                     1446\n",
      "Yes                     310\n",
      "No internet service     113\n",
      "Name: tech_support, dtype: int64\n",
      "-------------\n",
      "streaming_tv\n",
      "No                     942\n",
      "Yes                    814\n",
      "No internet service    113\n",
      "Name: streaming_tv, dtype: int64\n",
      "-------------\n",
      "streaming_movies\n",
      "No                     938\n",
      "Yes                    818\n",
      "No internet service    113\n",
      "Name: streaming_movies, dtype: int64\n",
      "-------------\n",
      "paperless_billing\n",
      "Yes    1400\n",
      "No      469\n",
      "Name: paperless_billing, dtype: int64\n",
      "-------------\n",
      "churn\n",
      "Yes    1869\n",
      "Name: churn, dtype: int64\n",
      "-------------\n",
      "internet_service_type\n",
      "Fiber optic    1297\n",
      "DSL             459\n",
      "None            113\n",
      "Name: internet_service_type, dtype: int64\n",
      "-------------\n",
      "contract_type\n",
      "Month-to-month    1655\n",
      "One year           166\n",
      "Two year            48\n",
      "Name: contract_type, dtype: int64\n",
      "-------------\n"
     ]
    }
   ],
   "source": [
    "# Let's take a quick look at my values for specific columns\n",
    "churned_df = df[df['churn']=='Yes']\n",
    "explore.value_counts(churned_df)"
   ]
  },
  {
   "cell_type": "markdown",
   "metadata": {},
   "source": [
    "- Right off the bat I can see which columns don't appear to have an obvious association to churn:\n",
    " - streaming_movies\n",
    " - streaming_tv\n",
    " - multiple_lines\n",
    " - gender\n",
    " -------------\n",
    "- This helps me summarize which features may be more important for my dataframe."
   ]
  },
  {
   "cell_type": "code",
   "execution_count": 7,
   "metadata": {},
   "outputs": [],
   "source": [
    "# clean my data\n",
    "df = prepare.prep_telco_data(df)"
   ]
  },
  {
   "cell_type": "code",
   "execution_count": 8,
   "metadata": {},
   "outputs": [
    {
     "data": {
      "text/html": [
       "<div>\n",
       "<style scoped>\n",
       "    .dataframe tbody tr th:only-of-type {\n",
       "        vertical-align: middle;\n",
       "    }\n",
       "\n",
       "    .dataframe tbody tr th {\n",
       "        vertical-align: top;\n",
       "    }\n",
       "\n",
       "    .dataframe thead th {\n",
       "        text-align: right;\n",
       "    }\n",
       "</style>\n",
       "<table border=\"1\" class=\"dataframe\">\n",
       "  <thead>\n",
       "    <tr style=\"text-align: right;\">\n",
       "      <th></th>\n",
       "      <th>500</th>\n",
       "      <th>3264</th>\n",
       "      <th>5477</th>\n",
       "    </tr>\n",
       "  </thead>\n",
       "  <tbody>\n",
       "    <tr>\n",
       "      <th>payment_type</th>\n",
       "      <td>Mailed check</td>\n",
       "      <td>Credit card (automatic)</td>\n",
       "      <td>Bank transfer (automatic)</td>\n",
       "    </tr>\n",
       "    <tr>\n",
       "      <th>customer_id</th>\n",
       "      <td>9441-QHEVC</td>\n",
       "      <td>4959-JOSRX</td>\n",
       "      <td>2007-QVGAW</td>\n",
       "    </tr>\n",
       "    <tr>\n",
       "      <th>senior_citizen</th>\n",
       "      <td>0</td>\n",
       "      <td>0</td>\n",
       "      <td>0</td>\n",
       "    </tr>\n",
       "    <tr>\n",
       "      <th>partner</th>\n",
       "      <td>0</td>\n",
       "      <td>1</td>\n",
       "      <td>1</td>\n",
       "    </tr>\n",
       "    <tr>\n",
       "      <th>dependents</th>\n",
       "      <td>0</td>\n",
       "      <td>0</td>\n",
       "      <td>1</td>\n",
       "    </tr>\n",
       "    <tr>\n",
       "      <th>tenure_in_months</th>\n",
       "      <td>1</td>\n",
       "      <td>2</td>\n",
       "      <td>68</td>\n",
       "    </tr>\n",
       "    <tr>\n",
       "      <th>phone_service</th>\n",
       "      <td>1</td>\n",
       "      <td>1</td>\n",
       "      <td>1</td>\n",
       "    </tr>\n",
       "    <tr>\n",
       "      <th>online_security</th>\n",
       "      <td>0</td>\n",
       "      <td>0</td>\n",
       "      <td>0</td>\n",
       "    </tr>\n",
       "    <tr>\n",
       "      <th>online_backup</th>\n",
       "      <td>0</td>\n",
       "      <td>0</td>\n",
       "      <td>0</td>\n",
       "    </tr>\n",
       "    <tr>\n",
       "      <th>device_protection</th>\n",
       "      <td>0</td>\n",
       "      <td>0</td>\n",
       "      <td>0</td>\n",
       "    </tr>\n",
       "    <tr>\n",
       "      <th>tech_support</th>\n",
       "      <td>0</td>\n",
       "      <td>0</td>\n",
       "      <td>0</td>\n",
       "    </tr>\n",
       "    <tr>\n",
       "      <th>paperless_billing</th>\n",
       "      <td>0</td>\n",
       "      <td>1</td>\n",
       "      <td>1</td>\n",
       "    </tr>\n",
       "    <tr>\n",
       "      <th>monthly_charges</th>\n",
       "      <td>19.1</td>\n",
       "      <td>44.6</td>\n",
       "      <td>19.35</td>\n",
       "    </tr>\n",
       "    <tr>\n",
       "      <th>total_charges</th>\n",
       "      <td>19.1</td>\n",
       "      <td>80.55</td>\n",
       "      <td>1292.65</td>\n",
       "    </tr>\n",
       "    <tr>\n",
       "      <th>churn</th>\n",
       "      <td>0</td>\n",
       "      <td>1</td>\n",
       "      <td>0</td>\n",
       "    </tr>\n",
       "    <tr>\n",
       "      <th>internet_service_type</th>\n",
       "      <td>None</td>\n",
       "      <td>DSL</td>\n",
       "      <td>None</td>\n",
       "    </tr>\n",
       "    <tr>\n",
       "      <th>contract_type</th>\n",
       "      <td>Month-to-month</td>\n",
       "      <td>Month-to-month</td>\n",
       "      <td>Two year</td>\n",
       "    </tr>\n",
       "  </tbody>\n",
       "</table>\n",
       "</div>"
      ],
      "text/plain": [
       "                                 500                      3264  \\\n",
       "payment_type             Mailed check  Credit card (automatic)   \n",
       "customer_id                9441-QHEVC               4959-JOSRX   \n",
       "senior_citizen                      0                        0   \n",
       "partner                             0                        1   \n",
       "dependents                          0                        0   \n",
       "tenure_in_months                    1                        2   \n",
       "phone_service                       1                        1   \n",
       "online_security                     0                        0   \n",
       "online_backup                       0                        0   \n",
       "device_protection                   0                        0   \n",
       "tech_support                        0                        0   \n",
       "paperless_billing                   0                        1   \n",
       "monthly_charges                  19.1                     44.6   \n",
       "total_charges                    19.1                    80.55   \n",
       "churn                               0                        1   \n",
       "internet_service_type            None                      DSL   \n",
       "contract_type          Month-to-month           Month-to-month   \n",
       "\n",
       "                                            5477  \n",
       "payment_type           Bank transfer (automatic)  \n",
       "customer_id                           2007-QVGAW  \n",
       "senior_citizen                                 0  \n",
       "partner                                        1  \n",
       "dependents                                     1  \n",
       "tenure_in_months                              68  \n",
       "phone_service                                  1  \n",
       "online_security                                0  \n",
       "online_backup                                  0  \n",
       "device_protection                              0  \n",
       "tech_support                                   0  \n",
       "paperless_billing                              1  \n",
       "monthly_charges                            19.35  \n",
       "total_charges                            1292.65  \n",
       "churn                                          0  \n",
       "internet_service_type                       None  \n",
       "contract_type                           Two year  "
      ]
     },
     "execution_count": 8,
     "metadata": {},
     "output_type": "execute_result"
    }
   ],
   "source": [
    "df.sample(3).T"
   ]
  },
  {
   "cell_type": "code",
   "execution_count": 9,
   "metadata": {},
   "outputs": [
    {
     "data": {
      "text/plain": [
       "payment_type              object\n",
       "customer_id               object\n",
       "senior_citizen             int64\n",
       "partner                    int64\n",
       "dependents                 int64\n",
       "tenure_in_months           int64\n",
       "phone_service              int64\n",
       "online_security            int64\n",
       "online_backup              int64\n",
       "device_protection          int64\n",
       "tech_support               int64\n",
       "paperless_billing          int64\n",
       "monthly_charges          float64\n",
       "total_charges            float64\n",
       "churn                      int64\n",
       "internet_service_type     object\n",
       "contract_type             object\n",
       "dtype: object"
      ]
     },
     "execution_count": 9,
     "metadata": {},
     "output_type": "execute_result"
    }
   ],
   "source": [
    "df.dtypes"
   ]
  },
  {
   "cell_type": "code",
   "execution_count": 10,
   "metadata": {},
   "outputs": [
    {
     "name": "stdout",
     "output_type": "stream",
     "text": [
      "My dataframe now has 7032 rows and 17 columns\n"
     ]
    }
   ],
   "source": [
    "print('My dataframe now has', df.shape[0], 'rows and', df.shape[1], 'columns')"
   ]
  },
  {
   "cell_type": "code",
   "execution_count": null,
   "metadata": {},
   "outputs": [],
   "source": []
  },
  {
   "cell_type": "code",
   "execution_count": 11,
   "metadata": {},
   "outputs": [],
   "source": [
    "# now I will split my data\n",
    "train, validate, test = prepare.telco_split(df)"
   ]
  },
  {
   "cell_type": "code",
   "execution_count": 12,
   "metadata": {},
   "outputs": [
    {
     "data": {
      "text/plain": [
       "((3937, 17), (1688, 17), (1407, 17))"
      ]
     },
     "execution_count": 12,
     "metadata": {},
     "output_type": "execute_result"
    }
   ],
   "source": [
    "# new shape of splitted data\n",
    "train.shape, validate.shape, test.shape"
   ]
  },
  {
   "cell_type": "code",
   "execution_count": 13,
   "metadata": {},
   "outputs": [
    {
     "data": {
      "text/html": [
       "<div>\n",
       "<style scoped>\n",
       "    .dataframe tbody tr th:only-of-type {\n",
       "        vertical-align: middle;\n",
       "    }\n",
       "\n",
       "    .dataframe tbody tr th {\n",
       "        vertical-align: top;\n",
       "    }\n",
       "\n",
       "    .dataframe thead th {\n",
       "        text-align: right;\n",
       "    }\n",
       "</style>\n",
       "<table border=\"1\" class=\"dataframe\">\n",
       "  <thead>\n",
       "    <tr style=\"text-align: right;\">\n",
       "      <th></th>\n",
       "      <th>5399</th>\n",
       "      <th>2876</th>\n",
       "      <th>659</th>\n",
       "      <th>5843</th>\n",
       "      <th>2229</th>\n",
       "    </tr>\n",
       "  </thead>\n",
       "  <tbody>\n",
       "    <tr>\n",
       "      <th>payment_type</th>\n",
       "      <td>Mailed check</td>\n",
       "      <td>Electronic check</td>\n",
       "      <td>Mailed check</td>\n",
       "      <td>Bank transfer (automatic)</td>\n",
       "      <td>Bank transfer (automatic)</td>\n",
       "    </tr>\n",
       "    <tr>\n",
       "      <th>customer_id</th>\n",
       "      <td>0831-JNISG</td>\n",
       "      <td>1963-SVUCV</td>\n",
       "      <td>0611-DFXKO</td>\n",
       "      <td>7696-CFTAT</td>\n",
       "      <td>7916-VCCPB</td>\n",
       "    </tr>\n",
       "    <tr>\n",
       "      <th>senior_citizen</th>\n",
       "      <td>0</td>\n",
       "      <td>0</td>\n",
       "      <td>0</td>\n",
       "      <td>0</td>\n",
       "      <td>0</td>\n",
       "    </tr>\n",
       "    <tr>\n",
       "      <th>partner</th>\n",
       "      <td>1</td>\n",
       "      <td>0</td>\n",
       "      <td>1</td>\n",
       "      <td>1</td>\n",
       "      <td>1</td>\n",
       "    </tr>\n",
       "    <tr>\n",
       "      <th>dependents</th>\n",
       "      <td>1</td>\n",
       "      <td>0</td>\n",
       "      <td>0</td>\n",
       "      <td>1</td>\n",
       "      <td>1</td>\n",
       "    </tr>\n",
       "    <tr>\n",
       "      <th>tenure_in_months</th>\n",
       "      <td>71</td>\n",
       "      <td>1</td>\n",
       "      <td>20</td>\n",
       "      <td>37</td>\n",
       "      <td>16</td>\n",
       "    </tr>\n",
       "    <tr>\n",
       "      <th>phone_service</th>\n",
       "      <td>1</td>\n",
       "      <td>1</td>\n",
       "      <td>1</td>\n",
       "      <td>1</td>\n",
       "      <td>1</td>\n",
       "    </tr>\n",
       "    <tr>\n",
       "      <th>online_security</th>\n",
       "      <td>0</td>\n",
       "      <td>0</td>\n",
       "      <td>0</td>\n",
       "      <td>0</td>\n",
       "      <td>0</td>\n",
       "    </tr>\n",
       "    <tr>\n",
       "      <th>online_backup</th>\n",
       "      <td>0</td>\n",
       "      <td>0</td>\n",
       "      <td>0</td>\n",
       "      <td>0</td>\n",
       "      <td>1</td>\n",
       "    </tr>\n",
       "    <tr>\n",
       "      <th>device_protection</th>\n",
       "      <td>0</td>\n",
       "      <td>0</td>\n",
       "      <td>0</td>\n",
       "      <td>0</td>\n",
       "      <td>0</td>\n",
       "    </tr>\n",
       "    <tr>\n",
       "      <th>tech_support</th>\n",
       "      <td>0</td>\n",
       "      <td>0</td>\n",
       "      <td>0</td>\n",
       "      <td>0</td>\n",
       "      <td>0</td>\n",
       "    </tr>\n",
       "    <tr>\n",
       "      <th>paperless_billing</th>\n",
       "      <td>0</td>\n",
       "      <td>0</td>\n",
       "      <td>1</td>\n",
       "      <td>0</td>\n",
       "      <td>0</td>\n",
       "    </tr>\n",
       "    <tr>\n",
       "      <th>monthly_charges</th>\n",
       "      <td>19.8</td>\n",
       "      <td>45.3</td>\n",
       "      <td>89</td>\n",
       "      <td>19.8</td>\n",
       "      <td>73.25</td>\n",
       "    </tr>\n",
       "    <tr>\n",
       "      <th>total_charges</th>\n",
       "      <td>1396.25</td>\n",
       "      <td>45.3</td>\n",
       "      <td>1820.45</td>\n",
       "      <td>726.1</td>\n",
       "      <td>1195.75</td>\n",
       "    </tr>\n",
       "    <tr>\n",
       "      <th>churn</th>\n",
       "      <td>0</td>\n",
       "      <td>1</td>\n",
       "      <td>1</td>\n",
       "      <td>0</td>\n",
       "      <td>0</td>\n",
       "    </tr>\n",
       "    <tr>\n",
       "      <th>internet_service_type</th>\n",
       "      <td>None</td>\n",
       "      <td>DSL</td>\n",
       "      <td>Fiber optic</td>\n",
       "      <td>None</td>\n",
       "      <td>Fiber optic</td>\n",
       "    </tr>\n",
       "    <tr>\n",
       "      <th>contract_type</th>\n",
       "      <td>Two year</td>\n",
       "      <td>Month-to-month</td>\n",
       "      <td>Month-to-month</td>\n",
       "      <td>Two year</td>\n",
       "      <td>Month-to-month</td>\n",
       "    </tr>\n",
       "  </tbody>\n",
       "</table>\n",
       "</div>"
      ],
      "text/plain": [
       "                               5399              2876            659   \\\n",
       "payment_type           Mailed check  Electronic check    Mailed check   \n",
       "customer_id              0831-JNISG        1963-SVUCV      0611-DFXKO   \n",
       "senior_citizen                    0                 0               0   \n",
       "partner                           1                 0               1   \n",
       "dependents                        1                 0               0   \n",
       "tenure_in_months                 71                 1              20   \n",
       "phone_service                     1                 1               1   \n",
       "online_security                   0                 0               0   \n",
       "online_backup                     0                 0               0   \n",
       "device_protection                 0                 0               0   \n",
       "tech_support                      0                 0               0   \n",
       "paperless_billing                 0                 0               1   \n",
       "monthly_charges                19.8              45.3              89   \n",
       "total_charges               1396.25              45.3         1820.45   \n",
       "churn                             0                 1               1   \n",
       "internet_service_type          None               DSL     Fiber optic   \n",
       "contract_type              Two year    Month-to-month  Month-to-month   \n",
       "\n",
       "                                            5843                       2229  \n",
       "payment_type           Bank transfer (automatic)  Bank transfer (automatic)  \n",
       "customer_id                           7696-CFTAT                 7916-VCCPB  \n",
       "senior_citizen                                 0                          0  \n",
       "partner                                        1                          1  \n",
       "dependents                                     1                          1  \n",
       "tenure_in_months                              37                         16  \n",
       "phone_service                                  1                          1  \n",
       "online_security                                0                          0  \n",
       "online_backup                                  0                          1  \n",
       "device_protection                              0                          0  \n",
       "tech_support                                   0                          0  \n",
       "paperless_billing                              0                          0  \n",
       "monthly_charges                             19.8                      73.25  \n",
       "total_charges                              726.1                    1195.75  \n",
       "churn                                          0                          0  \n",
       "internet_service_type                       None                Fiber optic  \n",
       "contract_type                           Two year             Month-to-month  "
      ]
     },
     "execution_count": 13,
     "metadata": {},
     "output_type": "execute_result"
    }
   ],
   "source": [
    "train.head().T"
   ]
  },
  {
   "cell_type": "markdown",
   "metadata": {},
   "source": [
    "## Prepare Takeaways:\n",
    " - I changed my string columns to flag columns\n",
    " - I dropped any nulls (from total charges)\n",
    " - I dropped unnecessary columns\n",
    " - I split my data for exploration and model\n",
    " - I will later create dummies for my-non binary columns\n",
    " ---------------"
   ]
  },
  {
   "cell_type": "markdown",
   "metadata": {},
   "source": [
    "## EXPLORE"
   ]
  },
  {
   "cell_type": "code",
   "execution_count": 14,
   "metadata": {},
   "outputs": [
    {
     "data": {
      "image/png": "[encoded data removed]",
      "text/plain": [
       "<Figure size 576x864 with 2 Axes>"
      ]
     },
     "metadata": {
      "needs_background": "light"
     },
     "output_type": "display_data"
    }
   ],
   "source": [
    "# Take a look at a heatmap of correlation to churn\n",
    "plt.figure(figsize=(8,12))\n",
    "churn_heatmap = sns.heatmap(train.corr()[['churn']].sort_values(by='churn', ascending=False), cmap='PiYG', vmin=-.5, vmax=.5, annot=True)\n",
    "churn_heatmap.set_title('Feautures Correlating with Churn')\n",
    "plt.show()"
   ]
  },
  {
   "cell_type": "markdown",
   "metadata": {},
   "source": [
    "- We can see from our heatmap that there is not much correlation at all to:\n",
    "    - phone_service\n",
    "    - device_protection\n",
    "    - online_backup"
   ]
  },
  {
   "cell_type": "code",
   "execution_count": 15,
   "metadata": {},
   "outputs": [
    {
     "data": {
      "image/png": "[encoded data removed]",
      "text/plain": [
       "<Figure size 720x360 with 1 Axes>"
      ]
     },
     "metadata": {},
     "output_type": "display_data"
    },
    {
     "data": {
      "image/png": "[encoded data removed]",
      "text/plain": [
       "<Figure size 720x360 with 1 Axes>"
      ]
     },
     "metadata": {},
     "output_type": "display_data"
    },
    {
     "data": {
      "image/png": "[encoded data removed]",
      "text/plain": [
       "<Figure size 720x360 with 1 Axes>"
      ]
     },
     "metadata": {},
     "output_type": "display_data"
    },
    {
     "data": {
      "image/png": "[encoded data removed]",
      "text/plain": [
       "<Figure size 720x360 with 1 Axes>"
      ]
     },
     "metadata": {},
     "output_type": "display_data"
    },
    {
     "data": {
      "image/png": "[encoded data removed]",
      "text/plain": [
       "<Figure size 720x360 with 1 Axes>"
      ]
     },
     "metadata": {},
     "output_type": "display_data"
    },
    {
     "data": {
      "image/png": "[encoded data removed]",
      "text/plain": [
       "<Figure size 720x360 with 1 Axes>"
      ]
     },
     "metadata": {},
     "output_type": "display_data"
    },
    {
     "data": {
      "image/png": "[encoded data removed]",
      "text/plain": [
       "<Figure size 720x360 with 1 Axes>"
      ]
     },
     "metadata": {},
     "output_type": "display_data"
    },
    {
     "data": {
      "image/png": "[encoded data removed]",
      "text/plain": [
       "<Figure size 720x360 with 1 Axes>"
      ]
     },
     "metadata": {},
     "output_type": "display_data"
    },
    {
     "data": {
      "image/png": "[encoded data removed]",
      "text/plain": [
       "<Figure size 720x360 with 1 Axes>"
      ]
     },
     "metadata": {},
     "output_type": "display_data"
    }
   ],
   "source": [
    "# Let's dive deeper into some of our features to analyze further obvious causes of churn\n",
    "\n",
    "columns = ['payment_type', 'senior_citizen', 'partner', 'dependents', 'online_security',\n",
    "          'tech_support', 'paperless_billing', 'internet_service_type', 'contract_type']\n",
    "\n",
    "sns.set_theme(style=\"darkgrid\")\n",
    "for i in train[columns]:\n",
    "    plt.figure(figsize=(10, 5))\n",
    "    sns.countplot(data=train, x=i, hue='churn', palette=\"Set2\")\n",
    "    plt.show()"
   ]
  },
  {
   "cell_type": "code",
   "execution_count": 16,
   "metadata": {},
   "outputs": [
    {
     "data": {
      "image/png": "[encoded data removed]",
      "text/plain": [
       "<Figure size 720x504 with 1 Axes>"
      ]
     },
     "metadata": {},
     "output_type": "display_data"
    }
   ],
   "source": [
    "# Another look at comparison of monthly charges\n",
    "plt.figure(figsize=(10,7))\n",
    "train.monthly_charges.hist(color='g')\n",
    "train[train['churn']==1].monthly_charges.hist(color='coral')\n",
    "plt.xlabel('monthly charges')\n",
    "plt.ylabel('amount of customers')\n",
    "plt.title('Comparison of monthly charges')\n",
    "plt.show()"
   ]
  },
  {
   "cell_type": "code",
   "execution_count": 17,
   "metadata": {},
   "outputs": [
    {
     "data": {
      "image/png": "[encoded data removed]",
      "text/plain": [
       "<Figure size 720x504 with 1 Axes>"
      ]
     },
     "metadata": {},
     "output_type": "display_data"
    }
   ],
   "source": [
    "# A further look at comparison of tenure\n",
    "plt.figure(figsize=(10,7))\n",
    "train.tenure_in_months.hist(color='g')\n",
    "train[train['churn']==1].tenure_in_months.hist(color='coral')\n",
    "plt.xlabel('tenure (months)')\n",
    "plt.ylabel('amount of customers')\n",
    "plt.title('Comparison of tenure')\n",
    "plt.show()"
   ]
  },
  {
   "cell_type": "markdown",
   "metadata": {},
   "source": [
    "-------\n",
    "Let's further analyze associations with paperless billing, partners, and monthly charges.\n"
   ]
  },
  {
   "cell_type": "markdown",
   "metadata": {},
   "source": [
    "Conduct a $chi^2$ test for independence between paperless billing and churn\\\n",
    "${H_0}$ : There is no association with paperless billing and customer churn\\\n",
    "${H_a}$ : Paperless billing does have an association to churn"
   ]
  },
  {
   "cell_type": "code",
   "execution_count": 19,
   "metadata": {},
   "outputs": [
    {
     "name": "stdout",
     "output_type": "stream",
     "text": [
      "Observed\n",
      "\n",
      "[[1382 1507]\n",
      " [ 276  772]]\n",
      "---\n",
      "Expected\n",
      "\n",
      "[[1216 1672]\n",
      " [ 441  606]]\n",
      "---\n",
      "\n",
      "chi^2 = 144.9512\n",
      "p     = 2.201e-33\n"
     ]
    }
   ],
   "source": [
    "# we set our alpha up for statistical testing, confidence level at 95%\n",
    "alpha = 0.05\n",
    "\n",
    "observed = pd.crosstab(train.churn, train.paperless_billing)\n",
    "\n",
    "# conduct our chi2 test\n",
    "chi2, p, degf, expected = stats.chi2_contingency(observed)\n",
    "\n",
    "\n",
    "print('Observed\\n')\n",
    "print(observed.values)\n",
    "print('---\\nExpected\\n')\n",
    "print(expected.astype(int))\n",
    "print('---\\n')\n",
    "print(f'chi^2 = {chi2:.4f}')\n",
    "print(f'p     = {p:.4}')"
   ]
  },
  {
   "cell_type": "code",
   "execution_count": 20,
   "metadata": {},
   "outputs": [
    {
     "name": "stdout",
     "output_type": "stream",
     "text": [
      "We reject the null hypothesis\n",
      "The two samples are associated\n"
     ]
    }
   ],
   "source": [
    "if p < alpha:\n",
    "    print('We reject the null hypothesis')\n",
    "    print('The two samples are associated')\n",
    "else:\n",
    "    print('We fail to reject the null hypothesis')"
   ]
  },
  {
   "cell_type": "markdown",
   "metadata": {},
   "source": [
    "---------\n",
    "Next, conduct another chi2 test for independence between partner and churn.\\\n",
    "${H_0}$ : Having a partner is independent from customer churn\\\n",
    "${H_a}$ : Having a partner does have an association to churn"
   ]
  },
  {
   "cell_type": "code",
   "execution_count": 21,
   "metadata": {},
   "outputs": [
    {
     "name": "stdout",
     "output_type": "stream",
     "text": [
      "Observed\n",
      "\n",
      "[[1376 1513]\n",
      " [ 666  382]]\n",
      "---\n",
      "Expected\n",
      "\n",
      "[[1498 1390]\n",
      " [ 543  504]]\n",
      "---\n",
      "\n",
      "chi^2 = 77.4423\n",
      "p     = 1.3665799090892278e-18\n"
     ]
    }
   ],
   "source": [
    "# set our alpha\n",
    "alpha = 0.05\n",
    "\n",
    "observed = pd.crosstab(train.churn, train.partner)\n",
    "\n",
    "# conduct a chi2 test\n",
    "chi2, p, degf, expected = stats.chi2_contingency(observed)\n",
    "\n",
    "# take a look at our results\n",
    "print('Observed\\n')\n",
    "print(observed.values)\n",
    "print('---\\nExpected\\n')\n",
    "print(expected.astype(int))\n",
    "print('---\\n')\n",
    "print(f'chi^2 = {chi2:.4f}')\n",
    "print(f'p     = {p:}')"
   ]
  },
  {
   "cell_type": "code",
   "execution_count": 22,
   "metadata": {},
   "outputs": [
    {
     "name": "stdout",
     "output_type": "stream",
     "text": [
      "We reject the null hypothesis\n",
      "The two samples are associated\n"
     ]
    }
   ],
   "source": [
    "if p < alpha:\n",
    "    print('We reject the null hypothesis')\n",
    "    print('The two samples are associated')\n",
    "else:\n",
    "    print('We fail to reject the null hypothesis')"
   ]
  },
  {
   "cell_type": "markdown",
   "metadata": {},
   "source": [
    "------------------------------------------------------------------------------\n",
    "- Lastly, take a look at mean of monthly charges of churned customers versus overall customers.\\\n",
    "- We will conduct a two sample, one tailed ttest.\\\n",
    "${H_0}$: Mean of monthly charges of churned customers = Mean of monthly charges of all customers.\\\n",
    "${H_a}$: Mean of monthly charges of churned customers > Mean of monthly charges of all customers."
   ]
  },
  {
   "cell_type": "code",
   "execution_count": 23,
   "metadata": {},
   "outputs": [
    {
     "data": {
      "text/plain": [
       "(12.897478777164558, 9.909789308393289e-36, 0.05)"
      ]
     },
     "execution_count": 23,
     "metadata": {},
     "output_type": "execute_result"
    }
   ],
   "source": [
    "# calculate t and p statistic\n",
    "churn_sample = train[train.churn == 1].monthly_charges\n",
    "overall_mean = train.monthly_charges.mean()\n",
    "\n",
    "t, p = stats.ttest_1samp(churn_sample, overall_mean)\n",
    "\n",
    "t, p/2, alpha"
   ]
  },
  {
   "cell_type": "code",
   "execution_count": 24,
   "metadata": {},
   "outputs": [
    {
     "name": "stdout",
     "output_type": "stream",
     "text": [
      "We reject the null hypothesis\n"
     ]
    }
   ],
   "source": [
    "if (p/2 < alpha) & (t > 0):\n",
    "    print(\"We reject the null hypothesis\")\n",
    "else:\n",
    "    print(\"We fail to reject the null hypothesis\")"
   ]
  },
  {
   "cell_type": "markdown",
   "metadata": {},
   "source": [
    "## Explore Takeaways:\n",
    "- The histplots tell confirm correlation with:\n",
    " - payment_type\n",
    " - senior_citizen\n",
    " - contract_type\n",
    " - internet_service_type\n",
    " - dependents\n",
    "\n",
    "- Our stats tests proved:\n",
    "    - Paperless billing is associated\n",
    "    - Monthly charges is associated\n",
    "    - Having a partner is also associated"
   ]
  },
  {
   "cell_type": "markdown",
   "metadata": {},
   "source": [
    "## MODEL & EVALUATE"
   ]
  },
  {
   "cell_type": "code",
   "execution_count": 25,
   "metadata": {},
   "outputs": [],
   "source": [
    "# keep my most valuable features on my split data and drop the rest\n",
    "features = ['payment_type', 'senior_citizen', 'contract_type',\n",
    "           'internet_service_type', 'dependents', 'paperless_billing',\n",
    "           'monthly_charges', 'partner', 'churn']\n",
    "\n",
    "train = train[features]\n",
    "validate = validate[features]\n",
    "test = test[features]"
   ]
  },
  {
   "cell_type": "code",
   "execution_count": 26,
   "metadata": {},
   "outputs": [],
   "source": [
    "train = prepare.create_dummies(train)\n",
    "validate = prepare.create_dummies(validate)\n",
    "test = prepare.create_dummies(test)"
   ]
  },
  {
   "cell_type": "code",
   "execution_count": 27,
   "metadata": {},
   "outputs": [
    {
     "data": {
      "text/plain": [
       "((3937, 13), (1688, 13), (1407, 13))"
      ]
     },
     "execution_count": 27,
     "metadata": {},
     "output_type": "execute_result"
    }
   ],
   "source": [
    "train.shape, validate.shape, test.shape"
   ]
  },
  {
   "cell_type": "code",
   "execution_count": 28,
   "metadata": {},
   "outputs": [
    {
     "data": {
      "text/html": [
       "<div>\n",
       "<style scoped>\n",
       "    .dataframe tbody tr th:only-of-type {\n",
       "        vertical-align: middle;\n",
       "    }\n",
       "\n",
       "    .dataframe tbody tr th {\n",
       "        vertical-align: top;\n",
       "    }\n",
       "\n",
       "    .dataframe thead th {\n",
       "        text-align: right;\n",
       "    }\n",
       "</style>\n",
       "<table border=\"1\" class=\"dataframe\">\n",
       "  <thead>\n",
       "    <tr style=\"text-align: right;\">\n",
       "      <th></th>\n",
       "      <th>2118</th>\n",
       "      <th>3916</th>\n",
       "      <th>6904</th>\n",
       "    </tr>\n",
       "  </thead>\n",
       "  <tbody>\n",
       "    <tr>\n",
       "      <th>senior_citizen</th>\n",
       "      <td>0.0</td>\n",
       "      <td>0.0</td>\n",
       "      <td>0.00</td>\n",
       "    </tr>\n",
       "    <tr>\n",
       "      <th>dependents</th>\n",
       "      <td>0.0</td>\n",
       "      <td>0.0</td>\n",
       "      <td>1.00</td>\n",
       "    </tr>\n",
       "    <tr>\n",
       "      <th>paperless_billing</th>\n",
       "      <td>1.0</td>\n",
       "      <td>0.0</td>\n",
       "      <td>0.00</td>\n",
       "    </tr>\n",
       "    <tr>\n",
       "      <th>monthly_charges</th>\n",
       "      <td>70.3</td>\n",
       "      <td>21.1</td>\n",
       "      <td>64.45</td>\n",
       "    </tr>\n",
       "    <tr>\n",
       "      <th>partner</th>\n",
       "      <td>1.0</td>\n",
       "      <td>0.0</td>\n",
       "      <td>1.00</td>\n",
       "    </tr>\n",
       "    <tr>\n",
       "      <th>churn</th>\n",
       "      <td>1.0</td>\n",
       "      <td>0.0</td>\n",
       "      <td>0.00</td>\n",
       "    </tr>\n",
       "    <tr>\n",
       "      <th>Credit card (automatic)</th>\n",
       "      <td>0.0</td>\n",
       "      <td>0.0</td>\n",
       "      <td>1.00</td>\n",
       "    </tr>\n",
       "    <tr>\n",
       "      <th>Electronic check</th>\n",
       "      <td>1.0</td>\n",
       "      <td>0.0</td>\n",
       "      <td>0.00</td>\n",
       "    </tr>\n",
       "    <tr>\n",
       "      <th>Mailed check</th>\n",
       "      <td>0.0</td>\n",
       "      <td>1.0</td>\n",
       "      <td>0.00</td>\n",
       "    </tr>\n",
       "    <tr>\n",
       "      <th>DSL</th>\n",
       "      <td>0.0</td>\n",
       "      <td>0.0</td>\n",
       "      <td>1.00</td>\n",
       "    </tr>\n",
       "    <tr>\n",
       "      <th>Fiber optic</th>\n",
       "      <td>1.0</td>\n",
       "      <td>0.0</td>\n",
       "      <td>0.00</td>\n",
       "    </tr>\n",
       "    <tr>\n",
       "      <th>One year</th>\n",
       "      <td>0.0</td>\n",
       "      <td>1.0</td>\n",
       "      <td>0.00</td>\n",
       "    </tr>\n",
       "    <tr>\n",
       "      <th>Two year</th>\n",
       "      <td>0.0</td>\n",
       "      <td>0.0</td>\n",
       "      <td>1.00</td>\n",
       "    </tr>\n",
       "  </tbody>\n",
       "</table>\n",
       "</div>"
      ],
      "text/plain": [
       "                         2118  3916   6904\n",
       "senior_citizen            0.0   0.0   0.00\n",
       "dependents                0.0   0.0   1.00\n",
       "paperless_billing         1.0   0.0   0.00\n",
       "monthly_charges          70.3  21.1  64.45\n",
       "partner                   1.0   0.0   1.00\n",
       "churn                     1.0   0.0   0.00\n",
       "Credit card (automatic)   0.0   0.0   1.00\n",
       "Electronic check          1.0   0.0   0.00\n",
       "Mailed check              0.0   1.0   0.00\n",
       "DSL                       0.0   0.0   1.00\n",
       "Fiber optic               1.0   0.0   0.00\n",
       "One year                  0.0   1.0   0.00\n",
       "Two year                  0.0   0.0   1.00"
      ]
     },
     "execution_count": 28,
     "metadata": {},
     "output_type": "execute_result"
    }
   ],
   "source": [
    "train.sample(3).T"
   ]
  },
  {
   "cell_type": "markdown",
   "metadata": {},
   "source": [
    "### Baseline Model"
   ]
  },
  {
   "cell_type": "code",
   "execution_count": 29,
   "metadata": {},
   "outputs": [
    {
     "data": {
      "text/plain": [
       "0    2889\n",
       "1    1048\n",
       "Name: churn, dtype: int64"
      ]
     },
     "execution_count": 29,
     "metadata": {},
     "output_type": "execute_result"
    }
   ],
   "source": [
    "# create a baseline\n",
    "train.churn.value_counts()"
   ]
  },
  {
   "cell_type": "code",
   "execution_count": 30,
   "metadata": {},
   "outputs": [
    {
     "data": {
      "text/html": [
       "<div>\n",
       "<style scoped>\n",
       "    .dataframe tbody tr th:only-of-type {\n",
       "        vertical-align: middle;\n",
       "    }\n",
       "\n",
       "    .dataframe tbody tr th {\n",
       "        vertical-align: top;\n",
       "    }\n",
       "\n",
       "    .dataframe thead th {\n",
       "        text-align: right;\n",
       "    }\n",
       "</style>\n",
       "<table border=\"1\" class=\"dataframe\">\n",
       "  <thead>\n",
       "    <tr style=\"text-align: right;\">\n",
       "      <th></th>\n",
       "      <th>3852</th>\n",
       "    </tr>\n",
       "  </thead>\n",
       "  <tbody>\n",
       "    <tr>\n",
       "      <th>senior_citizen</th>\n",
       "      <td>0.0</td>\n",
       "    </tr>\n",
       "    <tr>\n",
       "      <th>dependents</th>\n",
       "      <td>0.0</td>\n",
       "    </tr>\n",
       "    <tr>\n",
       "      <th>paperless_billing</th>\n",
       "      <td>1.0</td>\n",
       "    </tr>\n",
       "    <tr>\n",
       "      <th>monthly_charges</th>\n",
       "      <td>65.6</td>\n",
       "    </tr>\n",
       "    <tr>\n",
       "      <th>partner</th>\n",
       "      <td>0.0</td>\n",
       "    </tr>\n",
       "    <tr>\n",
       "      <th>churn</th>\n",
       "      <td>0.0</td>\n",
       "    </tr>\n",
       "    <tr>\n",
       "      <th>Credit card (automatic)</th>\n",
       "      <td>0.0</td>\n",
       "    </tr>\n",
       "    <tr>\n",
       "      <th>Electronic check</th>\n",
       "      <td>0.0</td>\n",
       "    </tr>\n",
       "    <tr>\n",
       "      <th>Mailed check</th>\n",
       "      <td>0.0</td>\n",
       "    </tr>\n",
       "    <tr>\n",
       "      <th>DSL</th>\n",
       "      <td>1.0</td>\n",
       "    </tr>\n",
       "    <tr>\n",
       "      <th>Fiber optic</th>\n",
       "      <td>0.0</td>\n",
       "    </tr>\n",
       "    <tr>\n",
       "      <th>One year</th>\n",
       "      <td>0.0</td>\n",
       "    </tr>\n",
       "    <tr>\n",
       "      <th>Two year</th>\n",
       "      <td>0.0</td>\n",
       "    </tr>\n",
       "    <tr>\n",
       "      <th>baseline</th>\n",
       "      <td>0.0</td>\n",
       "    </tr>\n",
       "  </tbody>\n",
       "</table>\n",
       "</div>"
      ],
      "text/plain": [
       "                         3852\n",
       "senior_citizen            0.0\n",
       "dependents                0.0\n",
       "paperless_billing         1.0\n",
       "monthly_charges          65.6\n",
       "partner                   0.0\n",
       "churn                     0.0\n",
       "Credit card (automatic)   0.0\n",
       "Electronic check          0.0\n",
       "Mailed check              0.0\n",
       "DSL                       1.0\n",
       "Fiber optic               0.0\n",
       "One year                  0.0\n",
       "Two year                  0.0\n",
       "baseline                  0.0"
      ]
     },
     "execution_count": 30,
     "metadata": {},
     "output_type": "execute_result"
    }
   ],
   "source": [
    "# the most common entry is 0 for not churned, so that is my baseline\n",
    "train['baseline'] = 0\n",
    "train.sample().T"
   ]
  },
  {
   "cell_type": "code",
   "execution_count": 31,
   "metadata": {},
   "outputs": [
    {
     "name": "stdout",
     "output_type": "stream",
     "text": [
      "              precision    recall  f1-score   support\n",
      "\n",
      "           0       0.73      1.00      0.85      2889\n",
      "           1       0.00      0.00      0.00      1048\n",
      "\n",
      "    accuracy                           0.73      3937\n",
      "   macro avg       0.37      0.50      0.42      3937\n",
      "weighted avg       0.54      0.73      0.62      3937\n",
      "\n"
     ]
    }
   ],
   "source": [
    "# create a classification report for our baseline model\n",
    "print(classification_report(train.churn, train.baseline))"
   ]
  },
  {
   "cell_type": "markdown",
   "metadata": {},
   "source": [
    "#### - Accuracy for my baseline is 73%"
   ]
  },
  {
   "cell_type": "code",
   "execution_count": 32,
   "metadata": {},
   "outputs": [],
   "source": [
    "# let's drop baseline for now since we don't need it anymore\n",
    "train.drop(columns = 'baseline', inplace=True)"
   ]
  },
  {
   "cell_type": "code",
   "execution_count": 33,
   "metadata": {},
   "outputs": [
    {
     "data": {
      "text/plain": [
       "senior_citizen               int64\n",
       "dependents                   int64\n",
       "paperless_billing            int64\n",
       "monthly_charges            float64\n",
       "partner                      int64\n",
       "churn                        int64\n",
       "Credit card (automatic)      uint8\n",
       "Electronic check             uint8\n",
       "Mailed check                 uint8\n",
       "DSL                          uint8\n",
       "Fiber optic                  uint8\n",
       "One year                     uint8\n",
       "Two year                     uint8\n",
       "dtype: object"
      ]
     },
     "execution_count": 33,
     "metadata": {},
     "output_type": "execute_result"
    }
   ],
   "source": [
    "# verify my features are the correct data types for my model\n",
    "train.dtypes"
   ]
  },
  {
   "cell_type": "code",
   "execution_count": 34,
   "metadata": {},
   "outputs": [],
   "source": [
    "# assign my x features and y target for each split dataframe\n",
    "x_train = train.drop(columns = 'churn')\n",
    "y_train = train.churn\n",
    "\n",
    "x_validate = validate.drop(columns = 'churn')\n",
    "y_validate = validate.churn\n",
    "\n",
    "x_test = test.drop(columns = 'churn')\n",
    "y_test = test.churn"
   ]
  },
  {
   "cell_type": "markdown",
   "metadata": {},
   "source": [
    "## Model 1 (Logistic Regression)"
   ]
  },
  {
   "cell_type": "code",
   "execution_count": 35,
   "metadata": {},
   "outputs": [
    {
     "name": "stdout",
     "output_type": "stream",
     "text": [
      "Model 3 is a LogisticRegression(C=1, class_weight={0: 1, 1: 99}, random_state=123)\n",
      "----------\n",
      "True Positives 1047\n",
      "False Positives 2564\n",
      "False Negatives 1\n",
      "True Negatives 325\n",
      "-------------\n",
      "Accuracy is 0.34848869697739393\n",
      "Recall is 0.9990458015267175\n",
      "Precision is 0.2899473829963999\n",
      "-------------\n",
      "              precision    recall  f1-score   support\n",
      "\n",
      "           0       1.00      0.11      0.20      2889\n",
      "           1       0.29      1.00      0.45      1048\n",
      "\n",
      "    accuracy                           0.35      3937\n",
      "   macro avg       0.64      0.56      0.33      3937\n",
      "weighted avg       0.81      0.35      0.27      3937\n",
      "\n",
      "-------------\n",
      "Accuracy of Logistic Regression classifier on training set: 0.35\n",
      "Accuracy of Logistic Regression classifier on validate set: 0.35\n"
     ]
    }
   ],
   "source": [
    "logit1 = LogisticRegression(C=1, class_weight={0:1, 1:99}, random_state=123, intercept_scaling=1, solver='lbfgs')\n",
    "\n",
    "print('Model 3 is a', logit1)\n",
    "print('----------')\n",
    "\n",
    "logit1.fit(x_train, y_train)\n",
    "\n",
    "y_pred = logit1.predict(x_train)\n",
    "\n",
    "tn, fp, fn, tp = confusion_matrix(y_train, y_pred).ravel()\n",
    "print(\"True Positives\", tp)\n",
    "print(\"False Positives\", fp)\n",
    "print(\"False Negatives\", fn)\n",
    "print(\"True Negatives\", tn)\n",
    "\n",
    "print(\"-------------\")\n",
    "\n",
    "accuracy = (tp + tn) / (tp + tn + fp + fn)\n",
    "recall = tp / (tp + fn)\n",
    "precision = tp / (tp + fp)\n",
    "\n",
    "print(\"Accuracy is\", accuracy)\n",
    "print(\"Recall is\", recall)\n",
    "print(\"Precision is\", precision)\n",
    "\n",
    "print(\"-------------\")\n",
    "\n",
    "\n",
    "print(classification_report(y_train, y_pred))\n",
    "\n",
    "print(\"-------------\")\n",
    "\n",
    "\n",
    "print('Accuracy of Logistic Regression classifier on training set: {:.2f}'\n",
    "     .format(logit1.score(x_train, y_train)))\n",
    "print('Accuracy of Logistic Regression classifier on validate set: {:.2f}'\n",
    "     .format(logit1.score(x_validate, y_validate)))"
   ]
  },
  {
   "cell_type": "markdown",
   "metadata": {},
   "source": [
    "## Model 2 (Decision Tree)"
   ]
  },
  {
   "cell_type": "code",
   "execution_count": 36,
   "metadata": {},
   "outputs": [
    {
     "name": "stdout",
     "output_type": "stream",
     "text": [
      "Model 2 is a DecisionTreeClassifier(max_depth=4, random_state=123)\n",
      "----------\n",
      "True Positives 448\n",
      "False Positives 280\n",
      "False Negatives 600\n",
      "True Negatives 2609\n",
      "-------------\n",
      "Accuracy is 0.7764795529591059\n",
      "Recall is 0.42748091603053434\n",
      "Precision is 0.6153846153846154\n",
      "-------------\n",
      "              precision    recall  f1-score   support\n",
      "\n",
      "           0       0.81      0.90      0.86      2889\n",
      "           1       0.62      0.43      0.50      1048\n",
      "\n",
      "    accuracy                           0.78      3937\n",
      "   macro avg       0.71      0.67      0.68      3937\n",
      "weighted avg       0.76      0.78      0.76      3937\n",
      "\n",
      "-------------\n",
      "Accuracy of Decision Tree classifier Model 2 on training set: 0.78\n",
      "Accuracy of Decision Tree classifier Model 2 on validate set: 0.78\n"
     ]
    }
   ],
   "source": [
    "dt1 = DecisionTreeClassifier(max_depth=4, random_state=123)\n",
    "print('Model 2 is a', dt1)\n",
    "print('----------')\n",
    "# fit my model\n",
    "dt1 = dt1.fit(x_train, y_train)\n",
    "\n",
    "# model's prediction for each observation\n",
    "y_pred = dt1.predict(x_train)\n",
    "\n",
    "tn, fp, fn, tp = confusion_matrix(y_train, y_pred).ravel()\n",
    "print(\"True Positives\", tp)\n",
    "print(\"False Positives\", fp)\n",
    "print(\"False Negatives\", fn)\n",
    "print(\"True Negatives\", tn)\n",
    "\n",
    "print(\"-------------\")\n",
    "\n",
    "accuracy = (tp + tn) / (tp + tn + fp + fn)\n",
    "recall = tp / (tp + fn)\n",
    "precision = tp / (tp + fp)\n",
    "\n",
    "print(\"Accuracy is\", accuracy)\n",
    "print(\"Recall is\", recall)\n",
    "print(\"Precision is\", precision)\n",
    "\n",
    "print(\"-------------\")\n",
    "\n",
    "\n",
    "print(classification_report(y_train, y_pred))\n",
    "\n",
    "print(\"-------------\")\n",
    "\n",
    "print('Accuracy of Decision Tree classifier Model 2 on training set: {:.2f}'\n",
    "      .format(dt1.score(x_train, y_train)))\n",
    "print('Accuracy of Decision Tree classifier Model 2 on validate set: {:.2f}'\n",
    "      .format(dt1.score(x_validate, y_validate)))"
   ]
  },
  {
   "cell_type": "markdown",
   "metadata": {},
   "source": [
    "## Model 3 (Random Forest)"
   ]
  },
  {
   "cell_type": "code",
   "execution_count": 37,
   "metadata": {},
   "outputs": [
    {
     "name": "stdout",
     "output_type": "stream",
     "text": [
      "Model 3 is a RandomForestClassifier(max_depth=8, min_samples_leaf=2, random_state=123)\n",
      "-------------\n",
      "True Positives 559\n",
      "False Positives 261\n",
      "False Negatives 489\n",
      "True Negatives 2628\n",
      "-------------\n",
      "Accuracy is 0.809499618999238\n",
      "Recall is 0.5333969465648855\n",
      "Precision is 0.6817073170731708\n",
      "-------------\n",
      "              precision    recall  f1-score   support\n",
      "\n",
      "           0       0.84      0.91      0.88      2889\n",
      "           1       0.68      0.53      0.60      1048\n",
      "\n",
      "    accuracy                           0.81      3937\n",
      "   macro avg       0.76      0.72      0.74      3937\n",
      "weighted avg       0.80      0.81      0.80      3937\n",
      "\n",
      "-------------\n",
      "Accuracy of random forest classifier Model 3 on training set: 0.81\n",
      "Accuracy of random forest classifier Model 3 on validate set: 0.79\n"
     ]
    }
   ],
   "source": [
    "rf1 = RandomForestClassifier(bootstrap=True,\n",
    "                            class_weight=None, \n",
    "                            criterion='gini',\n",
    "                            min_samples_leaf=2,\n",
    "                            max_depth=8,\n",
    "                            random_state=123                           \n",
    "                           )\n",
    "print('Model 3 is a', rf1)\n",
    "print(\"-------------\")\n",
    "\n",
    "rf1.fit(x_train, y_train)\n",
    "\n",
    "y_pred = rf1.predict(x_train)\n",
    "\n",
    "tn, fp, fn, tp = confusion_matrix(y_train, y_pred).ravel()\n",
    "print(\"True Positives\", tp)\n",
    "print(\"False Positives\", fp)\n",
    "print(\"False Negatives\", fn)\n",
    "print(\"True Negatives\", tn)\n",
    "\n",
    "print(\"-------------\")\n",
    "\n",
    "accuracy = (tp + tn) / (tp + tn + fp + fn)\n",
    "recall = tp / (tp + fn)\n",
    "precision = tp / (tp + fp)\n",
    "\n",
    "print(\"Accuracy is\", accuracy)\n",
    "print(\"Recall is\", recall)\n",
    "print(\"Precision is\", precision)\n",
    "\n",
    "print(\"-------------\")\n",
    "\n",
    "print(classification_report(y_train, y_pred))\n",
    "y_pred_proba = logit1.predict_proba(x_train)\n",
    "\n",
    "print(\"-------------\")\n",
    "\n",
    "print('Accuracy of random forest classifier Model 3 on training set: {:.2f}'\n",
    "     .format(rf1.score(x_train, y_train)))\n",
    "print('Accuracy of random forest classifier Model 3 on validate set: {:.2f}'\n",
    "     .format(rf1.score(x_validate, y_validate)))"
   ]
  },
  {
   "cell_type": "markdown",
   "metadata": {},
   "source": [
    "### Model 3 Random Forest is best model with 81% overall accuracy."
   ]
  },
  {
   "cell_type": "code",
   "execution_count": 38,
   "metadata": {},
   "outputs": [
    {
     "name": "stdout",
     "output_type": "stream",
     "text": [
      "Accuracy of Random Forest Model 3 classifier on test set: 0.75\n"
     ]
    }
   ],
   "source": [
    "# test our chosen model\n",
    "print('Accuracy of Random Forest Model 3 classifier on test set: {:.2f}'\n",
    "     .format(rf1.score(x_test, y_test)))"
   ]
  },
  {
   "cell_type": "markdown",
   "metadata": {},
   "source": [
    "# Modeling Takeaways:\n",
    "- Neither model was overfit.\n",
    "- Logistic Regression gave us the worst accuracy overall.\n",
    "- Decision Tree was a close second choice.\n",
    "- Random Forest Model 3 is best performed model.\n",
    "- Model 3 gaves us a 75% accuracy on the test set.\n",
    "\n",
    "### We're in the money!"
   ]
  },
  {
   "cell_type": "markdown",
   "metadata": {},
   "source": [
    "#### Create a CSV\n",
    " - Create a CSV file with probability of churn, prediction of churn (1=churn, 0=not_churn)"
   ]
  },
  {
   "cell_type": "code",
   "execution_count": 39,
   "metadata": {},
   "outputs": [],
   "source": [
    "# create a csv\n",
    "\n",
    "# combine my train, validate, and test dataframe\n",
    "df_telco = pd.concat([train, validate, test], axis=0)\n",
    "\n",
    "# assign a variable to my customer_id column to concatenate later\n",
    "customer_ids = df['customer_id']\n",
    "\n",
    "# drop my churn column for my model\n",
    "df_telco_data = df_telco.drop(columns=['churn'])\n",
    "\n",
    "# create a dataframe out of my predictions for each customer\n",
    "prediction_of_churn = pd.DataFrame({'churn_prediction' : rf1.predict(df_telco_data)})\n",
    "\n",
    "# create a dataframe out of my predictions for each customer's probability of churn\n",
    "churn_probability = pd.DataFrame({'churn_probability': rf1.predict_proba(df_telco_data)[:,1]})\n",
    "\n",
    "# combine my dataframes\n",
    "data = [customer_ids, churn_probability, prediction_of_churn]\n",
    "\n",
    "# concatenate my dataframes\n",
    "customer_churn = pd.concat(data, axis=1)"
   ]
  },
  {
   "cell_type": "code",
   "execution_count": 40,
   "metadata": {},
   "outputs": [
    {
     "data": {
      "text/html": [
       "<div>\n",
       "<style scoped>\n",
       "    .dataframe tbody tr th:only-of-type {\n",
       "        vertical-align: middle;\n",
       "    }\n",
       "\n",
       "    .dataframe tbody tr th {\n",
       "        vertical-align: top;\n",
       "    }\n",
       "\n",
       "    .dataframe thead th {\n",
       "        text-align: right;\n",
       "    }\n",
       "</style>\n",
       "<table border=\"1\" class=\"dataframe\">\n",
       "  <thead>\n",
       "    <tr style=\"text-align: right;\">\n",
       "      <th></th>\n",
       "      <th>customer_id</th>\n",
       "      <th>churn_probability</th>\n",
       "      <th>churn_prediction</th>\n",
       "    </tr>\n",
       "  </thead>\n",
       "  <tbody>\n",
       "    <tr>\n",
       "      <th>0</th>\n",
       "      <td>0030-FNXPP</td>\n",
       "      <td>0.007426</td>\n",
       "      <td>0.0</td>\n",
       "    </tr>\n",
       "    <tr>\n",
       "      <th>1</th>\n",
       "      <td>0031-PVLZI</td>\n",
       "      <td>0.448979</td>\n",
       "      <td>0.0</td>\n",
       "    </tr>\n",
       "    <tr>\n",
       "      <th>2</th>\n",
       "      <td>0098-BOWSO</td>\n",
       "      <td>0.450628</td>\n",
       "      <td>0.0</td>\n",
       "    </tr>\n",
       "    <tr>\n",
       "      <th>3</th>\n",
       "      <td>0107-WESLM</td>\n",
       "      <td>0.007376</td>\n",
       "      <td>0.0</td>\n",
       "    </tr>\n",
       "    <tr>\n",
       "      <th>4</th>\n",
       "      <td>0114-RSRRW</td>\n",
       "      <td>0.290747</td>\n",
       "      <td>0.0</td>\n",
       "    </tr>\n",
       "  </tbody>\n",
       "</table>\n",
       "</div>"
      ],
      "text/plain": [
       "  customer_id  churn_probability  churn_prediction\n",
       "0  0030-FNXPP           0.007426               0.0\n",
       "1  0031-PVLZI           0.448979               0.0\n",
       "2  0098-BOWSO           0.450628               0.0\n",
       "3  0107-WESLM           0.007376               0.0\n",
       "4  0114-RSRRW           0.290747               0.0"
      ]
     },
     "execution_count": 40,
     "metadata": {},
     "output_type": "execute_result"
    }
   ],
   "source": [
    "customer_churn.head()"
   ]
  },
  {
   "cell_type": "code",
   "execution_count": null,
   "metadata": {},
   "outputs": [],
   "source": [
    "# export to csv file\n",
    "customer_churn.to_csv('predictions.csv')"
   ]
  },
  {
   "cell_type": "markdown",
   "metadata": {},
   "source": [
    "## Summary:"
   ]
  },
  {
   "cell_type": "markdown",
   "metadata": {},
   "source": [
    "- I found that Model 3, Random Forest performed the best on all three of my data sets.\n",
    "- Some of the most associated attributes are payment type, dependents and contract type.\n",
    "\n",
    "What can we do now?\n",
    " - Offer incentives targeting churned customers with common features.\n",
    " - Improve model performance by focusing on specific features such as contract type.\n",
    " - Offer discounted services the first 6 months to improve tenure.\n",
    " - Offer exit surveys to departing customers to improve or add more features to increase model performance."
   ]
  },
  {
   "cell_type": "code",
   "execution_count": null,
   "metadata": {},
   "outputs": [],
   "source": []
  }
 ],
 "metadata": {
  "kernelspec": {
   "display_name": "Python 3",
   "language": "python",
   "name": "python3"
  },
  "language_info": {
   "codemirror_mode": {
    "name": "ipython",
    "version": 3
   },
   "file_extension": ".py",
   "mimetype": "text/x-python",
   "name": "python",
   "nbconvert_exporter": "python",
   "pygments_lexer": "ipython3",
   "version": "3.8.5"
  }
 },
 "nbformat": 4,
 "nbformat_minor": 4
}
