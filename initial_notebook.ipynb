{
 "cells": [
  {
   "cell_type": "markdown",
   "metadata": {},
   "source": [
    "### Telco Customer Churn Classification Project - rough draft"
   ]
  },
  {
   "cell_type": "code",
   "execution_count": 1,
   "metadata": {},
   "outputs": [],
   "source": [
    "# bring in my imports\n",
    "import pandas as pd\n",
    "import numpy as np\n",
    "\n",
    "import matplotlib.pyplot as plt\n",
    "import seaborn as sns\n",
    "\n",
    "from math import sqrt\n",
    "from scipy import stats\n",
    "from pydataset import data\n",
    "\n",
    "from env import host, user, password\n",
    "\n",
    "\n",
    "import warnings\n",
    "warnings.filterwarnings(\"ignore\")\n",
    "\n",
    "import acquire\n",
    "import prepare"
   ]
  },
  {
   "cell_type": "markdown",
   "metadata": {},
   "source": [
    "# Plan -> Acquire -> Prepare -> Explore -> Model & Evaluate -> Deliver"
   ]
  },
  {
   "cell_type": "markdown",
   "metadata": {},
   "source": [
    "## Acquire my data"
   ]
  },
  {
   "cell_type": "code",
   "execution_count": 2,
   "metadata": {},
   "outputs": [],
   "source": [
    "# now we've done everything manually, let's combine and create functions\n",
    "# create helper function\n",
    "def get_connection(db_name):\n",
    "    '''\n",
    "    This function uses my info from my env file to\n",
    "    create a connection url to access the sql database.\n",
    "    '''\n",
    "    from env import host, user, password\n",
    "    return f'mysql+pymysql://{user}:{password}@{host}/{db_name}'"
   ]
  },
  {
   "cell_type": "code",
   "execution_count": 3,
   "metadata": {},
   "outputs": [],
   "source": [
    "# create my function for my sql query\n",
    "def get_new_telco_churn_data():\n",
    "    '''\n",
    "    This function reads in the telco churn data from the sql database\n",
    "    and returns a pandas DataFrame with all columns.\n",
    "    '''\n",
    "    sql_query = '''\n",
    "    SELECT *\n",
    "    FROM payment_types\n",
    "    JOIN customers ON payment_types.payment_type_id = customers.payment_type_id\n",
    "    JOIN internet_service_types ON internet_service_types.internet_service_type_id = customers.internet_service_type_id\n",
    "    JOIN contract_types ON contract_types.contract_type_id = customers.contract_type_id;\n",
    "    '''\n",
    "    return pd.read_sql(sql_query, get_connection('telco_churn'))"
   ]
  },
  {
   "cell_type": "code",
   "execution_count": 4,
   "metadata": {},
   "outputs": [],
   "source": [
    "df = get_new_telco_churn_data()"
   ]
  },
  {
   "cell_type": "code",
   "execution_count": 5,
   "metadata": {},
   "outputs": [
    {
     "data": {
      "text/html": [
       "<div>\n",
       "<style scoped>\n",
       "    .dataframe tbody tr th:only-of-type {\n",
       "        vertical-align: middle;\n",
       "    }\n",
       "\n",
       "    .dataframe tbody tr th {\n",
       "        vertical-align: top;\n",
       "    }\n",
       "\n",
       "    .dataframe thead th {\n",
       "        text-align: right;\n",
       "    }\n",
       "</style>\n",
       "<table border=\"1\" class=\"dataframe\">\n",
       "  <thead>\n",
       "    <tr style=\"text-align: right;\">\n",
       "      <th></th>\n",
       "      <th>payment_type_id</th>\n",
       "      <th>payment_type</th>\n",
       "      <th>customer_id</th>\n",
       "      <th>gender</th>\n",
       "      <th>senior_citizen</th>\n",
       "      <th>partner</th>\n",
       "      <th>dependents</th>\n",
       "      <th>tenure</th>\n",
       "      <th>phone_service</th>\n",
       "      <th>multiple_lines</th>\n",
       "      <th>...</th>\n",
       "      <th>contract_type_id</th>\n",
       "      <th>paperless_billing</th>\n",
       "      <th>payment_type_id</th>\n",
       "      <th>monthly_charges</th>\n",
       "      <th>total_charges</th>\n",
       "      <th>churn</th>\n",
       "      <th>internet_service_type_id</th>\n",
       "      <th>internet_service_type</th>\n",
       "      <th>contract_type_id</th>\n",
       "      <th>contract_type</th>\n",
       "    </tr>\n",
       "  </thead>\n",
       "  <tbody>\n",
       "    <tr>\n",
       "      <th>304</th>\n",
       "      <td>1</td>\n",
       "      <td>Electronic check</td>\n",
       "      <td>5546-BYZSM</td>\n",
       "      <td>Female</td>\n",
       "      <td>0</td>\n",
       "      <td>No</td>\n",
       "      <td>No</td>\n",
       "      <td>41</td>\n",
       "      <td>Yes</td>\n",
       "      <td>No</td>\n",
       "      <td>...</td>\n",
       "      <td>1</td>\n",
       "      <td>No</td>\n",
       "      <td>1</td>\n",
       "      <td>20.45</td>\n",
       "      <td>775.6</td>\n",
       "      <td>No</td>\n",
       "      <td>3</td>\n",
       "      <td>None</td>\n",
       "      <td>1</td>\n",
       "      <td>Month-to-month</td>\n",
       "    </tr>\n",
       "    <tr>\n",
       "      <th>4559</th>\n",
       "      <td>3</td>\n",
       "      <td>Bank transfer (automatic)</td>\n",
       "      <td>5732-IKGQH</td>\n",
       "      <td>Male</td>\n",
       "      <td>1</td>\n",
       "      <td>Yes</td>\n",
       "      <td>No</td>\n",
       "      <td>52</td>\n",
       "      <td>Yes</td>\n",
       "      <td>No</td>\n",
       "      <td>...</td>\n",
       "      <td>2</td>\n",
       "      <td>Yes</td>\n",
       "      <td>3</td>\n",
       "      <td>104.45</td>\n",
       "      <td>5481.25</td>\n",
       "      <td>No</td>\n",
       "      <td>2</td>\n",
       "      <td>Fiber optic</td>\n",
       "      <td>2</td>\n",
       "      <td>One year</td>\n",
       "    </tr>\n",
       "    <tr>\n",
       "      <th>1731</th>\n",
       "      <td>1</td>\n",
       "      <td>Electronic check</td>\n",
       "      <td>5520-FVEWJ</td>\n",
       "      <td>Female</td>\n",
       "      <td>0</td>\n",
       "      <td>Yes</td>\n",
       "      <td>Yes</td>\n",
       "      <td>12</td>\n",
       "      <td>Yes</td>\n",
       "      <td>Yes</td>\n",
       "      <td>...</td>\n",
       "      <td>1</td>\n",
       "      <td>Yes</td>\n",
       "      <td>1</td>\n",
       "      <td>84.50</td>\n",
       "      <td>916.9</td>\n",
       "      <td>Yes</td>\n",
       "      <td>2</td>\n",
       "      <td>Fiber optic</td>\n",
       "      <td>1</td>\n",
       "      <td>Month-to-month</td>\n",
       "    </tr>\n",
       "    <tr>\n",
       "      <th>2894</th>\n",
       "      <td>4</td>\n",
       "      <td>Credit card (automatic)</td>\n",
       "      <td>2108-GLPQB</td>\n",
       "      <td>Male</td>\n",
       "      <td>0</td>\n",
       "      <td>Yes</td>\n",
       "      <td>No</td>\n",
       "      <td>25</td>\n",
       "      <td>Yes</td>\n",
       "      <td>Yes</td>\n",
       "      <td>...</td>\n",
       "      <td>1</td>\n",
       "      <td>No</td>\n",
       "      <td>4</td>\n",
       "      <td>55.55</td>\n",
       "      <td>1405.3</td>\n",
       "      <td>No</td>\n",
       "      <td>1</td>\n",
       "      <td>DSL</td>\n",
       "      <td>1</td>\n",
       "      <td>Month-to-month</td>\n",
       "    </tr>\n",
       "    <tr>\n",
       "      <th>2828</th>\n",
       "      <td>3</td>\n",
       "      <td>Bank transfer (automatic)</td>\n",
       "      <td>1564-HJUVY</td>\n",
       "      <td>Male</td>\n",
       "      <td>0</td>\n",
       "      <td>No</td>\n",
       "      <td>No</td>\n",
       "      <td>4</td>\n",
       "      <td>Yes</td>\n",
       "      <td>No</td>\n",
       "      <td>...</td>\n",
       "      <td>1</td>\n",
       "      <td>Yes</td>\n",
       "      <td>3</td>\n",
       "      <td>63.75</td>\n",
       "      <td>226.2</td>\n",
       "      <td>No</td>\n",
       "      <td>1</td>\n",
       "      <td>DSL</td>\n",
       "      <td>1</td>\n",
       "      <td>Month-to-month</td>\n",
       "    </tr>\n",
       "  </tbody>\n",
       "</table>\n",
       "<p>5 rows × 27 columns</p>\n",
       "</div>"
      ],
      "text/plain": [
       "     payment_type_id               payment_type customer_id  gender  \\\n",
       "304                1           Electronic check  5546-BYZSM  Female   \n",
       "4559               3  Bank transfer (automatic)  5732-IKGQH    Male   \n",
       "1731               1           Electronic check  5520-FVEWJ  Female   \n",
       "2894               4    Credit card (automatic)  2108-GLPQB    Male   \n",
       "2828               3  Bank transfer (automatic)  1564-HJUVY    Male   \n",
       "\n",
       "      senior_citizen partner dependents  tenure phone_service multiple_lines  \\\n",
       "304                0      No         No      41           Yes             No   \n",
       "4559               1     Yes         No      52           Yes             No   \n",
       "1731               0     Yes        Yes      12           Yes            Yes   \n",
       "2894               0     Yes         No      25           Yes            Yes   \n",
       "2828               0      No         No       4           Yes             No   \n",
       "\n",
       "      ... contract_type_id paperless_billing payment_type_id monthly_charges  \\\n",
       "304   ...                1                No               1           20.45   \n",
       "4559  ...                2               Yes               3          104.45   \n",
       "1731  ...                1               Yes               1           84.50   \n",
       "2894  ...                1                No               4           55.55   \n",
       "2828  ...                1               Yes               3           63.75   \n",
       "\n",
       "     total_charges churn internet_service_type_id  internet_service_type  \\\n",
       "304          775.6    No                        3                   None   \n",
       "4559       5481.25    No                        2            Fiber optic   \n",
       "1731         916.9   Yes                        2            Fiber optic   \n",
       "2894        1405.3    No                        1                    DSL   \n",
       "2828         226.2    No                        1                    DSL   \n",
       "\n",
       "     contract_type_id   contract_type  \n",
       "304                 1  Month-to-month  \n",
       "4559                2        One year  \n",
       "1731                1  Month-to-month  \n",
       "2894                1  Month-to-month  \n",
       "2828                1  Month-to-month  \n",
       "\n",
       "[5 rows x 27 columns]"
      ]
     },
     "execution_count": 5,
     "metadata": {},
     "output_type": "execute_result"
    }
   ],
   "source": [
    "df.sample(5)"
   ]
  },
  {
   "cell_type": "code",
   "execution_count": 6,
   "metadata": {},
   "outputs": [
    {
     "data": {
      "text/plain": [
       "(7043, 27)"
      ]
     },
     "execution_count": 6,
     "metadata": {},
     "output_type": "execute_result"
    }
   ],
   "source": [
    "df.shape"
   ]
  },
  {
   "cell_type": "markdown",
   "metadata": {},
   "source": [
    "### New Functions"
   ]
  },
  {
   "cell_type": "code",
   "execution_count": 22,
   "metadata": {},
   "outputs": [],
   "source": [
    "df = acquire.get_new_telco_churn_data()\n",
    "churned_df = df[df['churn']=='Yes']"
   ]
  },
  {
   "cell_type": "code",
   "execution_count": 23,
   "metadata": {},
   "outputs": [
    {
     "data": {
      "text/html": [
       "<div>\n",
       "<style scoped>\n",
       "    .dataframe tbody tr th:only-of-type {\n",
       "        vertical-align: middle;\n",
       "    }\n",
       "\n",
       "    .dataframe tbody tr th {\n",
       "        vertical-align: top;\n",
       "    }\n",
       "\n",
       "    .dataframe thead th {\n",
       "        text-align: right;\n",
       "    }\n",
       "</style>\n",
       "<table border=\"1\" class=\"dataframe\">\n",
       "  <thead>\n",
       "    <tr style=\"text-align: right;\">\n",
       "      <th></th>\n",
       "      <th>6474</th>\n",
       "      <th>2851</th>\n",
       "      <th>3090</th>\n",
       "      <th>6336</th>\n",
       "      <th>3501</th>\n",
       "    </tr>\n",
       "  </thead>\n",
       "  <tbody>\n",
       "    <tr>\n",
       "      <th>payment_type_id</th>\n",
       "      <td>3</td>\n",
       "      <td>1</td>\n",
       "      <td>1</td>\n",
       "      <td>3</td>\n",
       "      <td>2</td>\n",
       "    </tr>\n",
       "    <tr>\n",
       "      <th>payment_type</th>\n",
       "      <td>Bank transfer (automatic)</td>\n",
       "      <td>Electronic check</td>\n",
       "      <td>Electronic check</td>\n",
       "      <td>Bank transfer (automatic)</td>\n",
       "      <td>Mailed check</td>\n",
       "    </tr>\n",
       "    <tr>\n",
       "      <th>customer_id</th>\n",
       "      <td>0885-HMGPY</td>\n",
       "      <td>1750-CSKKM</td>\n",
       "      <td>3689-MOZGR</td>\n",
       "      <td>8207-DMRVL</td>\n",
       "      <td>6898-MDLZW</td>\n",
       "    </tr>\n",
       "    <tr>\n",
       "      <th>gender</th>\n",
       "      <td>Male</td>\n",
       "      <td>Male</td>\n",
       "      <td>Female</td>\n",
       "      <td>Male</td>\n",
       "      <td>Male</td>\n",
       "    </tr>\n",
       "    <tr>\n",
       "      <th>senior_citizen</th>\n",
       "      <td>0</td>\n",
       "      <td>0</td>\n",
       "      <td>0</td>\n",
       "      <td>0</td>\n",
       "      <td>0</td>\n",
       "    </tr>\n",
       "    <tr>\n",
       "      <th>partner</th>\n",
       "      <td>No</td>\n",
       "      <td>No</td>\n",
       "      <td>No</td>\n",
       "      <td>Yes</td>\n",
       "      <td>No</td>\n",
       "    </tr>\n",
       "    <tr>\n",
       "      <th>dependents</th>\n",
       "      <td>No</td>\n",
       "      <td>Yes</td>\n",
       "      <td>No</td>\n",
       "      <td>Yes</td>\n",
       "      <td>No</td>\n",
       "    </tr>\n",
       "    <tr>\n",
       "      <th>tenure</th>\n",
       "      <td>62</td>\n",
       "      <td>9</td>\n",
       "      <td>29</td>\n",
       "      <td>72</td>\n",
       "      <td>12</td>\n",
       "    </tr>\n",
       "    <tr>\n",
       "      <th>phone_service</th>\n",
       "      <td>Yes</td>\n",
       "      <td>Yes</td>\n",
       "      <td>No</td>\n",
       "      <td>Yes</td>\n",
       "      <td>Yes</td>\n",
       "    </tr>\n",
       "    <tr>\n",
       "      <th>multiple_lines</th>\n",
       "      <td>Yes</td>\n",
       "      <td>No</td>\n",
       "      <td>No phone service</td>\n",
       "      <td>Yes</td>\n",
       "      <td>No</td>\n",
       "    </tr>\n",
       "    <tr>\n",
       "      <th>internet_service_type_id</th>\n",
       "      <td>1</td>\n",
       "      <td>1</td>\n",
       "      <td>1</td>\n",
       "      <td>2</td>\n",
       "      <td>1</td>\n",
       "    </tr>\n",
       "    <tr>\n",
       "      <th>online_security</th>\n",
       "      <td>Yes</td>\n",
       "      <td>No</td>\n",
       "      <td>No</td>\n",
       "      <td>Yes</td>\n",
       "      <td>No</td>\n",
       "    </tr>\n",
       "    <tr>\n",
       "      <th>online_backup</th>\n",
       "      <td>Yes</td>\n",
       "      <td>No</td>\n",
       "      <td>No</td>\n",
       "      <td>Yes</td>\n",
       "      <td>Yes</td>\n",
       "    </tr>\n",
       "    <tr>\n",
       "      <th>device_protection</th>\n",
       "      <td>Yes</td>\n",
       "      <td>No</td>\n",
       "      <td>No</td>\n",
       "      <td>Yes</td>\n",
       "      <td>No</td>\n",
       "    </tr>\n",
       "    <tr>\n",
       "      <th>tech_support</th>\n",
       "      <td>Yes</td>\n",
       "      <td>No</td>\n",
       "      <td>Yes</td>\n",
       "      <td>Yes</td>\n",
       "      <td>Yes</td>\n",
       "    </tr>\n",
       "    <tr>\n",
       "      <th>streaming_tv</th>\n",
       "      <td>No</td>\n",
       "      <td>Yes</td>\n",
       "      <td>No</td>\n",
       "      <td>Yes</td>\n",
       "      <td>No</td>\n",
       "    </tr>\n",
       "    <tr>\n",
       "      <th>streaming_movies</th>\n",
       "      <td>No</td>\n",
       "      <td>No</td>\n",
       "      <td>No</td>\n",
       "      <td>Yes</td>\n",
       "      <td>No</td>\n",
       "    </tr>\n",
       "    <tr>\n",
       "      <th>contract_type_id</th>\n",
       "      <td>3</td>\n",
       "      <td>1</td>\n",
       "      <td>1</td>\n",
       "      <td>3</td>\n",
       "      <td>1</td>\n",
       "    </tr>\n",
       "    <tr>\n",
       "      <th>paperless_billing</th>\n",
       "      <td>No</td>\n",
       "      <td>No</td>\n",
       "      <td>Yes</td>\n",
       "      <td>No</td>\n",
       "      <td>Yes</td>\n",
       "    </tr>\n",
       "    <tr>\n",
       "      <th>payment_type_id</th>\n",
       "      <td>3</td>\n",
       "      <td>1</td>\n",
       "      <td>1</td>\n",
       "      <td>3</td>\n",
       "      <td>2</td>\n",
       "    </tr>\n",
       "    <tr>\n",
       "      <th>monthly_charges</th>\n",
       "      <td>69.4</td>\n",
       "      <td>55.35</td>\n",
       "      <td>31.2</td>\n",
       "      <td>114.55</td>\n",
       "      <td>53.75</td>\n",
       "    </tr>\n",
       "    <tr>\n",
       "      <th>total_charges</th>\n",
       "      <td>4237.5</td>\n",
       "      <td>449.75</td>\n",
       "      <td>926.2</td>\n",
       "      <td>8306.05</td>\n",
       "      <td>648.65</td>\n",
       "    </tr>\n",
       "    <tr>\n",
       "      <th>churn</th>\n",
       "      <td>No</td>\n",
       "      <td>Yes</td>\n",
       "      <td>No</td>\n",
       "      <td>No</td>\n",
       "      <td>No</td>\n",
       "    </tr>\n",
       "    <tr>\n",
       "      <th>internet_service_type_id</th>\n",
       "      <td>1</td>\n",
       "      <td>1</td>\n",
       "      <td>1</td>\n",
       "      <td>2</td>\n",
       "      <td>1</td>\n",
       "    </tr>\n",
       "    <tr>\n",
       "      <th>internet_service_type</th>\n",
       "      <td>DSL</td>\n",
       "      <td>DSL</td>\n",
       "      <td>DSL</td>\n",
       "      <td>Fiber optic</td>\n",
       "      <td>DSL</td>\n",
       "    </tr>\n",
       "    <tr>\n",
       "      <th>contract_type_id</th>\n",
       "      <td>3</td>\n",
       "      <td>1</td>\n",
       "      <td>1</td>\n",
       "      <td>3</td>\n",
       "      <td>1</td>\n",
       "    </tr>\n",
       "    <tr>\n",
       "      <th>contract_type</th>\n",
       "      <td>Two year</td>\n",
       "      <td>Month-to-month</td>\n",
       "      <td>Month-to-month</td>\n",
       "      <td>Two year</td>\n",
       "      <td>Month-to-month</td>\n",
       "    </tr>\n",
       "  </tbody>\n",
       "</table>\n",
       "</div>"
      ],
      "text/plain": [
       "                                               6474              2851  \\\n",
       "payment_type_id                                   3                 1   \n",
       "payment_type              Bank transfer (automatic)  Electronic check   \n",
       "customer_id                              0885-HMGPY        1750-CSKKM   \n",
       "gender                                         Male              Male   \n",
       "senior_citizen                                    0                 0   \n",
       "partner                                          No                No   \n",
       "dependents                                       No               Yes   \n",
       "tenure                                           62                 9   \n",
       "phone_service                                   Yes               Yes   \n",
       "multiple_lines                                  Yes                No   \n",
       "internet_service_type_id                          1                 1   \n",
       "online_security                                 Yes                No   \n",
       "online_backup                                   Yes                No   \n",
       "device_protection                               Yes                No   \n",
       "tech_support                                    Yes                No   \n",
       "streaming_tv                                     No               Yes   \n",
       "streaming_movies                                 No                No   \n",
       "contract_type_id                                  3                 1   \n",
       "paperless_billing                                No                No   \n",
       "payment_type_id                                   3                 1   \n",
       "monthly_charges                                69.4             55.35   \n",
       "total_charges                                4237.5            449.75   \n",
       "churn                                            No               Yes   \n",
       "internet_service_type_id                          1                 1   \n",
       "internet_service_type                           DSL               DSL   \n",
       "contract_type_id                                  3                 1   \n",
       "contract_type                              Two year    Month-to-month   \n",
       "\n",
       "                                      3090                       6336  \\\n",
       "payment_type_id                          1                          3   \n",
       "payment_type              Electronic check  Bank transfer (automatic)   \n",
       "customer_id                     3689-MOZGR                 8207-DMRVL   \n",
       "gender                              Female                       Male   \n",
       "senior_citizen                           0                          0   \n",
       "partner                                 No                        Yes   \n",
       "dependents                              No                        Yes   \n",
       "tenure                                  29                         72   \n",
       "phone_service                           No                        Yes   \n",
       "multiple_lines            No phone service                        Yes   \n",
       "internet_service_type_id                 1                          2   \n",
       "online_security                         No                        Yes   \n",
       "online_backup                           No                        Yes   \n",
       "device_protection                       No                        Yes   \n",
       "tech_support                           Yes                        Yes   \n",
       "streaming_tv                            No                        Yes   \n",
       "streaming_movies                        No                        Yes   \n",
       "contract_type_id                         1                          3   \n",
       "paperless_billing                      Yes                         No   \n",
       "payment_type_id                          1                          3   \n",
       "monthly_charges                       31.2                     114.55   \n",
       "total_charges                        926.2                    8306.05   \n",
       "churn                                   No                         No   \n",
       "internet_service_type_id                 1                          2   \n",
       "internet_service_type                  DSL                Fiber optic   \n",
       "contract_type_id                         1                          3   \n",
       "contract_type               Month-to-month                   Two year   \n",
       "\n",
       "                                    3501  \n",
       "payment_type_id                        2  \n",
       "payment_type                Mailed check  \n",
       "customer_id                   6898-MDLZW  \n",
       "gender                              Male  \n",
       "senior_citizen                         0  \n",
       "partner                               No  \n",
       "dependents                            No  \n",
       "tenure                                12  \n",
       "phone_service                        Yes  \n",
       "multiple_lines                        No  \n",
       "internet_service_type_id               1  \n",
       "online_security                       No  \n",
       "online_backup                        Yes  \n",
       "device_protection                     No  \n",
       "tech_support                         Yes  \n",
       "streaming_tv                          No  \n",
       "streaming_movies                      No  \n",
       "contract_type_id                       1  \n",
       "paperless_billing                    Yes  \n",
       "payment_type_id                        2  \n",
       "monthly_charges                    53.75  \n",
       "total_charges                     648.65  \n",
       "churn                                 No  \n",
       "internet_service_type_id               1  \n",
       "internet_service_type                DSL  \n",
       "contract_type_id                       1  \n",
       "contract_type             Month-to-month  "
      ]
     },
     "execution_count": 23,
     "metadata": {},
     "output_type": "execute_result"
    }
   ],
   "source": [
    "df.sample(5).T"
   ]
  },
  {
   "cell_type": "code",
   "execution_count": 24,
   "metadata": {},
   "outputs": [
    {
     "data": {
      "text/html": [
       "<div>\n",
       "<style scoped>\n",
       "    .dataframe tbody tr th:only-of-type {\n",
       "        vertical-align: middle;\n",
       "    }\n",
       "\n",
       "    .dataframe tbody tr th {\n",
       "        vertical-align: top;\n",
       "    }\n",
       "\n",
       "    .dataframe thead th {\n",
       "        text-align: right;\n",
       "    }\n",
       "</style>\n",
       "<table border=\"1\" class=\"dataframe\">\n",
       "  <thead>\n",
       "    <tr style=\"text-align: right;\">\n",
       "      <th></th>\n",
       "      <th>1499</th>\n",
       "    </tr>\n",
       "  </thead>\n",
       "  <tbody>\n",
       "    <tr>\n",
       "      <th>payment_type_id</th>\n",
       "      <td>1</td>\n",
       "    </tr>\n",
       "    <tr>\n",
       "      <th>payment_type</th>\n",
       "      <td>Electronic check</td>\n",
       "    </tr>\n",
       "    <tr>\n",
       "      <th>customer_id</th>\n",
       "      <td>4548-SDBKE</td>\n",
       "    </tr>\n",
       "    <tr>\n",
       "      <th>gender</th>\n",
       "      <td>Female</td>\n",
       "    </tr>\n",
       "    <tr>\n",
       "      <th>senior_citizen</th>\n",
       "      <td>0</td>\n",
       "    </tr>\n",
       "    <tr>\n",
       "      <th>partner</th>\n",
       "      <td>No</td>\n",
       "    </tr>\n",
       "    <tr>\n",
       "      <th>dependents</th>\n",
       "      <td>No</td>\n",
       "    </tr>\n",
       "    <tr>\n",
       "      <th>tenure</th>\n",
       "      <td>5</td>\n",
       "    </tr>\n",
       "    <tr>\n",
       "      <th>phone_service</th>\n",
       "      <td>Yes</td>\n",
       "    </tr>\n",
       "    <tr>\n",
       "      <th>multiple_lines</th>\n",
       "      <td>Yes</td>\n",
       "    </tr>\n",
       "    <tr>\n",
       "      <th>internet_service_type_id</th>\n",
       "      <td>2</td>\n",
       "    </tr>\n",
       "    <tr>\n",
       "      <th>online_security</th>\n",
       "      <td>No</td>\n",
       "    </tr>\n",
       "    <tr>\n",
       "      <th>online_backup</th>\n",
       "      <td>No</td>\n",
       "    </tr>\n",
       "    <tr>\n",
       "      <th>device_protection</th>\n",
       "      <td>No</td>\n",
       "    </tr>\n",
       "    <tr>\n",
       "      <th>tech_support</th>\n",
       "      <td>No</td>\n",
       "    </tr>\n",
       "    <tr>\n",
       "      <th>streaming_tv</th>\n",
       "      <td>Yes</td>\n",
       "    </tr>\n",
       "    <tr>\n",
       "      <th>streaming_movies</th>\n",
       "      <td>No</td>\n",
       "    </tr>\n",
       "    <tr>\n",
       "      <th>contract_type_id</th>\n",
       "      <td>1</td>\n",
       "    </tr>\n",
       "    <tr>\n",
       "      <th>paperless_billing</th>\n",
       "      <td>Yes</td>\n",
       "    </tr>\n",
       "    <tr>\n",
       "      <th>payment_type_id</th>\n",
       "      <td>1</td>\n",
       "    </tr>\n",
       "    <tr>\n",
       "      <th>monthly_charges</th>\n",
       "      <td>85.2</td>\n",
       "    </tr>\n",
       "    <tr>\n",
       "      <th>total_charges</th>\n",
       "      <td>474.8</td>\n",
       "    </tr>\n",
       "    <tr>\n",
       "      <th>churn</th>\n",
       "      <td>Yes</td>\n",
       "    </tr>\n",
       "    <tr>\n",
       "      <th>internet_service_type_id</th>\n",
       "      <td>2</td>\n",
       "    </tr>\n",
       "    <tr>\n",
       "      <th>internet_service_type</th>\n",
       "      <td>Fiber optic</td>\n",
       "    </tr>\n",
       "    <tr>\n",
       "      <th>contract_type_id</th>\n",
       "      <td>1</td>\n",
       "    </tr>\n",
       "    <tr>\n",
       "      <th>contract_type</th>\n",
       "      <td>Month-to-month</td>\n",
       "    </tr>\n",
       "  </tbody>\n",
       "</table>\n",
       "</div>"
      ],
      "text/plain": [
       "                                      1499\n",
       "payment_type_id                          1\n",
       "payment_type              Electronic check\n",
       "customer_id                     4548-SDBKE\n",
       "gender                              Female\n",
       "senior_citizen                           0\n",
       "partner                                 No\n",
       "dependents                              No\n",
       "tenure                                   5\n",
       "phone_service                          Yes\n",
       "multiple_lines                         Yes\n",
       "internet_service_type_id                 2\n",
       "online_security                         No\n",
       "online_backup                           No\n",
       "device_protection                       No\n",
       "tech_support                            No\n",
       "streaming_tv                           Yes\n",
       "streaming_movies                        No\n",
       "contract_type_id                         1\n",
       "paperless_billing                      Yes\n",
       "payment_type_id                          1\n",
       "monthly_charges                       85.2\n",
       "total_charges                        474.8\n",
       "churn                                  Yes\n",
       "internet_service_type_id                 2\n",
       "internet_service_type          Fiber optic\n",
       "contract_type_id                         1\n",
       "contract_type               Month-to-month"
      ]
     },
     "execution_count": 24,
     "metadata": {},
     "output_type": "execute_result"
    }
   ],
   "source": [
    "churned_df.sample().T"
   ]
  },
  {
   "cell_type": "code",
   "execution_count": 26,
   "metadata": {},
   "outputs": [
    {
     "name": "stdout",
     "output_type": "stream",
     "text": [
      "payment_type\n",
      "Electronic check             1071\n",
      "Mailed check                  308\n",
      "Bank transfer (automatic)     258\n",
      "Credit card (automatic)       232\n",
      "Name: payment_type, dtype: int64\n",
      "-------------\n",
      "gender\n",
      "Female    939\n",
      "Male      930\n",
      "Name: gender, dtype: int64\n",
      "-------------\n",
      "senior_citizen\n",
      "0    1393\n",
      "1     476\n",
      "Name: senior_citizen, dtype: int64\n",
      "-------------\n",
      "partner\n",
      "No     1200\n",
      "Yes     669\n",
      "Name: partner, dtype: int64\n",
      "-------------\n",
      "dependents\n",
      "No     1543\n",
      "Yes     326\n",
      "Name: dependents, dtype: int64\n",
      "-------------\n",
      "phone_service\n",
      "Yes    1699\n",
      "No      170\n",
      "Name: phone_service, dtype: int64\n",
      "-------------\n",
      "multiple_lines\n",
      "Yes                 850\n",
      "No                  849\n",
      "No phone service    170\n",
      "Name: multiple_lines, dtype: int64\n",
      "-------------\n",
      "online_security\n",
      "No                     1461\n",
      "Yes                     295\n",
      "No internet service     113\n",
      "Name: online_security, dtype: int64\n",
      "-------------\n",
      "online_backup\n",
      "No                     1233\n",
      "Yes                     523\n",
      "No internet service     113\n",
      "Name: online_backup, dtype: int64\n",
      "-------------\n",
      "device_protection\n",
      "No                     1211\n",
      "Yes                     545\n",
      "No internet service     113\n",
      "Name: device_protection, dtype: int64\n",
      "-------------\n",
      "tech_support\n",
      "No                     1446\n",
      "Yes                     310\n",
      "No internet service     113\n",
      "Name: tech_support, dtype: int64\n",
      "-------------\n",
      "streaming_tv\n",
      "No                     942\n",
      "Yes                    814\n",
      "No internet service    113\n",
      "Name: streaming_tv, dtype: int64\n",
      "-------------\n",
      "streaming_movies\n",
      "No                     938\n",
      "Yes                    818\n",
      "No internet service    113\n",
      "Name: streaming_movies, dtype: int64\n",
      "-------------\n",
      "paperless_billing\n",
      "Yes    1400\n",
      "No      469\n",
      "Name: paperless_billing, dtype: int64\n",
      "-------------\n",
      "monthly_charges\n",
      "74.40     13\n",
      "74.90      9\n",
      "74.95      8\n",
      "45.30      8\n",
      "94.40      7\n",
      "          ..\n",
      "84.15      1\n",
      "21.05      1\n",
      "118.35     1\n",
      "94.80      1\n",
      "61.60      1\n",
      "Name: monthly_charges, Length: 910, dtype: int64\n",
      "-------------\n",
      "total_charges\n",
      "20.2       6\n",
      "45.3       5\n",
      "19.9       4\n",
      "75.3       4\n",
      "20.15      4\n",
      "          ..\n",
      "2351.8     1\n",
      "281        1\n",
      "1622.45    1\n",
      "4367.35    1\n",
      "2076.2     1\n",
      "Name: total_charges, Length: 1732, dtype: int64\n",
      "-------------\n",
      "churn\n",
      "Yes    1869\n",
      "Name: churn, dtype: int64\n",
      "-------------\n",
      "internet_service_type\n",
      "Fiber optic    1297\n",
      "DSL             459\n",
      "None            113\n",
      "Name: internet_service_type, dtype: int64\n",
      "-------------\n",
      "contract_type\n",
      "Month-to-month    1655\n",
      "One year           166\n",
      "Two year            48\n",
      "Name: contract_type, dtype: int64\n",
      "-------------\n"
     ]
    }
   ],
   "source": [
    "# value counts on my churned data frame\n",
    "\n",
    "columns = ['payment_type', 'gender', 'senior_citizen', 'partner', 'dependents', 'phone_service', 'multiple_lines', \n",
    "           'online_security', 'online_backup', 'device_protection', 'tech_support',\n",
    "          'streaming_tv', 'streaming_movies', 'paperless_billing',\n",
    "          'monthly_charges', 'total_charges', 'churn', 'internet_service_type', 'contract_type']\n",
    "\n",
    "for col in columns:\n",
    "    print(col)\n",
    "    print(churned_df[col].value_counts())\n",
    "    print('-------------')"
   ]
  },
  {
   "cell_type": "markdown",
   "metadata": {},
   "source": [
    "### What are my takeaways?\n",
    "- Right off the bat I can see which columns have an obvious association to churn:\n",
    " - contract_type/contract_type_id\n",
    " - internet_service_type/internet_service_type_id\n",
    " - paperless billing\n",
    " - tech_support\n",
    " - device_protection\n",
    " - online_backup\n",
    " - online security\n",
    " - phone_service\n",
    " - dependents\n",
    " - partner\n",
    " - senior_citizen\n",
    " - payment_type/paymnent_type_id\n",
    " \n",
    "----------------\n",
    " \n",
    "- Things to investigate further:\n",
    " - Is there an association with total charges?\n",
    " - Is there an association with monthly charges?\n",
    " - Is there an association with tenure?\n",
    " \n",
    "----------------\n",
    " \n",
    "- We don't care too much about:\n",
    " - streaming_movies\n",
    " - streaming_tv\n",
    " - multiple_lines\n",
    " - gender"
   ]
  },
  {
   "cell_type": "code",
   "execution_count": 27,
   "metadata": {},
   "outputs": [],
   "source": [
    "# make a df just for churned customers so we can hone in on a drive\n",
    "churned_df = df[df['churn']=='Yes']"
   ]
  },
  {
   "cell_type": "markdown",
   "metadata": {},
   "source": [
    "## Combine everything into functions"
   ]
  },
  {
   "cell_type": "code",
   "execution_count": null,
   "metadata": {},
   "outputs": [],
   "source": [
    "def prep_telco_data(df):\n",
    "    '''\n",
    "    This function prepares and cleans the telco dataframe imported from sql.\n",
    "    '''\n",
    "#     df = acquire.get_new_telco_churn_data()\n",
    "\n",
    "    # get rid of duplicate columns from the sql join\n",
    "    df = df.loc[:, ~df.columns.duplicated()]\n",
    "\n",
    "    # this is to adress the blank in total_charges. Here we replace the blank with a nan, and then drop our nulls\n",
    "    df = df.replace(' ', np.nan)\n",
    "    df.dropna(inplace=True)\n",
    "    # change our total_charges from a string to a float\n",
    "    df.total_charges = df.total_charges.astype('float')\n",
    "    \n",
    "    # drop the columns that do not appear to have any association to churn\n",
    "    df = df.drop(columns=['streaming_movies', 'streaming_tv', 'multiple_lines', 'gender',\n",
    "                         'contract_type_id', 'internet_service_type_id', 'payment_type_id'])\n",
    "    \n",
    "    # rename my tenure column\n",
    "    df = df.rename(columns={'tenure': 'tenure_in_months'})\n",
    "\n",
    "    # this change all of my yes and no columns to binary columns\n",
    "    columns = ['partner', 'dependents', 'phone_service', 'online_security', 'online_backup', \n",
    "               'device_protection', 'tech_support', 'paperless_billing', 'churn']\n",
    "\n",
    "    for cols in columns:\n",
    "        df[cols] = np.where(df[cols] == 'Yes', 1, 0)\n",
    "\n",
    "    return df\n",
    "\n",
    "\n",
    "\n",
    "def create_dummies(df):\n",
    "    '''\n",
    "    This function is used to create dummy columns for my non binary columns\n",
    "    '''\n",
    "    \n",
    "    # create dummies for payment_type, internet_service_type, and contract_type\n",
    "    payment_dummies = pd.get_dummies(df.payment_type, drop_first=True)\n",
    "    internet_dummies = pd.get_dummies(df.internet_service_type, drop_first=False)\n",
    "    contract_dummies = pd.get_dummies(df.contract_type, drop_first=True)\n",
    "    \n",
    "    # now we concatenate our dummy dataframes with the original\n",
    "    df = pd.concat([df, payment_dummies, internet_dummies, contract_dummies], axis=1)\n",
    "    \n",
    "    # now I am dropping all my original string columns that I made dummies with and dropping \n",
    "    #the type_id columns since they are duplicates of the string column\n",
    "    df = df.drop(columns=['None', 'payment_type', 'contract_type', 'internet_service_type'])\n",
    "    \n",
    "    return df\n",
    "\n",
    "\n",
    "def telco_split(df):\n",
    "    '''\n",
    "    This function takes in a dataframe and splits it into train, test, and validate dataframes for my model\n",
    "    '''\n",
    "\n",
    "    train_validate, test = train_test_split(df, test_size=.2, \n",
    "                                        random_state=123)\n",
    "    train, validate = train_test_split(train_validate, test_size=.3, \n",
    "                                   random_state=123)\n",
    "    return train, validate, test\n",
    "    "
   ]
  },
  {
   "cell_type": "code",
   "execution_count": 28,
   "metadata": {},
   "outputs": [],
   "source": [
    "df = prepare.prep_telco_data(df)"
   ]
  },
  {
   "cell_type": "code",
   "execution_count": 29,
   "metadata": {},
   "outputs": [
    {
     "data": {
      "text/html": [
       "<div>\n",
       "<style scoped>\n",
       "    .dataframe tbody tr th:only-of-type {\n",
       "        vertical-align: middle;\n",
       "    }\n",
       "\n",
       "    .dataframe tbody tr th {\n",
       "        vertical-align: top;\n",
       "    }\n",
       "\n",
       "    .dataframe thead th {\n",
       "        text-align: right;\n",
       "    }\n",
       "</style>\n",
       "<table border=\"1\" class=\"dataframe\">\n",
       "  <thead>\n",
       "    <tr style=\"text-align: right;\">\n",
       "      <th></th>\n",
       "      <th>939</th>\n",
       "    </tr>\n",
       "  </thead>\n",
       "  <tbody>\n",
       "    <tr>\n",
       "      <th>payment_type_id</th>\n",
       "      <td>1</td>\n",
       "    </tr>\n",
       "    <tr>\n",
       "      <th>payment_type</th>\n",
       "      <td>Electronic check</td>\n",
       "    </tr>\n",
       "    <tr>\n",
       "      <th>customer_id</th>\n",
       "      <td>2037-SGXHH</td>\n",
       "    </tr>\n",
       "    <tr>\n",
       "      <th>senior_citizen</th>\n",
       "      <td>0</td>\n",
       "    </tr>\n",
       "    <tr>\n",
       "      <th>partner</th>\n",
       "      <td>1</td>\n",
       "    </tr>\n",
       "    <tr>\n",
       "      <th>dependents</th>\n",
       "      <td>1</td>\n",
       "    </tr>\n",
       "    <tr>\n",
       "      <th>tenure_in_months</th>\n",
       "      <td>38</td>\n",
       "    </tr>\n",
       "    <tr>\n",
       "      <th>phone_service</th>\n",
       "      <td>1</td>\n",
       "    </tr>\n",
       "    <tr>\n",
       "      <th>online_security</th>\n",
       "      <td>0</td>\n",
       "    </tr>\n",
       "    <tr>\n",
       "      <th>online_backup</th>\n",
       "      <td>1</td>\n",
       "    </tr>\n",
       "    <tr>\n",
       "      <th>device_protection</th>\n",
       "      <td>1</td>\n",
       "    </tr>\n",
       "    <tr>\n",
       "      <th>tech_support</th>\n",
       "      <td>0</td>\n",
       "    </tr>\n",
       "    <tr>\n",
       "      <th>paperless_billing</th>\n",
       "      <td>1</td>\n",
       "    </tr>\n",
       "    <tr>\n",
       "      <th>monthly_charges</th>\n",
       "      <td>94.65</td>\n",
       "    </tr>\n",
       "    <tr>\n",
       "      <th>total_charges</th>\n",
       "      <td>3624.3</td>\n",
       "    </tr>\n",
       "    <tr>\n",
       "      <th>churn</th>\n",
       "      <td>1</td>\n",
       "    </tr>\n",
       "    <tr>\n",
       "      <th>internet_service_type</th>\n",
       "      <td>Fiber optic</td>\n",
       "    </tr>\n",
       "    <tr>\n",
       "      <th>contract_type</th>\n",
       "      <td>Month-to-month</td>\n",
       "    </tr>\n",
       "  </tbody>\n",
       "</table>\n",
       "</div>"
      ],
      "text/plain": [
       "                                    939\n",
       "payment_type_id                       1\n",
       "payment_type           Electronic check\n",
       "customer_id                  2037-SGXHH\n",
       "senior_citizen                        0\n",
       "partner                               1\n",
       "dependents                            1\n",
       "tenure_in_months                     38\n",
       "phone_service                         1\n",
       "online_security                       0\n",
       "online_backup                         1\n",
       "device_protection                     1\n",
       "tech_support                          0\n",
       "paperless_billing                     1\n",
       "monthly_charges                   94.65\n",
       "total_charges                    3624.3\n",
       "churn                                 1\n",
       "internet_service_type       Fiber optic\n",
       "contract_type            Month-to-month"
      ]
     },
     "execution_count": 29,
     "metadata": {},
     "output_type": "execute_result"
    }
   ],
   "source": [
    "df.sample().T"
   ]
  },
  {
   "cell_type": "code",
   "execution_count": 30,
   "metadata": {},
   "outputs": [
    {
     "data": {
      "image/png": "[encoded data removed]",
      "text/plain": [
       "<Figure size 1152x648 with 2 Axes>"
      ]
     },
     "metadata": {
      "needs_background": "light"
     },
     "output_type": "display_data"
    }
   ],
   "source": [
    "plt.figure(figsize=(16, 9))\n",
    "sns.heatmap(((df.corr())), cmap='YlGnBu', center=0, annot=True)\n",
    "\n",
    "plt.title('')\n",
    "plt.show()"
   ]
  },
  {
   "cell_type": "code",
   "execution_count": 31,
   "metadata": {},
   "outputs": [
    {
     "data": {
      "text/html": [
       "<div>\n",
       "<style scoped>\n",
       "    .dataframe tbody tr th:only-of-type {\n",
       "        vertical-align: middle;\n",
       "    }\n",
       "\n",
       "    .dataframe tbody tr th {\n",
       "        vertical-align: top;\n",
       "    }\n",
       "\n",
       "    .dataframe thead th {\n",
       "        text-align: right;\n",
       "    }\n",
       "</style>\n",
       "<table border=\"1\" class=\"dataframe\">\n",
       "  <thead>\n",
       "    <tr style=\"text-align: right;\">\n",
       "      <th></th>\n",
       "      <th>payment_type_id</th>\n",
       "      <th>senior_citizen</th>\n",
       "      <th>partner</th>\n",
       "      <th>dependents</th>\n",
       "      <th>tenure_in_months</th>\n",
       "      <th>phone_service</th>\n",
       "      <th>online_security</th>\n",
       "      <th>online_backup</th>\n",
       "      <th>device_protection</th>\n",
       "      <th>tech_support</th>\n",
       "      <th>paperless_billing</th>\n",
       "      <th>monthly_charges</th>\n",
       "      <th>total_charges</th>\n",
       "      <th>churn</th>\n",
       "    </tr>\n",
       "  </thead>\n",
       "  <tbody>\n",
       "    <tr>\n",
       "      <th>payment_type_id</th>\n",
       "      <td>1.000000</td>\n",
       "      <td>-0.093712</td>\n",
       "      <td>0.133280</td>\n",
       "      <td>0.124002</td>\n",
       "      <td>0.340939</td>\n",
       "      <td>-0.003106</td>\n",
       "      <td>0.162848</td>\n",
       "      <td>0.096246</td>\n",
       "      <td>0.110953</td>\n",
       "      <td>0.167189</td>\n",
       "      <td>-0.101790</td>\n",
       "      <td>-0.074640</td>\n",
       "      <td>0.222694</td>\n",
       "      <td>-0.262918</td>\n",
       "    </tr>\n",
       "    <tr>\n",
       "      <th>senior_citizen</th>\n",
       "      <td>-0.093712</td>\n",
       "      <td>1.000000</td>\n",
       "      <td>0.016957</td>\n",
       "      <td>-0.210550</td>\n",
       "      <td>0.015683</td>\n",
       "      <td>0.008392</td>\n",
       "      <td>-0.038576</td>\n",
       "      <td>0.066663</td>\n",
       "      <td>0.059514</td>\n",
       "      <td>-0.060577</td>\n",
       "      <td>0.156258</td>\n",
       "      <td>0.219874</td>\n",
       "      <td>0.102411</td>\n",
       "      <td>0.150541</td>\n",
       "    </tr>\n",
       "    <tr>\n",
       "      <th>partner</th>\n",
       "      <td>0.133280</td>\n",
       "      <td>0.016957</td>\n",
       "      <td>1.000000</td>\n",
       "      <td>0.452269</td>\n",
       "      <td>0.381912</td>\n",
       "      <td>0.018397</td>\n",
       "      <td>0.143346</td>\n",
       "      <td>0.141849</td>\n",
       "      <td>0.153556</td>\n",
       "      <td>0.120206</td>\n",
       "      <td>-0.013957</td>\n",
       "      <td>0.097825</td>\n",
       "      <td>0.319072</td>\n",
       "      <td>-0.149982</td>\n",
       "    </tr>\n",
       "    <tr>\n",
       "      <th>dependents</th>\n",
       "      <td>0.124002</td>\n",
       "      <td>-0.210550</td>\n",
       "      <td>0.452269</td>\n",
       "      <td>1.000000</td>\n",
       "      <td>0.163386</td>\n",
       "      <td>-0.001078</td>\n",
       "      <td>0.080786</td>\n",
       "      <td>0.023639</td>\n",
       "      <td>0.013900</td>\n",
       "      <td>0.063053</td>\n",
       "      <td>-0.110131</td>\n",
       "      <td>-0.112343</td>\n",
       "      <td>0.064653</td>\n",
       "      <td>-0.163128</td>\n",
       "    </tr>\n",
       "    <tr>\n",
       "      <th>tenure_in_months</th>\n",
       "      <td>0.340939</td>\n",
       "      <td>0.015683</td>\n",
       "      <td>0.381912</td>\n",
       "      <td>0.163386</td>\n",
       "      <td>1.000000</td>\n",
       "      <td>0.007877</td>\n",
       "      <td>0.328297</td>\n",
       "      <td>0.361138</td>\n",
       "      <td>0.361520</td>\n",
       "      <td>0.325288</td>\n",
       "      <td>0.004823</td>\n",
       "      <td>0.246862</td>\n",
       "      <td>0.825880</td>\n",
       "      <td>-0.354049</td>\n",
       "    </tr>\n",
       "    <tr>\n",
       "      <th>phone_service</th>\n",
       "      <td>-0.003106</td>\n",
       "      <td>0.008392</td>\n",
       "      <td>0.018397</td>\n",
       "      <td>-0.001078</td>\n",
       "      <td>0.007877</td>\n",
       "      <td>1.000000</td>\n",
       "      <td>-0.091676</td>\n",
       "      <td>-0.052133</td>\n",
       "      <td>-0.070076</td>\n",
       "      <td>-0.095138</td>\n",
       "      <td>0.016696</td>\n",
       "      <td>0.248033</td>\n",
       "      <td>0.113008</td>\n",
       "      <td>0.011691</td>\n",
       "    </tr>\n",
       "    <tr>\n",
       "      <th>online_security</th>\n",
       "      <td>0.162848</td>\n",
       "      <td>-0.038576</td>\n",
       "      <td>0.143346</td>\n",
       "      <td>0.080786</td>\n",
       "      <td>0.328297</td>\n",
       "      <td>-0.091676</td>\n",
       "      <td>1.000000</td>\n",
       "      <td>0.283285</td>\n",
       "      <td>0.274875</td>\n",
       "      <td>0.354458</td>\n",
       "      <td>-0.004051</td>\n",
       "      <td>0.296447</td>\n",
       "      <td>0.412619</td>\n",
       "      <td>-0.171270</td>\n",
       "    </tr>\n",
       "    <tr>\n",
       "      <th>online_backup</th>\n",
       "      <td>0.096246</td>\n",
       "      <td>0.066663</td>\n",
       "      <td>0.141849</td>\n",
       "      <td>0.023639</td>\n",
       "      <td>0.361138</td>\n",
       "      <td>-0.052133</td>\n",
       "      <td>0.283285</td>\n",
       "      <td>1.000000</td>\n",
       "      <td>0.303058</td>\n",
       "      <td>0.293705</td>\n",
       "      <td>0.127056</td>\n",
       "      <td>0.441529</td>\n",
       "      <td>0.510100</td>\n",
       "      <td>-0.082307</td>\n",
       "    </tr>\n",
       "    <tr>\n",
       "      <th>device_protection</th>\n",
       "      <td>0.110953</td>\n",
       "      <td>0.059514</td>\n",
       "      <td>0.153556</td>\n",
       "      <td>0.013900</td>\n",
       "      <td>0.361520</td>\n",
       "      <td>-0.070076</td>\n",
       "      <td>0.274875</td>\n",
       "      <td>0.303058</td>\n",
       "      <td>1.000000</td>\n",
       "      <td>0.332850</td>\n",
       "      <td>0.104079</td>\n",
       "      <td>0.482607</td>\n",
       "      <td>0.522881</td>\n",
       "      <td>-0.066193</td>\n",
       "    </tr>\n",
       "    <tr>\n",
       "      <th>tech_support</th>\n",
       "      <td>0.167189</td>\n",
       "      <td>-0.060577</td>\n",
       "      <td>0.120206</td>\n",
       "      <td>0.063053</td>\n",
       "      <td>0.325288</td>\n",
       "      <td>-0.095138</td>\n",
       "      <td>0.354458</td>\n",
       "      <td>0.293705</td>\n",
       "      <td>0.332850</td>\n",
       "      <td>1.000000</td>\n",
       "      <td>0.037536</td>\n",
       "      <td>0.338301</td>\n",
       "      <td>0.432868</td>\n",
       "      <td>-0.164716</td>\n",
       "    </tr>\n",
       "    <tr>\n",
       "      <th>paperless_billing</th>\n",
       "      <td>-0.101790</td>\n",
       "      <td>0.156258</td>\n",
       "      <td>-0.013957</td>\n",
       "      <td>-0.110131</td>\n",
       "      <td>0.004823</td>\n",
       "      <td>0.016696</td>\n",
       "      <td>-0.004051</td>\n",
       "      <td>0.127056</td>\n",
       "      <td>0.104079</td>\n",
       "      <td>0.037536</td>\n",
       "      <td>1.000000</td>\n",
       "      <td>0.351930</td>\n",
       "      <td>0.157830</td>\n",
       "      <td>0.191454</td>\n",
       "    </tr>\n",
       "    <tr>\n",
       "      <th>monthly_charges</th>\n",
       "      <td>-0.074640</td>\n",
       "      <td>0.219874</td>\n",
       "      <td>0.097825</td>\n",
       "      <td>-0.112343</td>\n",
       "      <td>0.246862</td>\n",
       "      <td>0.248033</td>\n",
       "      <td>0.296447</td>\n",
       "      <td>0.441529</td>\n",
       "      <td>0.482607</td>\n",
       "      <td>0.338301</td>\n",
       "      <td>0.351930</td>\n",
       "      <td>1.000000</td>\n",
       "      <td>0.651065</td>\n",
       "      <td>0.192858</td>\n",
       "    </tr>\n",
       "    <tr>\n",
       "      <th>total_charges</th>\n",
       "      <td>0.222694</td>\n",
       "      <td>0.102411</td>\n",
       "      <td>0.319072</td>\n",
       "      <td>0.064653</td>\n",
       "      <td>0.825880</td>\n",
       "      <td>0.113008</td>\n",
       "      <td>0.412619</td>\n",
       "      <td>0.510100</td>\n",
       "      <td>0.522881</td>\n",
       "      <td>0.432868</td>\n",
       "      <td>0.157830</td>\n",
       "      <td>0.651065</td>\n",
       "      <td>1.000000</td>\n",
       "      <td>-0.199484</td>\n",
       "    </tr>\n",
       "    <tr>\n",
       "      <th>churn</th>\n",
       "      <td>-0.262918</td>\n",
       "      <td>0.150541</td>\n",
       "      <td>-0.149982</td>\n",
       "      <td>-0.163128</td>\n",
       "      <td>-0.354049</td>\n",
       "      <td>0.011691</td>\n",
       "      <td>-0.171270</td>\n",
       "      <td>-0.082307</td>\n",
       "      <td>-0.066193</td>\n",
       "      <td>-0.164716</td>\n",
       "      <td>0.191454</td>\n",
       "      <td>0.192858</td>\n",
       "      <td>-0.199484</td>\n",
       "      <td>1.000000</td>\n",
       "    </tr>\n",
       "  </tbody>\n",
       "</table>\n",
       "</div>"
      ],
      "text/plain": [
       "                   payment_type_id  senior_citizen   partner  dependents  \\\n",
       "payment_type_id           1.000000       -0.093712  0.133280    0.124002   \n",
       "senior_citizen           -0.093712        1.000000  0.016957   -0.210550   \n",
       "partner                   0.133280        0.016957  1.000000    0.452269   \n",
       "dependents                0.124002       -0.210550  0.452269    1.000000   \n",
       "tenure_in_months          0.340939        0.015683  0.381912    0.163386   \n",
       "phone_service            -0.003106        0.008392  0.018397   -0.001078   \n",
       "online_security           0.162848       -0.038576  0.143346    0.080786   \n",
       "online_backup             0.096246        0.066663  0.141849    0.023639   \n",
       "device_protection         0.110953        0.059514  0.153556    0.013900   \n",
       "tech_support              0.167189       -0.060577  0.120206    0.063053   \n",
       "paperless_billing        -0.101790        0.156258 -0.013957   -0.110131   \n",
       "monthly_charges          -0.074640        0.219874  0.097825   -0.112343   \n",
       "total_charges             0.222694        0.102411  0.319072    0.064653   \n",
       "churn                    -0.262918        0.150541 -0.149982   -0.163128   \n",
       "\n",
       "                   tenure_in_months  phone_service  online_security  \\\n",
       "payment_type_id            0.340939      -0.003106         0.162848   \n",
       "senior_citizen             0.015683       0.008392        -0.038576   \n",
       "partner                    0.381912       0.018397         0.143346   \n",
       "dependents                 0.163386      -0.001078         0.080786   \n",
       "tenure_in_months           1.000000       0.007877         0.328297   \n",
       "phone_service              0.007877       1.000000        -0.091676   \n",
       "online_security            0.328297      -0.091676         1.000000   \n",
       "online_backup              0.361138      -0.052133         0.283285   \n",
       "device_protection          0.361520      -0.070076         0.274875   \n",
       "tech_support               0.325288      -0.095138         0.354458   \n",
       "paperless_billing          0.004823       0.016696        -0.004051   \n",
       "monthly_charges            0.246862       0.248033         0.296447   \n",
       "total_charges              0.825880       0.113008         0.412619   \n",
       "churn                     -0.354049       0.011691        -0.171270   \n",
       "\n",
       "                   online_backup  device_protection  tech_support  \\\n",
       "payment_type_id         0.096246           0.110953      0.167189   \n",
       "senior_citizen          0.066663           0.059514     -0.060577   \n",
       "partner                 0.141849           0.153556      0.120206   \n",
       "dependents              0.023639           0.013900      0.063053   \n",
       "tenure_in_months        0.361138           0.361520      0.325288   \n",
       "phone_service          -0.052133          -0.070076     -0.095138   \n",
       "online_security         0.283285           0.274875      0.354458   \n",
       "online_backup           1.000000           0.303058      0.293705   \n",
       "device_protection       0.303058           1.000000      0.332850   \n",
       "tech_support            0.293705           0.332850      1.000000   \n",
       "paperless_billing       0.127056           0.104079      0.037536   \n",
       "monthly_charges         0.441529           0.482607      0.338301   \n",
       "total_charges           0.510100           0.522881      0.432868   \n",
       "churn                  -0.082307          -0.066193     -0.164716   \n",
       "\n",
       "                   paperless_billing  monthly_charges  total_charges     churn  \n",
       "payment_type_id            -0.101790        -0.074640       0.222694 -0.262918  \n",
       "senior_citizen              0.156258         0.219874       0.102411  0.150541  \n",
       "partner                    -0.013957         0.097825       0.319072 -0.149982  \n",
       "dependents                 -0.110131        -0.112343       0.064653 -0.163128  \n",
       "tenure_in_months            0.004823         0.246862       0.825880 -0.354049  \n",
       "phone_service               0.016696         0.248033       0.113008  0.011691  \n",
       "online_security            -0.004051         0.296447       0.412619 -0.171270  \n",
       "online_backup               0.127056         0.441529       0.510100 -0.082307  \n",
       "device_protection           0.104079         0.482607       0.522881 -0.066193  \n",
       "tech_support                0.037536         0.338301       0.432868 -0.164716  \n",
       "paperless_billing           1.000000         0.351930       0.157830  0.191454  \n",
       "monthly_charges             0.351930         1.000000       0.651065  0.192858  \n",
       "total_charges               0.157830         0.651065       1.000000 -0.199484  \n",
       "churn                       0.191454         0.192858      -0.199484  1.000000  "
      ]
     },
     "execution_count": 31,
     "metadata": {},
     "output_type": "execute_result"
    }
   ],
   "source": [
    "correl = df.corr()\n",
    "correl.T"
   ]
  },
  {
   "cell_type": "code",
   "execution_count": 34,
   "metadata": {},
   "outputs": [
    {
     "data": {
      "text/plain": [
       "Text(0.5, 1.0, 'Feautures  Correlating with Churn')"
      ]
     },
     "execution_count": 34,
     "metadata": {},
     "output_type": "execute_result"
    },
    {
     "data": {
      "image/png": "[encoded data removed]",
      "text/plain": [
       "<Figure size 576x864 with 2 Axes>"
      ]
     },
     "metadata": {
      "needs_background": "light"
     },
     "output_type": "display_data"
    }
   ],
   "source": [
    "plt.figure(figsize=(8,12))\n",
    "churn_heatmap = sns.heatmap(df.corr()[['churn']].sort_values(by='churn', ascending=False), cmap='YlGnBu', vmin=-.5, vmax=.5, annot=True)\n",
    "churn_heatmap.set_title('Feautures  Correlating with Churn')"
   ]
  },
  {
   "cell_type": "code",
   "execution_count": 35,
   "metadata": {},
   "outputs": [
    {
     "data": {
      "text/html": [
       "<div>\n",
       "<style scoped>\n",
       "    .dataframe tbody tr th:only-of-type {\n",
       "        vertical-align: middle;\n",
       "    }\n",
       "\n",
       "    .dataframe tbody tr th {\n",
       "        vertical-align: top;\n",
       "    }\n",
       "\n",
       "    .dataframe thead th {\n",
       "        text-align: right;\n",
       "    }\n",
       "</style>\n",
       "<table border=\"1\" class=\"dataframe\">\n",
       "  <thead>\n",
       "    <tr style=\"text-align: right;\">\n",
       "      <th></th>\n",
       "      <th>3594</th>\n",
       "      <th>3264</th>\n",
       "      <th>3573</th>\n",
       "    </tr>\n",
       "  </thead>\n",
       "  <tbody>\n",
       "    <tr>\n",
       "      <th>payment_type_id</th>\n",
       "      <td>1</td>\n",
       "      <td>4</td>\n",
       "      <td>2</td>\n",
       "    </tr>\n",
       "    <tr>\n",
       "      <th>payment_type</th>\n",
       "      <td>Electronic check</td>\n",
       "      <td>Credit card (automatic)</td>\n",
       "      <td>Mailed check</td>\n",
       "    </tr>\n",
       "    <tr>\n",
       "      <th>customer_id</th>\n",
       "      <td>7675-OZCZG</td>\n",
       "      <td>4959-JOSRX</td>\n",
       "      <td>7551-DACSP</td>\n",
       "    </tr>\n",
       "    <tr>\n",
       "      <th>senior_citizen</th>\n",
       "      <td>1</td>\n",
       "      <td>0</td>\n",
       "      <td>0</td>\n",
       "    </tr>\n",
       "    <tr>\n",
       "      <th>partner</th>\n",
       "      <td>0</td>\n",
       "      <td>1</td>\n",
       "      <td>1</td>\n",
       "    </tr>\n",
       "    <tr>\n",
       "      <th>dependents</th>\n",
       "      <td>0</td>\n",
       "      <td>0</td>\n",
       "      <td>1</td>\n",
       "    </tr>\n",
       "    <tr>\n",
       "      <th>tenure_in_months</th>\n",
       "      <td>3</td>\n",
       "      <td>2</td>\n",
       "      <td>6</td>\n",
       "    </tr>\n",
       "    <tr>\n",
       "      <th>phone_service</th>\n",
       "      <td>1</td>\n",
       "      <td>1</td>\n",
       "      <td>1</td>\n",
       "    </tr>\n",
       "    <tr>\n",
       "      <th>online_security</th>\n",
       "      <td>0</td>\n",
       "      <td>0</td>\n",
       "      <td>0</td>\n",
       "    </tr>\n",
       "    <tr>\n",
       "      <th>online_backup</th>\n",
       "      <td>0</td>\n",
       "      <td>0</td>\n",
       "      <td>1</td>\n",
       "    </tr>\n",
       "    <tr>\n",
       "      <th>device_protection</th>\n",
       "      <td>0</td>\n",
       "      <td>0</td>\n",
       "      <td>1</td>\n",
       "    </tr>\n",
       "    <tr>\n",
       "      <th>tech_support</th>\n",
       "      <td>0</td>\n",
       "      <td>0</td>\n",
       "      <td>0</td>\n",
       "    </tr>\n",
       "    <tr>\n",
       "      <th>paperless_billing</th>\n",
       "      <td>0</td>\n",
       "      <td>1</td>\n",
       "      <td>1</td>\n",
       "    </tr>\n",
       "    <tr>\n",
       "      <th>monthly_charges</th>\n",
       "      <td>45</td>\n",
       "      <td>44.6</td>\n",
       "      <td>55.3</td>\n",
       "    </tr>\n",
       "    <tr>\n",
       "      <th>total_charges</th>\n",
       "      <td>127.1</td>\n",
       "      <td>80.55</td>\n",
       "      <td>324.25</td>\n",
       "    </tr>\n",
       "    <tr>\n",
       "      <th>churn</th>\n",
       "      <td>1</td>\n",
       "      <td>1</td>\n",
       "      <td>1</td>\n",
       "    </tr>\n",
       "    <tr>\n",
       "      <th>internet_service_type</th>\n",
       "      <td>DSL</td>\n",
       "      <td>DSL</td>\n",
       "      <td>DSL</td>\n",
       "    </tr>\n",
       "    <tr>\n",
       "      <th>contract_type</th>\n",
       "      <td>Month-to-month</td>\n",
       "      <td>Month-to-month</td>\n",
       "      <td>Month-to-month</td>\n",
       "    </tr>\n",
       "  </tbody>\n",
       "</table>\n",
       "</div>"
      ],
      "text/plain": [
       "                                   3594                     3264  \\\n",
       "payment_type_id                       1                        4   \n",
       "payment_type           Electronic check  Credit card (automatic)   \n",
       "customer_id                  7675-OZCZG               4959-JOSRX   \n",
       "senior_citizen                        1                        0   \n",
       "partner                               0                        1   \n",
       "dependents                            0                        0   \n",
       "tenure_in_months                      3                        2   \n",
       "phone_service                         1                        1   \n",
       "online_security                       0                        0   \n",
       "online_backup                         0                        0   \n",
       "device_protection                     0                        0   \n",
       "tech_support                          0                        0   \n",
       "paperless_billing                     0                        1   \n",
       "monthly_charges                      45                     44.6   \n",
       "total_charges                     127.1                    80.55   \n",
       "churn                                 1                        1   \n",
       "internet_service_type               DSL                      DSL   \n",
       "contract_type            Month-to-month           Month-to-month   \n",
       "\n",
       "                                 3573  \n",
       "payment_type_id                     2  \n",
       "payment_type             Mailed check  \n",
       "customer_id                7551-DACSP  \n",
       "senior_citizen                      0  \n",
       "partner                             1  \n",
       "dependents                          1  \n",
       "tenure_in_months                    6  \n",
       "phone_service                       1  \n",
       "online_security                     0  \n",
       "online_backup                       1  \n",
       "device_protection                   1  \n",
       "tech_support                        0  \n",
       "paperless_billing                   1  \n",
       "monthly_charges                  55.3  \n",
       "total_charges                  324.25  \n",
       "churn                               1  \n",
       "internet_service_type             DSL  \n",
       "contract_type          Month-to-month  "
      ]
     },
     "execution_count": 35,
     "metadata": {},
     "output_type": "execute_result"
    }
   ],
   "source": [
    "churned_df = df[df['churn']==1]\n",
    "churned_df.sample(3).T"
   ]
  },
  {
   "cell_type": "code",
   "execution_count": null,
   "metadata": {},
   "outputs": [],
   "source": []
  },
  {
   "cell_type": "markdown",
   "metadata": {},
   "source": [
    "# EXPLORE"
   ]
  },
  {
   "cell_type": "code",
   "execution_count": 36,
   "metadata": {},
   "outputs": [
    {
     "data": {
      "text/plain": [
       "(64.79820819112616, 74.44133226324224)"
      ]
     },
     "execution_count": 36,
     "metadata": {},
     "output_type": "execute_result"
    }
   ],
   "source": [
    "#  Is there an association with monthly charges?\n",
    "df.monthly_charges.mean(), churned_df.monthly_charges.mean()"
   ]
  },
  {
   "cell_type": "code",
   "execution_count": 37,
   "metadata": {},
   "outputs": [
    {
     "data": {
      "text/plain": [
       "Text(0, 0.5, 'amount of customers')"
      ]
     },
     "execution_count": 37,
     "metadata": {},
     "output_type": "execute_result"
    },
    {
     "data": {
      "image/png": "[encoded data removed]",
      "text/plain": [
       "<Figure size 432x288 with 1 Axes>"
      ]
     },
     "metadata": {
      "needs_background": "light"
     },
     "output_type": "display_data"
    }
   ],
   "source": [
    "# churned customers pay more monthly charges than overall customers\n",
    "df.monthly_charges.hist()\n",
    "churned_df.monthly_charges.hist()\n",
    "plt.xlabel('monthly charges')\n",
    "plt.ylabel('amount of customers')"
   ]
  },
  {
   "cell_type": "code",
   "execution_count": 38,
   "metadata": {},
   "outputs": [
    {
     "data": {
      "text/plain": [
       "(2283.300440841863, 1531.7960941680042)"
      ]
     },
     "execution_count": 38,
     "metadata": {},
     "output_type": "execute_result"
    }
   ],
   "source": [
    "df.total_charges.mean(), churned_df.total_charges.mean()"
   ]
  },
  {
   "cell_type": "code",
   "execution_count": 39,
   "metadata": {},
   "outputs": [
    {
     "data": {
      "text/plain": [
       "Text(0, 0.5, 'amount of customers')"
      ]
     },
     "execution_count": 39,
     "metadata": {},
     "output_type": "execute_result"
    },
    {
     "data": {
      "image/png": "[encoded data removed]",
      "text/plain": [
       "<Figure size 432x288 with 1 Axes>"
      ]
     },
     "metadata": {
      "needs_background": "light"
     },
     "output_type": "display_data"
    }
   ],
   "source": [
    "# comparison of total charges\n",
    "df.total_charges.hist()\n",
    "churned_df.total_charges.hist()\n",
    "plt.xlabel('total charges')\n",
    "plt.ylabel('amount of customers')"
   ]
  },
  {
   "cell_type": "code",
   "execution_count": 40,
   "metadata": {},
   "outputs": [
    {
     "data": {
      "text/plain": [
       "Text(0, 0.5, 'amount of customers')"
      ]
     },
     "execution_count": 40,
     "metadata": {},
     "output_type": "execute_result"
    },
    {
     "data": {
      "image/png": "[encoded data removed]",
      "text/plain": [
       "<Figure size 432x288 with 1 Axes>"
      ]
     },
     "metadata": {
      "needs_background": "light"
     },
     "output_type": "display_data"
    }
   ],
   "source": [
    "# comparison of tenure\n",
    "df.tenure_in_months.hist()\n",
    "churned_df.tenure_in_months.hist()\n",
    "plt.xlabel('tenure (months)')\n",
    "plt.ylabel('amount of customers')"
   ]
  },
  {
   "cell_type": "code",
   "execution_count": 41,
   "metadata": {},
   "outputs": [],
   "source": [
    "# _, ax = plt.subplots(nrows=1, ncols=19, figsize=(16, 6))\n",
    "# for i, column in enumerate(columns):\n",
    "#     sns.barplot(column, 'churn', data=df, ax=ax[i], alpha=0.5)\n",
    "#     plt.show()"
   ]
  },
  {
   "cell_type": "code",
   "execution_count": 42,
   "metadata": {},
   "outputs": [
    {
     "data": {
      "image/png": "[encoded data removed]",
      "text/plain": [
       "<Figure size 432x288 with 1 Axes>"
      ]
     },
     "metadata": {
      "needs_background": "light"
     },
     "output_type": "display_data"
    },
    {
     "data": {
      "image/png": "[encoded data removed]",
      "text/plain": [
       "<Figure size 432x288 with 1 Axes>"
      ]
     },
     "metadata": {
      "needs_background": "light"
     },
     "output_type": "display_data"
    },
    {
     "data": {
      "image/png": "[encoded data removed]",
      "text/plain": [
       "<Figure size 432x288 with 1 Axes>"
      ]
     },
     "metadata": {
      "needs_background": "light"
     },
     "output_type": "display_data"
    },
    {
     "data": {
      "image/png": "[encoded data removed]",
      "text/plain": [
       "<Figure size 432x288 with 1 Axes>"
      ]
     },
     "metadata": {
      "needs_background": "light"
     },
     "output_type": "display_data"
    },
    {
     "data": {
      "image/png": "[encoded data removed]",
      "text/plain": [
       "<Figure size 432x288 with 1 Axes>"
      ]
     },
     "metadata": {
      "needs_background": "light"
     },
     "output_type": "display_data"
    },
    {
     "data": {
      "image/png": "[encoded data removed]",
      "text/plain": [
       "<Figure size 432x288 with 1 Axes>"
      ]
     },
     "metadata": {
      "needs_background": "light"
     },
     "output_type": "display_data"
    },
    {
     "data": {
      "image/png": "[encoded data removed]",
      "text/plain": [
       "<Figure size 432x288 with 1 Axes>"
      ]
     },
     "metadata": {
      "needs_background": "light"
     },
     "output_type": "display_data"
    },
    {
     "data": {
      "image/png": "[encoded data removed]",
      "text/plain": [
       "<Figure size 432x288 with 1 Axes>"
      ]
     },
     "metadata": {
      "needs_background": "light"
     },
     "output_type": "display_data"
    },
    {
     "data": {
      "image/png": "[encoded data removed]",
      "text/plain": [
       "<Figure size 432x288 with 1 Axes>"
      ]
     },
     "metadata": {
      "needs_background": "light"
     },
     "output_type": "display_data"
    },
    {
     "data": {
      "image/png": "[encoded data removed]",
      "text/plain": [
       "<Figure size 432x288 with 1 Axes>"
      ]
     },
     "metadata": {
      "needs_background": "light"
     },
     "output_type": "display_data"
    },
    {
     "data": {
      "image/png": "[encoded data removed]",
      "text/plain": [
       "<Figure size 432x288 with 1 Axes>"
      ]
     },
     "metadata": {
      "needs_background": "light"
     },
     "output_type": "display_data"
    },
    {
     "data": {
      "image/png": "[encoded data removed]",
      "text/plain": [
       "<Figure size 432x288 with 1 Axes>"
      ]
     },
     "metadata": {
      "needs_background": "light"
     },
     "output_type": "display_data"
    },
    {
     "data": {
      "image/png": "[encoded data removed]",
      "text/plain": [
       "<Figure size 432x288 with 1 Axes>"
      ]
     },
     "metadata": {
      "needs_background": "light"
     },
     "output_type": "display_data"
    },
    {
     "data": {
      "image/png": "[encoded data removed]",
      "text/plain": [
       "<Figure size 432x288 with 1 Axes>"
      ]
     },
     "metadata": {
      "needs_background": "light"
     },
     "output_type": "display_data"
    },
    {
     "data": {
      "image/png": "[encoded data removed]",
      "text/plain": [
       "<Figure size 432x288 with 1 Axes>"
      ]
     },
     "metadata": {
      "needs_background": "light"
     },
     "output_type": "display_data"
    },
    {
     "data": {
      "image/png": "[encoded data removed]",
      "text/plain": [
       "<Figure size 432x288 with 1 Axes>"
      ]
     },
     "metadata": {
      "needs_background": "light"
     },
     "output_type": "display_data"
    },
    {
     "data": {
      "image/png": "[encoded data removed]",
      "text/plain": [
       "<Figure size 432x288 with 1 Axes>"
      ]
     },
     "metadata": {
      "needs_background": "light"
     },
     "output_type": "display_data"
    },
    {
     "data": {
      "image/png": "[encoded data removed]",
      "text/plain": [
       "<Figure size 432x288 with 1 Axes>"
      ]
     },
     "metadata": {
      "needs_background": "light"
     },
     "output_type": "display_data"
    }
   ],
   "source": [
    "for i in df.columns:\n",
    "    sns.countplot(data=df, x=i, hue='churn')\n",
    "    plt.show()"
   ]
  },
  {
   "cell_type": "code",
   "execution_count": 43,
   "metadata": {},
   "outputs": [
    {
     "data": {
      "text/plain": [
       "<AxesSubplot:xlabel='churn', ylabel='count'>"
      ]
     },
     "execution_count": 43,
     "metadata": {},
     "output_type": "execute_result"
    },
    {
     "data": {
      "image/png": "[encoded data removed]",
      "text/plain": [
       "<Figure size 432x288 with 1 Axes>"
      ]
     },
     "metadata": {
      "needs_background": "light"
     },
     "output_type": "display_data"
    }
   ],
   "source": [
    "sns.countplot(x='churn', hue='dependents', data=df)"
   ]
  },
  {
   "cell_type": "code",
   "execution_count": 44,
   "metadata": {},
   "outputs": [
    {
     "data": {
      "text/plain": [
       "<AxesSubplot:xlabel='churn', ylabel='count'>"
      ]
     },
     "execution_count": 44,
     "metadata": {},
     "output_type": "execute_result"
    },
    {
     "data": {
      "image/png": "[encoded data removed]",
      "text/plain": [
       "<Figure size 432x288 with 1 Axes>"
      ]
     },
     "metadata": {
      "needs_background": "light"
     },
     "output_type": "display_data"
    }
   ],
   "source": [
    "# partners don't play a part\n",
    "sns.countplot(x='churn', hue='partner', data=df)"
   ]
  },
  {
   "cell_type": "code",
   "execution_count": 45,
   "metadata": {},
   "outputs": [
    {
     "data": {
      "text/html": [
       "<div>\n",
       "<style scoped>\n",
       "    .dataframe tbody tr th:only-of-type {\n",
       "        vertical-align: middle;\n",
       "    }\n",
       "\n",
       "    .dataframe tbody tr th {\n",
       "        vertical-align: top;\n",
       "    }\n",
       "\n",
       "    .dataframe thead th {\n",
       "        text-align: right;\n",
       "    }\n",
       "</style>\n",
       "<table border=\"1\" class=\"dataframe\">\n",
       "  <thead>\n",
       "    <tr style=\"text-align: right;\">\n",
       "      <th></th>\n",
       "      <th>payment_type_id</th>\n",
       "      <th>senior_citizen</th>\n",
       "      <th>partner</th>\n",
       "      <th>dependents</th>\n",
       "      <th>tenure_in_months</th>\n",
       "      <th>phone_service</th>\n",
       "      <th>online_security</th>\n",
       "      <th>online_backup</th>\n",
       "      <th>device_protection</th>\n",
       "      <th>tech_support</th>\n",
       "      <th>paperless_billing</th>\n",
       "      <th>monthly_charges</th>\n",
       "      <th>total_charges</th>\n",
       "      <th>churn</th>\n",
       "    </tr>\n",
       "  </thead>\n",
       "  <tbody>\n",
       "    <tr>\n",
       "      <th>payment_type_id</th>\n",
       "      <td>1.000000</td>\n",
       "      <td>-0.093712</td>\n",
       "      <td>0.133280</td>\n",
       "      <td>0.124002</td>\n",
       "      <td>0.340939</td>\n",
       "      <td>-0.003106</td>\n",
       "      <td>0.162848</td>\n",
       "      <td>0.096246</td>\n",
       "      <td>0.110953</td>\n",
       "      <td>0.167189</td>\n",
       "      <td>-0.101790</td>\n",
       "      <td>-0.074640</td>\n",
       "      <td>0.222694</td>\n",
       "      <td>-0.262918</td>\n",
       "    </tr>\n",
       "    <tr>\n",
       "      <th>senior_citizen</th>\n",
       "      <td>-0.093712</td>\n",
       "      <td>1.000000</td>\n",
       "      <td>0.016957</td>\n",
       "      <td>-0.210550</td>\n",
       "      <td>0.015683</td>\n",
       "      <td>0.008392</td>\n",
       "      <td>-0.038576</td>\n",
       "      <td>0.066663</td>\n",
       "      <td>0.059514</td>\n",
       "      <td>-0.060577</td>\n",
       "      <td>0.156258</td>\n",
       "      <td>0.219874</td>\n",
       "      <td>0.102411</td>\n",
       "      <td>0.150541</td>\n",
       "    </tr>\n",
       "    <tr>\n",
       "      <th>partner</th>\n",
       "      <td>0.133280</td>\n",
       "      <td>0.016957</td>\n",
       "      <td>1.000000</td>\n",
       "      <td>0.452269</td>\n",
       "      <td>0.381912</td>\n",
       "      <td>0.018397</td>\n",
       "      <td>0.143346</td>\n",
       "      <td>0.141849</td>\n",
       "      <td>0.153556</td>\n",
       "      <td>0.120206</td>\n",
       "      <td>-0.013957</td>\n",
       "      <td>0.097825</td>\n",
       "      <td>0.319072</td>\n",
       "      <td>-0.149982</td>\n",
       "    </tr>\n",
       "    <tr>\n",
       "      <th>dependents</th>\n",
       "      <td>0.124002</td>\n",
       "      <td>-0.210550</td>\n",
       "      <td>0.452269</td>\n",
       "      <td>1.000000</td>\n",
       "      <td>0.163386</td>\n",
       "      <td>-0.001078</td>\n",
       "      <td>0.080786</td>\n",
       "      <td>0.023639</td>\n",
       "      <td>0.013900</td>\n",
       "      <td>0.063053</td>\n",
       "      <td>-0.110131</td>\n",
       "      <td>-0.112343</td>\n",
       "      <td>0.064653</td>\n",
       "      <td>-0.163128</td>\n",
       "    </tr>\n",
       "    <tr>\n",
       "      <th>tenure_in_months</th>\n",
       "      <td>0.340939</td>\n",
       "      <td>0.015683</td>\n",
       "      <td>0.381912</td>\n",
       "      <td>0.163386</td>\n",
       "      <td>1.000000</td>\n",
       "      <td>0.007877</td>\n",
       "      <td>0.328297</td>\n",
       "      <td>0.361138</td>\n",
       "      <td>0.361520</td>\n",
       "      <td>0.325288</td>\n",
       "      <td>0.004823</td>\n",
       "      <td>0.246862</td>\n",
       "      <td>0.825880</td>\n",
       "      <td>-0.354049</td>\n",
       "    </tr>\n",
       "    <tr>\n",
       "      <th>phone_service</th>\n",
       "      <td>-0.003106</td>\n",
       "      <td>0.008392</td>\n",
       "      <td>0.018397</td>\n",
       "      <td>-0.001078</td>\n",
       "      <td>0.007877</td>\n",
       "      <td>1.000000</td>\n",
       "      <td>-0.091676</td>\n",
       "      <td>-0.052133</td>\n",
       "      <td>-0.070076</td>\n",
       "      <td>-0.095138</td>\n",
       "      <td>0.016696</td>\n",
       "      <td>0.248033</td>\n",
       "      <td>0.113008</td>\n",
       "      <td>0.011691</td>\n",
       "    </tr>\n",
       "    <tr>\n",
       "      <th>online_security</th>\n",
       "      <td>0.162848</td>\n",
       "      <td>-0.038576</td>\n",
       "      <td>0.143346</td>\n",
       "      <td>0.080786</td>\n",
       "      <td>0.328297</td>\n",
       "      <td>-0.091676</td>\n",
       "      <td>1.000000</td>\n",
       "      <td>0.283285</td>\n",
       "      <td>0.274875</td>\n",
       "      <td>0.354458</td>\n",
       "      <td>-0.004051</td>\n",
       "      <td>0.296447</td>\n",
       "      <td>0.412619</td>\n",
       "      <td>-0.171270</td>\n",
       "    </tr>\n",
       "    <tr>\n",
       "      <th>online_backup</th>\n",
       "      <td>0.096246</td>\n",
       "      <td>0.066663</td>\n",
       "      <td>0.141849</td>\n",
       "      <td>0.023639</td>\n",
       "      <td>0.361138</td>\n",
       "      <td>-0.052133</td>\n",
       "      <td>0.283285</td>\n",
       "      <td>1.000000</td>\n",
       "      <td>0.303058</td>\n",
       "      <td>0.293705</td>\n",
       "      <td>0.127056</td>\n",
       "      <td>0.441529</td>\n",
       "      <td>0.510100</td>\n",
       "      <td>-0.082307</td>\n",
       "    </tr>\n",
       "    <tr>\n",
       "      <th>device_protection</th>\n",
       "      <td>0.110953</td>\n",
       "      <td>0.059514</td>\n",
       "      <td>0.153556</td>\n",
       "      <td>0.013900</td>\n",
       "      <td>0.361520</td>\n",
       "      <td>-0.070076</td>\n",
       "      <td>0.274875</td>\n",
       "      <td>0.303058</td>\n",
       "      <td>1.000000</td>\n",
       "      <td>0.332850</td>\n",
       "      <td>0.104079</td>\n",
       "      <td>0.482607</td>\n",
       "      <td>0.522881</td>\n",
       "      <td>-0.066193</td>\n",
       "    </tr>\n",
       "    <tr>\n",
       "      <th>tech_support</th>\n",
       "      <td>0.167189</td>\n",
       "      <td>-0.060577</td>\n",
       "      <td>0.120206</td>\n",
       "      <td>0.063053</td>\n",
       "      <td>0.325288</td>\n",
       "      <td>-0.095138</td>\n",
       "      <td>0.354458</td>\n",
       "      <td>0.293705</td>\n",
       "      <td>0.332850</td>\n",
       "      <td>1.000000</td>\n",
       "      <td>0.037536</td>\n",
       "      <td>0.338301</td>\n",
       "      <td>0.432868</td>\n",
       "      <td>-0.164716</td>\n",
       "    </tr>\n",
       "    <tr>\n",
       "      <th>paperless_billing</th>\n",
       "      <td>-0.101790</td>\n",
       "      <td>0.156258</td>\n",
       "      <td>-0.013957</td>\n",
       "      <td>-0.110131</td>\n",
       "      <td>0.004823</td>\n",
       "      <td>0.016696</td>\n",
       "      <td>-0.004051</td>\n",
       "      <td>0.127056</td>\n",
       "      <td>0.104079</td>\n",
       "      <td>0.037536</td>\n",
       "      <td>1.000000</td>\n",
       "      <td>0.351930</td>\n",
       "      <td>0.157830</td>\n",
       "      <td>0.191454</td>\n",
       "    </tr>\n",
       "    <tr>\n",
       "      <th>monthly_charges</th>\n",
       "      <td>-0.074640</td>\n",
       "      <td>0.219874</td>\n",
       "      <td>0.097825</td>\n",
       "      <td>-0.112343</td>\n",
       "      <td>0.246862</td>\n",
       "      <td>0.248033</td>\n",
       "      <td>0.296447</td>\n",
       "      <td>0.441529</td>\n",
       "      <td>0.482607</td>\n",
       "      <td>0.338301</td>\n",
       "      <td>0.351930</td>\n",
       "      <td>1.000000</td>\n",
       "      <td>0.651065</td>\n",
       "      <td>0.192858</td>\n",
       "    </tr>\n",
       "    <tr>\n",
       "      <th>total_charges</th>\n",
       "      <td>0.222694</td>\n",
       "      <td>0.102411</td>\n",
       "      <td>0.319072</td>\n",
       "      <td>0.064653</td>\n",
       "      <td>0.825880</td>\n",
       "      <td>0.113008</td>\n",
       "      <td>0.412619</td>\n",
       "      <td>0.510100</td>\n",
       "      <td>0.522881</td>\n",
       "      <td>0.432868</td>\n",
       "      <td>0.157830</td>\n",
       "      <td>0.651065</td>\n",
       "      <td>1.000000</td>\n",
       "      <td>-0.199484</td>\n",
       "    </tr>\n",
       "    <tr>\n",
       "      <th>churn</th>\n",
       "      <td>-0.262918</td>\n",
       "      <td>0.150541</td>\n",
       "      <td>-0.149982</td>\n",
       "      <td>-0.163128</td>\n",
       "      <td>-0.354049</td>\n",
       "      <td>0.011691</td>\n",
       "      <td>-0.171270</td>\n",
       "      <td>-0.082307</td>\n",
       "      <td>-0.066193</td>\n",
       "      <td>-0.164716</td>\n",
       "      <td>0.191454</td>\n",
       "      <td>0.192858</td>\n",
       "      <td>-0.199484</td>\n",
       "      <td>1.000000</td>\n",
       "    </tr>\n",
       "  </tbody>\n",
       "</table>\n",
       "</div>"
      ],
      "text/plain": [
       "                   payment_type_id  senior_citizen   partner  dependents  \\\n",
       "payment_type_id           1.000000       -0.093712  0.133280    0.124002   \n",
       "senior_citizen           -0.093712        1.000000  0.016957   -0.210550   \n",
       "partner                   0.133280        0.016957  1.000000    0.452269   \n",
       "dependents                0.124002       -0.210550  0.452269    1.000000   \n",
       "tenure_in_months          0.340939        0.015683  0.381912    0.163386   \n",
       "phone_service            -0.003106        0.008392  0.018397   -0.001078   \n",
       "online_security           0.162848       -0.038576  0.143346    0.080786   \n",
       "online_backup             0.096246        0.066663  0.141849    0.023639   \n",
       "device_protection         0.110953        0.059514  0.153556    0.013900   \n",
       "tech_support              0.167189       -0.060577  0.120206    0.063053   \n",
       "paperless_billing        -0.101790        0.156258 -0.013957   -0.110131   \n",
       "monthly_charges          -0.074640        0.219874  0.097825   -0.112343   \n",
       "total_charges             0.222694        0.102411  0.319072    0.064653   \n",
       "churn                    -0.262918        0.150541 -0.149982   -0.163128   \n",
       "\n",
       "                   tenure_in_months  phone_service  online_security  \\\n",
       "payment_type_id            0.340939      -0.003106         0.162848   \n",
       "senior_citizen             0.015683       0.008392        -0.038576   \n",
       "partner                    0.381912       0.018397         0.143346   \n",
       "dependents                 0.163386      -0.001078         0.080786   \n",
       "tenure_in_months           1.000000       0.007877         0.328297   \n",
       "phone_service              0.007877       1.000000        -0.091676   \n",
       "online_security            0.328297      -0.091676         1.000000   \n",
       "online_backup              0.361138      -0.052133         0.283285   \n",
       "device_protection          0.361520      -0.070076         0.274875   \n",
       "tech_support               0.325288      -0.095138         0.354458   \n",
       "paperless_billing          0.004823       0.016696        -0.004051   \n",
       "monthly_charges            0.246862       0.248033         0.296447   \n",
       "total_charges              0.825880       0.113008         0.412619   \n",
       "churn                     -0.354049       0.011691        -0.171270   \n",
       "\n",
       "                   online_backup  device_protection  tech_support  \\\n",
       "payment_type_id         0.096246           0.110953      0.167189   \n",
       "senior_citizen          0.066663           0.059514     -0.060577   \n",
       "partner                 0.141849           0.153556      0.120206   \n",
       "dependents              0.023639           0.013900      0.063053   \n",
       "tenure_in_months        0.361138           0.361520      0.325288   \n",
       "phone_service          -0.052133          -0.070076     -0.095138   \n",
       "online_security         0.283285           0.274875      0.354458   \n",
       "online_backup           1.000000           0.303058      0.293705   \n",
       "device_protection       0.303058           1.000000      0.332850   \n",
       "tech_support            0.293705           0.332850      1.000000   \n",
       "paperless_billing       0.127056           0.104079      0.037536   \n",
       "monthly_charges         0.441529           0.482607      0.338301   \n",
       "total_charges           0.510100           0.522881      0.432868   \n",
       "churn                  -0.082307          -0.066193     -0.164716   \n",
       "\n",
       "                   paperless_billing  monthly_charges  total_charges     churn  \n",
       "payment_type_id            -0.101790        -0.074640       0.222694 -0.262918  \n",
       "senior_citizen              0.156258         0.219874       0.102411  0.150541  \n",
       "partner                    -0.013957         0.097825       0.319072 -0.149982  \n",
       "dependents                 -0.110131        -0.112343       0.064653 -0.163128  \n",
       "tenure_in_months            0.004823         0.246862       0.825880 -0.354049  \n",
       "phone_service               0.016696         0.248033       0.113008  0.011691  \n",
       "online_security            -0.004051         0.296447       0.412619 -0.171270  \n",
       "online_backup               0.127056         0.441529       0.510100 -0.082307  \n",
       "device_protection           0.104079         0.482607       0.522881 -0.066193  \n",
       "tech_support                0.037536         0.338301       0.432868 -0.164716  \n",
       "paperless_billing           1.000000         0.351930       0.157830  0.191454  \n",
       "monthly_charges             0.351930         1.000000       0.651065  0.192858  \n",
       "total_charges               0.157830         0.651065       1.000000 -0.199484  \n",
       "churn                       0.191454         0.192858      -0.199484  1.000000  "
      ]
     },
     "execution_count": 45,
     "metadata": {},
     "output_type": "execute_result"
    }
   ],
   "source": [
    "correl = df.corr()\n",
    "correl.T"
   ]
  },
  {
   "cell_type": "code",
   "execution_count": 46,
   "metadata": {},
   "outputs": [
    {
     "data": {
      "image/png": "[encoded data removed]",
      "text/plain": [
       "<Figure size 1152x648 with 2 Axes>"
      ]
     },
     "metadata": {
      "needs_background": "light"
     },
     "output_type": "display_data"
    }
   ],
   "source": [
    "plt.figure(figsize=(16, 9))\n",
    "sns.heatmap(((df.corr())), cmap='YlGnBu', center=0, annot=True)\n",
    "\n",
    "plt.title('')\n",
    "plt.show()"
   ]
  },
  {
   "cell_type": "code",
   "execution_count": 47,
   "metadata": {},
   "outputs": [
    {
     "data": {
      "text/plain": [
       "Text(0.5, 1.0, 'Feautures  Correlating with Churn')"
      ]
     },
     "execution_count": 47,
     "metadata": {},
     "output_type": "execute_result"
    },
    {
     "data": {
      "image/png": "[encoded data removed]",
      "text/plain": [
       "<Figure size 576x864 with 2 Axes>"
      ]
     },
     "metadata": {
      "needs_background": "light"
     },
     "output_type": "display_data"
    }
   ],
   "source": [
    "plt.figure(figsize=(8,12))\n",
    "churn_heatmap = sns.heatmap(df.corr()[['churn']].sort_values(by='churn', ascending=False), cmap='YlGnBu', vmin=-.5, vmax=.5, annot=True)\n",
    "churn_heatmap.set_title('Feautures  Correlating with Churn')"
   ]
  },
  {
   "cell_type": "code",
   "execution_count": 48,
   "metadata": {},
   "outputs": [
    {
     "data": {
      "text/html": [
       "<div>\n",
       "<style scoped>\n",
       "    .dataframe tbody tr th:only-of-type {\n",
       "        vertical-align: middle;\n",
       "    }\n",
       "\n",
       "    .dataframe tbody tr th {\n",
       "        vertical-align: top;\n",
       "    }\n",
       "\n",
       "    .dataframe thead th {\n",
       "        text-align: right;\n",
       "    }\n",
       "</style>\n",
       "<table border=\"1\" class=\"dataframe\">\n",
       "  <thead>\n",
       "    <tr style=\"text-align: right;\">\n",
       "      <th></th>\n",
       "      <th>2136</th>\n",
       "    </tr>\n",
       "  </thead>\n",
       "  <tbody>\n",
       "    <tr>\n",
       "      <th>payment_type_id</th>\n",
       "      <td>1</td>\n",
       "    </tr>\n",
       "    <tr>\n",
       "      <th>payment_type</th>\n",
       "      <td>Electronic check</td>\n",
       "    </tr>\n",
       "    <tr>\n",
       "      <th>customer_id</th>\n",
       "      <td>7450-NWRTR</td>\n",
       "    </tr>\n",
       "    <tr>\n",
       "      <th>senior_citizen</th>\n",
       "      <td>1</td>\n",
       "    </tr>\n",
       "    <tr>\n",
       "      <th>partner</th>\n",
       "      <td>0</td>\n",
       "    </tr>\n",
       "    <tr>\n",
       "      <th>dependents</th>\n",
       "      <td>0</td>\n",
       "    </tr>\n",
       "    <tr>\n",
       "      <th>tenure_in_months</th>\n",
       "      <td>12</td>\n",
       "    </tr>\n",
       "    <tr>\n",
       "      <th>phone_service</th>\n",
       "      <td>1</td>\n",
       "    </tr>\n",
       "    <tr>\n",
       "      <th>online_security</th>\n",
       "      <td>0</td>\n",
       "    </tr>\n",
       "    <tr>\n",
       "      <th>online_backup</th>\n",
       "      <td>0</td>\n",
       "    </tr>\n",
       "    <tr>\n",
       "      <th>device_protection</th>\n",
       "      <td>1</td>\n",
       "    </tr>\n",
       "    <tr>\n",
       "      <th>tech_support</th>\n",
       "      <td>0</td>\n",
       "    </tr>\n",
       "    <tr>\n",
       "      <th>paperless_billing</th>\n",
       "      <td>1</td>\n",
       "    </tr>\n",
       "    <tr>\n",
       "      <th>monthly_charges</th>\n",
       "      <td>99.45</td>\n",
       "    </tr>\n",
       "    <tr>\n",
       "      <th>total_charges</th>\n",
       "      <td>1200.15</td>\n",
       "    </tr>\n",
       "    <tr>\n",
       "      <th>churn</th>\n",
       "      <td>1</td>\n",
       "    </tr>\n",
       "    <tr>\n",
       "      <th>internet_service_type</th>\n",
       "      <td>Fiber optic</td>\n",
       "    </tr>\n",
       "    <tr>\n",
       "      <th>contract_type</th>\n",
       "      <td>Month-to-month</td>\n",
       "    </tr>\n",
       "  </tbody>\n",
       "</table>\n",
       "</div>"
      ],
      "text/plain": [
       "                                   2136\n",
       "payment_type_id                       1\n",
       "payment_type           Electronic check\n",
       "customer_id                  7450-NWRTR\n",
       "senior_citizen                        1\n",
       "partner                               0\n",
       "dependents                            0\n",
       "tenure_in_months                     12\n",
       "phone_service                         1\n",
       "online_security                       0\n",
       "online_backup                         0\n",
       "device_protection                     1\n",
       "tech_support                          0\n",
       "paperless_billing                     1\n",
       "monthly_charges                   99.45\n",
       "total_charges                   1200.15\n",
       "churn                                 1\n",
       "internet_service_type       Fiber optic\n",
       "contract_type            Month-to-month"
      ]
     },
     "execution_count": 48,
     "metadata": {},
     "output_type": "execute_result"
    }
   ],
   "source": [
    "churned_df.sample().T"
   ]
  },
  {
   "cell_type": "markdown",
   "metadata": {},
   "source": [
    "### Takeaways:\n",
    "- Columns with obvious correlation:\n",
    " - payment_type\n",
    " - senior_citizen\n",
    " - contract_type\n",
    " - internet_service_type\n",
    " - dependents\n",
    "\n",
    "Let's further explore other possible associations."
   ]
  },
  {
   "cell_type": "code",
   "execution_count": 50,
   "metadata": {},
   "outputs": [],
   "source": [
    "# oops we need to get our dummies now\n",
    "# df = create_dummies(df)"
   ]
  },
  {
   "cell_type": "code",
   "execution_count": 51,
   "metadata": {},
   "outputs": [],
   "source": [
    "# split my dad (should be done earlier for explore)\n",
    "train, validate, test = prepare.telco_split(df)"
   ]
  },
  {
   "cell_type": "code",
   "execution_count": 52,
   "metadata": {},
   "outputs": [
    {
     "data": {
      "text/plain": [
       "((3937, 18), (1688, 18), (1407, 18))"
      ]
     },
     "execution_count": 52,
     "metadata": {},
     "output_type": "execute_result"
    }
   ],
   "source": [
    "train.shape, validate.shape, test.shape"
   ]
  },
  {
   "cell_type": "code",
   "execution_count": 53,
   "metadata": {},
   "outputs": [
    {
     "data": {
      "text/plain": [
       "<matplotlib.collections.PathCollection at 0x7ff893ffbbb0>"
      ]
     },
     "execution_count": 53,
     "metadata": {},
     "output_type": "execute_result"
    },
    {
     "data": {
      "image/png": "[encoded data removed]",
      "text/plain": [
       "<Figure size 864x504 with 1 Axes>"
      ]
     },
     "metadata": {
      "needs_background": "light"
     },
     "output_type": "display_data"
    }
   ],
   "source": [
    "# this is a lovely graph that tells me nothing\n",
    "plt.figure(figsize=(12,7))\n",
    "x = df.churn\n",
    "y = df.monthly_charges\n",
    "plt.scatter(x, y, s=1)"
   ]
  },
  {
   "cell_type": "markdown",
   "metadata": {},
   "source": [
    "Let's further analyze associations with paperless billing and partners."
   ]
  },
  {
   "cell_type": "markdown",
   "metadata": {},
   "source": [
    "${H_0}$ : There is no association with paperless billing and customer churn\\\n",
    "${H_a}$ : Paperless billing does have an association to churn"
   ]
  },
  {
   "cell_type": "code",
   "execution_count": 54,
   "metadata": {},
   "outputs": [],
   "source": [
    "# we set our alpha up for statistical testing\n",
    "alpha = 0.05"
   ]
  },
  {
   "cell_type": "code",
   "execution_count": 55,
   "metadata": {},
   "outputs": [
    {
     "data": {
      "text/html": [
       "<div>\n",
       "<style scoped>\n",
       "    .dataframe tbody tr th:only-of-type {\n",
       "        vertical-align: middle;\n",
       "    }\n",
       "\n",
       "    .dataframe tbody tr th {\n",
       "        vertical-align: top;\n",
       "    }\n",
       "\n",
       "    .dataframe thead th {\n",
       "        text-align: right;\n",
       "    }\n",
       "</style>\n",
       "<table border=\"1\" class=\"dataframe\">\n",
       "  <thead>\n",
       "    <tr style=\"text-align: right;\">\n",
       "      <th></th>\n",
       "      <th>5399</th>\n",
       "      <th>2876</th>\n",
       "      <th>659</th>\n",
       "      <th>5843</th>\n",
       "      <th>2229</th>\n",
       "    </tr>\n",
       "  </thead>\n",
       "  <tbody>\n",
       "    <tr>\n",
       "      <th>payment_type_id</th>\n",
       "      <td>2</td>\n",
       "      <td>1</td>\n",
       "      <td>2</td>\n",
       "      <td>3</td>\n",
       "      <td>3</td>\n",
       "    </tr>\n",
       "    <tr>\n",
       "      <th>payment_type</th>\n",
       "      <td>Mailed check</td>\n",
       "      <td>Electronic check</td>\n",
       "      <td>Mailed check</td>\n",
       "      <td>Bank transfer (automatic)</td>\n",
       "      <td>Bank transfer (automatic)</td>\n",
       "    </tr>\n",
       "    <tr>\n",
       "      <th>customer_id</th>\n",
       "      <td>0831-JNISG</td>\n",
       "      <td>1963-SVUCV</td>\n",
       "      <td>0611-DFXKO</td>\n",
       "      <td>7696-CFTAT</td>\n",
       "      <td>7916-VCCPB</td>\n",
       "    </tr>\n",
       "    <tr>\n",
       "      <th>senior_citizen</th>\n",
       "      <td>0</td>\n",
       "      <td>0</td>\n",
       "      <td>0</td>\n",
       "      <td>0</td>\n",
       "      <td>0</td>\n",
       "    </tr>\n",
       "    <tr>\n",
       "      <th>partner</th>\n",
       "      <td>1</td>\n",
       "      <td>0</td>\n",
       "      <td>1</td>\n",
       "      <td>1</td>\n",
       "      <td>1</td>\n",
       "    </tr>\n",
       "    <tr>\n",
       "      <th>dependents</th>\n",
       "      <td>1</td>\n",
       "      <td>0</td>\n",
       "      <td>0</td>\n",
       "      <td>1</td>\n",
       "      <td>1</td>\n",
       "    </tr>\n",
       "    <tr>\n",
       "      <th>tenure_in_months</th>\n",
       "      <td>71</td>\n",
       "      <td>1</td>\n",
       "      <td>20</td>\n",
       "      <td>37</td>\n",
       "      <td>16</td>\n",
       "    </tr>\n",
       "    <tr>\n",
       "      <th>phone_service</th>\n",
       "      <td>1</td>\n",
       "      <td>1</td>\n",
       "      <td>1</td>\n",
       "      <td>1</td>\n",
       "      <td>1</td>\n",
       "    </tr>\n",
       "    <tr>\n",
       "      <th>online_security</th>\n",
       "      <td>0</td>\n",
       "      <td>0</td>\n",
       "      <td>0</td>\n",
       "      <td>0</td>\n",
       "      <td>0</td>\n",
       "    </tr>\n",
       "    <tr>\n",
       "      <th>online_backup</th>\n",
       "      <td>0</td>\n",
       "      <td>0</td>\n",
       "      <td>0</td>\n",
       "      <td>0</td>\n",
       "      <td>1</td>\n",
       "    </tr>\n",
       "    <tr>\n",
       "      <th>device_protection</th>\n",
       "      <td>0</td>\n",
       "      <td>0</td>\n",
       "      <td>0</td>\n",
       "      <td>0</td>\n",
       "      <td>0</td>\n",
       "    </tr>\n",
       "    <tr>\n",
       "      <th>tech_support</th>\n",
       "      <td>0</td>\n",
       "      <td>0</td>\n",
       "      <td>0</td>\n",
       "      <td>0</td>\n",
       "      <td>0</td>\n",
       "    </tr>\n",
       "    <tr>\n",
       "      <th>paperless_billing</th>\n",
       "      <td>0</td>\n",
       "      <td>0</td>\n",
       "      <td>1</td>\n",
       "      <td>0</td>\n",
       "      <td>0</td>\n",
       "    </tr>\n",
       "    <tr>\n",
       "      <th>monthly_charges</th>\n",
       "      <td>19.8</td>\n",
       "      <td>45.3</td>\n",
       "      <td>89</td>\n",
       "      <td>19.8</td>\n",
       "      <td>73.25</td>\n",
       "    </tr>\n",
       "    <tr>\n",
       "      <th>total_charges</th>\n",
       "      <td>1396.25</td>\n",
       "      <td>45.3</td>\n",
       "      <td>1820.45</td>\n",
       "      <td>726.1</td>\n",
       "      <td>1195.75</td>\n",
       "    </tr>\n",
       "    <tr>\n",
       "      <th>churn</th>\n",
       "      <td>0</td>\n",
       "      <td>1</td>\n",
       "      <td>1</td>\n",
       "      <td>0</td>\n",
       "      <td>0</td>\n",
       "    </tr>\n",
       "    <tr>\n",
       "      <th>internet_service_type</th>\n",
       "      <td>None</td>\n",
       "      <td>DSL</td>\n",
       "      <td>Fiber optic</td>\n",
       "      <td>None</td>\n",
       "      <td>Fiber optic</td>\n",
       "    </tr>\n",
       "    <tr>\n",
       "      <th>contract_type</th>\n",
       "      <td>Two year</td>\n",
       "      <td>Month-to-month</td>\n",
       "      <td>Month-to-month</td>\n",
       "      <td>Two year</td>\n",
       "      <td>Month-to-month</td>\n",
       "    </tr>\n",
       "  </tbody>\n",
       "</table>\n",
       "</div>"
      ],
      "text/plain": [
       "                               5399              2876            659   \\\n",
       "payment_type_id                   2                 1               2   \n",
       "payment_type           Mailed check  Electronic check    Mailed check   \n",
       "customer_id              0831-JNISG        1963-SVUCV      0611-DFXKO   \n",
       "senior_citizen                    0                 0               0   \n",
       "partner                           1                 0               1   \n",
       "dependents                        1                 0               0   \n",
       "tenure_in_months                 71                 1              20   \n",
       "phone_service                     1                 1               1   \n",
       "online_security                   0                 0               0   \n",
       "online_backup                     0                 0               0   \n",
       "device_protection                 0                 0               0   \n",
       "tech_support                      0                 0               0   \n",
       "paperless_billing                 0                 0               1   \n",
       "monthly_charges                19.8              45.3              89   \n",
       "total_charges               1396.25              45.3         1820.45   \n",
       "churn                             0                 1               1   \n",
       "internet_service_type          None               DSL     Fiber optic   \n",
       "contract_type              Two year    Month-to-month  Month-to-month   \n",
       "\n",
       "                                            5843                       2229  \n",
       "payment_type_id                                3                          3  \n",
       "payment_type           Bank transfer (automatic)  Bank transfer (automatic)  \n",
       "customer_id                           7696-CFTAT                 7916-VCCPB  \n",
       "senior_citizen                                 0                          0  \n",
       "partner                                        1                          1  \n",
       "dependents                                     1                          1  \n",
       "tenure_in_months                              37                         16  \n",
       "phone_service                                  1                          1  \n",
       "online_security                                0                          0  \n",
       "online_backup                                  0                          1  \n",
       "device_protection                              0                          0  \n",
       "tech_support                                   0                          0  \n",
       "paperless_billing                              0                          0  \n",
       "monthly_charges                             19.8                      73.25  \n",
       "total_charges                              726.1                    1195.75  \n",
       "churn                                          0                          0  \n",
       "internet_service_type                       None                Fiber optic  \n",
       "contract_type                           Two year             Month-to-month  "
      ]
     },
     "execution_count": 55,
     "metadata": {},
     "output_type": "execute_result"
    }
   ],
   "source": [
    "train.head().T"
   ]
  },
  {
   "cell_type": "code",
   "execution_count": 56,
   "metadata": {},
   "outputs": [
    {
     "data": {
      "text/html": [
       "<div>\n",
       "<style scoped>\n",
       "    .dataframe tbody tr th:only-of-type {\n",
       "        vertical-align: middle;\n",
       "    }\n",
       "\n",
       "    .dataframe tbody tr th {\n",
       "        vertical-align: top;\n",
       "    }\n",
       "\n",
       "    .dataframe thead th {\n",
       "        text-align: right;\n",
       "    }\n",
       "</style>\n",
       "<table border=\"1\" class=\"dataframe\">\n",
       "  <thead>\n",
       "    <tr style=\"text-align: right;\">\n",
       "      <th>paperless_billing</th>\n",
       "      <th>0</th>\n",
       "      <th>1</th>\n",
       "    </tr>\n",
       "    <tr>\n",
       "      <th>churn</th>\n",
       "      <th></th>\n",
       "      <th></th>\n",
       "    </tr>\n",
       "  </thead>\n",
       "  <tbody>\n",
       "    <tr>\n",
       "      <th>0</th>\n",
       "      <td>1382</td>\n",
       "      <td>1507</td>\n",
       "    </tr>\n",
       "    <tr>\n",
       "      <th>1</th>\n",
       "      <td>276</td>\n",
       "      <td>772</td>\n",
       "    </tr>\n",
       "  </tbody>\n",
       "</table>\n",
       "</div>"
      ],
      "text/plain": [
       "paperless_billing     0     1\n",
       "churn                        \n",
       "0                  1382  1507\n",
       "1                   276   772"
      ]
     },
     "execution_count": 56,
     "metadata": {},
     "output_type": "execute_result"
    }
   ],
   "source": [
    "observed = pd.crosstab(train.churn, train.paperless_billing)\n",
    "observed"
   ]
  },
  {
   "cell_type": "code",
   "execution_count": 57,
   "metadata": {},
   "outputs": [],
   "source": [
    "chi2, p, degf, expected = stats.chi2_contingency(observed)"
   ]
  },
  {
   "cell_type": "code",
   "execution_count": 58,
   "metadata": {},
   "outputs": [
    {
     "name": "stdout",
     "output_type": "stream",
     "text": [
      "Observed\n",
      "\n",
      "[[1382 1507]\n",
      " [ 276  772]]\n",
      "---\n",
      "Expected\n",
      "\n",
      "[[1216 1672]\n",
      " [ 441  606]]\n",
      "---\n",
      "\n",
      "chi^2 = 144.9512\n",
      "p     = 0.0000\n"
     ]
    }
   ],
   "source": [
    "print('Observed\\n')\n",
    "print(observed.values)\n",
    "print('---\\nExpected\\n')\n",
    "print(expected.astype(int))\n",
    "print('---\\n')\n",
    "print(f'chi^2 = {chi2:.4f}')\n",
    "print(f'p     = {p:.4f}')"
   ]
  },
  {
   "cell_type": "code",
   "execution_count": 59,
   "metadata": {},
   "outputs": [
    {
     "name": "stdout",
     "output_type": "stream",
     "text": [
      "We reject the null hypothesis\n",
      "We move forward with the alternate hypothesis. The two samples are associated\n"
     ]
    }
   ],
   "source": [
    "if p < alpha:\n",
    "    print('We reject the null hypothesis')\n",
    "    print('We move forward with the alternate hypothesis. The two samples are associated')\n",
    "else:\n",
    "    print('We accept the alternate hypothesis')"
   ]
  },
  {
   "cell_type": "markdown",
   "metadata": {},
   "source": [
    "## NEW"
   ]
  },
  {
   "cell_type": "markdown",
   "metadata": {},
   "source": [
    "${H_0}$ : Having a partner is independent from customer churn\\\n",
    "${H_a}$ : Having a partner does have an association to churn"
   ]
  },
  {
   "cell_type": "code",
   "execution_count": 61,
   "metadata": {},
   "outputs": [
    {
     "data": {
      "text/html": [
       "<div>\n",
       "<style scoped>\n",
       "    .dataframe tbody tr th:only-of-type {\n",
       "        vertical-align: middle;\n",
       "    }\n",
       "\n",
       "    .dataframe tbody tr th {\n",
       "        vertical-align: top;\n",
       "    }\n",
       "\n",
       "    .dataframe thead th {\n",
       "        text-align: right;\n",
       "    }\n",
       "</style>\n",
       "<table border=\"1\" class=\"dataframe\">\n",
       "  <thead>\n",
       "    <tr style=\"text-align: right;\">\n",
       "      <th>partner</th>\n",
       "      <th>0</th>\n",
       "      <th>1</th>\n",
       "    </tr>\n",
       "    <tr>\n",
       "      <th>churn</th>\n",
       "      <th></th>\n",
       "      <th></th>\n",
       "    </tr>\n",
       "  </thead>\n",
       "  <tbody>\n",
       "    <tr>\n",
       "      <th>0</th>\n",
       "      <td>1376</td>\n",
       "      <td>1513</td>\n",
       "    </tr>\n",
       "    <tr>\n",
       "      <th>1</th>\n",
       "      <td>666</td>\n",
       "      <td>382</td>\n",
       "    </tr>\n",
       "  </tbody>\n",
       "</table>\n",
       "</div>"
      ],
      "text/plain": [
       "partner     0     1\n",
       "churn              \n",
       "0        1376  1513\n",
       "1         666   382"
      ]
     },
     "execution_count": 61,
     "metadata": {},
     "output_type": "execute_result"
    }
   ],
   "source": [
    "# another test on partners\n",
    "observed = pd.crosstab(train.churn, train.partner)\n",
    "observed"
   ]
  },
  {
   "cell_type": "code",
   "execution_count": 62,
   "metadata": {},
   "outputs": [],
   "source": [
    "chi2, p, degf, expected = stats.chi2_contingency(observed)"
   ]
  },
  {
   "cell_type": "code",
   "execution_count": 63,
   "metadata": {},
   "outputs": [
    {
     "name": "stdout",
     "output_type": "stream",
     "text": [
      "Observed\n",
      "\n",
      "[[1376 1513]\n",
      " [ 666  382]]\n",
      "---\n",
      "Expected\n",
      "\n",
      "[[1498 1390]\n",
      " [ 543  504]]\n",
      "---\n",
      "\n",
      "chi^2 = 77.4423\n",
      "p     = 1.3665799090892278e-18\n"
     ]
    }
   ],
   "source": [
    "print('Observed\\n')\n",
    "print(observed.values)\n",
    "print('---\\nExpected\\n')\n",
    "print(expected.astype(int))\n",
    "print('---\\n')\n",
    "print(f'chi^2 = {chi2:.4f}')\n",
    "print(f'p     = {p:}')"
   ]
  },
  {
   "cell_type": "code",
   "execution_count": 64,
   "metadata": {},
   "outputs": [
    {
     "name": "stdout",
     "output_type": "stream",
     "text": [
      "We reject the null hypothesis\n",
      "We move forward with the alternate hypothesis. The two samples are associated\n"
     ]
    }
   ],
   "source": [
    "if p < alpha:\n",
    "    print('We reject the null hypothesis')\n",
    "    print('We move forward with the alternate hypothesis. The two samples are associated')\n",
    "else:\n",
    "    print('We accept the alternate hypothesis')"
   ]
  },
  {
   "cell_type": "markdown",
   "metadata": {},
   "source": [
    "------------------------------------------------------------------------------\n",
    "${H_0}$: Mean of monthly charges of churned customers = Mean of monthly charges of all customers.\\\n",
    "${H_a}$: Mean of monthly charges of churnes customers > Mean of monthly charges of all customers."
   ]
  },
  {
   "cell_type": "code",
   "execution_count": 73,
   "metadata": {},
   "outputs": [
    {
     "data": {
      "text/plain": [
       "<AxesSubplot:>"
      ]
     },
     "execution_count": 73,
     "metadata": {},
     "output_type": "execute_result"
    },
    {
     "data": {
      "image/png": "[encoded data removed]",
      "text/plain": [
       "<Figure size 432x288 with 1 Axes>"
      ]
     },
     "metadata": {
      "needs_background": "light"
     },
     "output_type": "display_data"
    }
   ],
   "source": [
    "## maybe two a t test with \n",
    "## do some plots here then set up my test\n",
    "train[train.churn==1].monthly_charges.hist()"
   ]
  },
  {
   "cell_type": "code",
   "execution_count": 74,
   "metadata": {},
   "outputs": [
    {
     "data": {
      "text/plain": [
       "<AxesSubplot:>"
      ]
     },
     "execution_count": 74,
     "metadata": {},
     "output_type": "execute_result"
    },
    {
     "data": {
      "image/png": "[encoded data removed]",
      "text/plain": [
       "<Figure size 432x288 with 1 Axes>"
      ]
     },
     "metadata": {
      "needs_background": "light"
     },
     "output_type": "display_data"
    }
   ],
   "source": [
    "# overall charges\n",
    "train.monthly_charges.hist()"
   ]
  },
  {
   "cell_type": "code",
   "execution_count": 70,
   "metadata": {},
   "outputs": [
    {
     "data": {
      "text/plain": [
       "<Figure size 1152x648 with 0 Axes>"
      ]
     },
     "metadata": {},
     "output_type": "display_data"
    },
    {
     "data": {
      "image/png": "[encoded data removed]",
      "text/plain": [
       "<Figure size 432x288 with 16 Axes>"
      ]
     },
     "metadata": {
      "needs_background": "light"
     },
     "output_type": "display_data"
    }
   ],
   "source": [
    "# an interesting mistake\n",
    "plt.figure(figsize=(16,9))\n",
    "train[train.churn== 1].hist()\n",
    "plt.show()"
   ]
  },
  {
   "cell_type": "code",
   "execution_count": 71,
   "metadata": {},
   "outputs": [
    {
     "data": {
      "text/html": [
       "<div>\n",
       "<style scoped>\n",
       "    .dataframe tbody tr th:only-of-type {\n",
       "        vertical-align: middle;\n",
       "    }\n",
       "\n",
       "    .dataframe tbody tr th {\n",
       "        vertical-align: top;\n",
       "    }\n",
       "\n",
       "    .dataframe thead th {\n",
       "        text-align: right;\n",
       "    }\n",
       "</style>\n",
       "<table border=\"1\" class=\"dataframe\">\n",
       "  <thead>\n",
       "    <tr style=\"text-align: right;\">\n",
       "      <th></th>\n",
       "      <th>4661</th>\n",
       "      <th>3987</th>\n",
       "      <th>6760</th>\n",
       "    </tr>\n",
       "  </thead>\n",
       "  <tbody>\n",
       "    <tr>\n",
       "      <th>payment_type_id</th>\n",
       "      <td>2</td>\n",
       "      <td>3</td>\n",
       "      <td>4</td>\n",
       "    </tr>\n",
       "    <tr>\n",
       "      <th>payment_type</th>\n",
       "      <td>Mailed check</td>\n",
       "      <td>Bank transfer (automatic)</td>\n",
       "      <td>Credit card (automatic)</td>\n",
       "    </tr>\n",
       "    <tr>\n",
       "      <th>customer_id</th>\n",
       "      <td>7716-YTYHG</td>\n",
       "      <td>3251-YMVWZ</td>\n",
       "      <td>5781-RFZRP</td>\n",
       "    </tr>\n",
       "    <tr>\n",
       "      <th>senior_citizen</th>\n",
       "      <td>0</td>\n",
       "      <td>0</td>\n",
       "      <td>0</td>\n",
       "    </tr>\n",
       "    <tr>\n",
       "      <th>partner</th>\n",
       "      <td>1</td>\n",
       "      <td>0</td>\n",
       "      <td>1</td>\n",
       "    </tr>\n",
       "    <tr>\n",
       "      <th>dependents</th>\n",
       "      <td>1</td>\n",
       "      <td>0</td>\n",
       "      <td>0</td>\n",
       "    </tr>\n",
       "    <tr>\n",
       "      <th>tenure_in_months</th>\n",
       "      <td>48</td>\n",
       "      <td>53</td>\n",
       "      <td>71</td>\n",
       "    </tr>\n",
       "    <tr>\n",
       "      <th>phone_service</th>\n",
       "      <td>1</td>\n",
       "      <td>1</td>\n",
       "      <td>1</td>\n",
       "    </tr>\n",
       "    <tr>\n",
       "      <th>online_security</th>\n",
       "      <td>0</td>\n",
       "      <td>0</td>\n",
       "      <td>1</td>\n",
       "    </tr>\n",
       "    <tr>\n",
       "      <th>online_backup</th>\n",
       "      <td>0</td>\n",
       "      <td>0</td>\n",
       "      <td>1</td>\n",
       "    </tr>\n",
       "    <tr>\n",
       "      <th>device_protection</th>\n",
       "      <td>0</td>\n",
       "      <td>0</td>\n",
       "      <td>0</td>\n",
       "    </tr>\n",
       "    <tr>\n",
       "      <th>tech_support</th>\n",
       "      <td>0</td>\n",
       "      <td>0</td>\n",
       "      <td>1</td>\n",
       "    </tr>\n",
       "    <tr>\n",
       "      <th>paperless_billing</th>\n",
       "      <td>1</td>\n",
       "      <td>0</td>\n",
       "      <td>0</td>\n",
       "    </tr>\n",
       "    <tr>\n",
       "      <th>monthly_charges</th>\n",
       "      <td>82.05</td>\n",
       "      <td>24.05</td>\n",
       "      <td>73.5</td>\n",
       "    </tr>\n",
       "    <tr>\n",
       "      <th>total_charges</th>\n",
       "      <td>4029.95</td>\n",
       "      <td>1301.9</td>\n",
       "      <td>5357.75</td>\n",
       "    </tr>\n",
       "    <tr>\n",
       "      <th>churn</th>\n",
       "      <td>1</td>\n",
       "      <td>0</td>\n",
       "      <td>0</td>\n",
       "    </tr>\n",
       "    <tr>\n",
       "      <th>internet_service_type</th>\n",
       "      <td>Fiber optic</td>\n",
       "      <td>None</td>\n",
       "      <td>DSL</td>\n",
       "    </tr>\n",
       "    <tr>\n",
       "      <th>contract_type</th>\n",
       "      <td>One year</td>\n",
       "      <td>One year</td>\n",
       "      <td>Two year</td>\n",
       "    </tr>\n",
       "  </tbody>\n",
       "</table>\n",
       "</div>"
      ],
      "text/plain": [
       "                               4661                       3987  \\\n",
       "payment_type_id                   2                          3   \n",
       "payment_type           Mailed check  Bank transfer (automatic)   \n",
       "customer_id              7716-YTYHG                 3251-YMVWZ   \n",
       "senior_citizen                    0                          0   \n",
       "partner                           1                          0   \n",
       "dependents                        1                          0   \n",
       "tenure_in_months                 48                         53   \n",
       "phone_service                     1                          1   \n",
       "online_security                   0                          0   \n",
       "online_backup                     0                          0   \n",
       "device_protection                 0                          0   \n",
       "tech_support                      0                          0   \n",
       "paperless_billing                 1                          0   \n",
       "monthly_charges               82.05                      24.05   \n",
       "total_charges               4029.95                     1301.9   \n",
       "churn                             1                          0   \n",
       "internet_service_type   Fiber optic                       None   \n",
       "contract_type              One year                   One year   \n",
       "\n",
       "                                          6760  \n",
       "payment_type_id                              4  \n",
       "payment_type           Credit card (automatic)  \n",
       "customer_id                         5781-RFZRP  \n",
       "senior_citizen                               0  \n",
       "partner                                      1  \n",
       "dependents                                   0  \n",
       "tenure_in_months                            71  \n",
       "phone_service                                1  \n",
       "online_security                              1  \n",
       "online_backup                                1  \n",
       "device_protection                            0  \n",
       "tech_support                                 1  \n",
       "paperless_billing                            0  \n",
       "monthly_charges                           73.5  \n",
       "total_charges                          5357.75  \n",
       "churn                                        0  \n",
       "internet_service_type                      DSL  \n",
       "contract_type                         Two year  "
      ]
     },
     "execution_count": 71,
     "metadata": {},
     "output_type": "execute_result"
    }
   ],
   "source": [
    "train.sample(3).T"
   ]
  },
  {
   "cell_type": "markdown",
   "metadata": {},
   "source": [
    "# MODELING"
   ]
  },
  {
   "cell_type": "code",
   "execution_count": null,
   "metadata": {},
   "outputs": [],
   "source": [
    "# create dummies"
   ]
  }
 ],
 "metadata": {
  "kernelspec": {
   "display_name": "Python 3",
   "language": "python",
   "name": "python3"
  },
  "language_info": {
   "codemirror_mode": {
    "name": "ipython",
    "version": 3
   },
   "file_extension": ".py",
   "mimetype": "text/x-python",
   "name": "python",
   "nbconvert_exporter": "python",
   "pygments_lexer": "ipython3",
   "version": "3.8.5"
  }
 },
 "nbformat": 4,
 "nbformat_minor": 4
}
