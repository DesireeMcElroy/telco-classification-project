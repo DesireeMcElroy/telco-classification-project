{
 "cells": [
  {
   "cell_type": "markdown",
   "metadata": {},
   "source": [
    "### Telco Customer Churn Classification Project - rough draft"
   ]
  },
  {
   "cell_type": "code",
   "execution_count": 1,
   "metadata": {},
   "outputs": [],
   "source": [
    "# bring in my imports\n",
    "import pandas as pd\n",
    "import numpy as np\n",
    "\n",
    "import matplotlib.pyplot as plt\n",
    "import seaborn as sns\n",
    "\n",
    "from env import host, user, password\n",
    "\n",
    "\n",
    "import warnings\n",
    "warnings.filterwarnings(\"ignore\")\n",
    "\n",
    "import acquire\n",
    "import prepare"
   ]
  },
  {
   "cell_type": "markdown",
   "metadata": {},
   "source": [
    "# Plan -> Acquire -> Prepare -> Explore -> Model & Evaluate -> Deliver"
   ]
  },
  {
   "cell_type": "markdown",
   "metadata": {},
   "source": [
    "## Acquire my data"
   ]
  },
  {
   "cell_type": "code",
   "execution_count": null,
   "metadata": {},
   "outputs": [],
   "source": [
    "# def get_db_url(host, user, password, database):\n",
    "#     url = f'mysql+pymysql://{user}:{password}@{host}/{database}'\n",
    "#     return url"
   ]
  },
  {
   "cell_type": "code",
   "execution_count": null,
   "metadata": {},
   "outputs": [],
   "source": [
    "# url = get_db_url(host, user, password, 'telco_churn')"
   ]
  },
  {
   "cell_type": "code",
   "execution_count": null,
   "metadata": {},
   "outputs": [],
   "source": [
    "# pd.read_sql('SELECT * FROM customers LIMIT 5 OFFSET 50', url)"
   ]
  },
  {
   "cell_type": "code",
   "execution_count": null,
   "metadata": {},
   "outputs": [],
   "source": [
    "# create my sql query\n",
    "# pd.read_sql(\n",
    "# '''\n",
    "# SELECT *\n",
    "# FROM payment_types\n",
    "# JOIN customers ON payment_types.payment_type_id = customers.payment_type_id\n",
    "# JOIN internet_service_types ON internet_service_types.internet_service_type_id = customers.internet_service_type_id\n",
    "# JOIN contract_types ON contract_types.contract_type_id = customers.contract_type_id;\n",
    "# ''', url\n",
    "# )"
   ]
  },
  {
   "cell_type": "code",
   "execution_count": 2,
   "metadata": {},
   "outputs": [],
   "source": [
    "# now we've done everything manually, let's combine and create functions\n",
    "# create helper function\n",
    "def get_connection(db_name):\n",
    "    '''\n",
    "    This function uses my info from my env file to\n",
    "    create a connection url to access the sql database.\n",
    "    '''\n",
    "    from env import host, user, password\n",
    "    return f'mysql+pymysql://{user}:{password}@{host}/{db_name}'"
   ]
  },
  {
   "cell_type": "code",
   "execution_count": 3,
   "metadata": {},
   "outputs": [],
   "source": [
    "# create my function for my sql query\n",
    "def get_new_telco_churn_data():\n",
    "    '''\n",
    "    This function reads in the telco churn data from the sql database\n",
    "    and returns a pandas DataFrame with all columns.\n",
    "    '''\n",
    "    sql_query = '''\n",
    "    SELECT *\n",
    "    FROM payment_types\n",
    "    JOIN customers ON payment_types.payment_type_id = customers.payment_type_id\n",
    "    JOIN internet_service_types ON internet_service_types.internet_service_type_id = customers.internet_service_type_id\n",
    "    JOIN contract_types ON contract_types.contract_type_id = customers.contract_type_id;\n",
    "    '''\n",
    "    return pd.read_sql(sql_query, get_connection('telco_churn'))"
   ]
  },
  {
   "cell_type": "code",
   "execution_count": null,
   "metadata": {},
   "outputs": [],
   "source": [
    "df = get_new_telco_churn_data()"
   ]
  },
  {
   "cell_type": "code",
   "execution_count": null,
   "metadata": {},
   "outputs": [],
   "source": [
    "df.sample(5)"
   ]
  },
  {
   "cell_type": "code",
   "execution_count": null,
   "metadata": {},
   "outputs": [],
   "source": [
    "df.shape"
   ]
  },
  {
   "cell_type": "markdown",
   "metadata": {},
   "source": [
    "### New Functions"
   ]
  },
  {
   "cell_type": "code",
   "execution_count": 4,
   "metadata": {},
   "outputs": [],
   "source": [
    "# make sure our function works\n",
    "df = acquire.get_new_telco_churn_data()"
   ]
  },
  {
   "cell_type": "code",
   "execution_count": 5,
   "metadata": {},
   "outputs": [
    {
     "data": {
      "text/html": [
       "<div>\n",
       "<style scoped>\n",
       "    .dataframe tbody tr th:only-of-type {\n",
       "        vertical-align: middle;\n",
       "    }\n",
       "\n",
       "    .dataframe tbody tr th {\n",
       "        vertical-align: top;\n",
       "    }\n",
       "\n",
       "    .dataframe thead th {\n",
       "        text-align: right;\n",
       "    }\n",
       "</style>\n",
       "<table border=\"1\" class=\"dataframe\">\n",
       "  <thead>\n",
       "    <tr style=\"text-align: right;\">\n",
       "      <th></th>\n",
       "      <th>6221</th>\n",
       "      <th>675</th>\n",
       "      <th>6111</th>\n",
       "      <th>5099</th>\n",
       "      <th>2194</th>\n",
       "    </tr>\n",
       "  </thead>\n",
       "  <tbody>\n",
       "    <tr>\n",
       "      <th>payment_type_id</th>\n",
       "      <td>3</td>\n",
       "      <td>4</td>\n",
       "      <td>1</td>\n",
       "      <td>2</td>\n",
       "      <td>3</td>\n",
       "    </tr>\n",
       "    <tr>\n",
       "      <th>payment_type</th>\n",
       "      <td>Bank transfer (automatic)</td>\n",
       "      <td>Credit card (automatic)</td>\n",
       "      <td>Electronic check</td>\n",
       "      <td>Mailed check</td>\n",
       "      <td>Bank transfer (automatic)</td>\n",
       "    </tr>\n",
       "    <tr>\n",
       "      <th>customer_id</th>\n",
       "      <td>5696-CEIQJ</td>\n",
       "      <td>0666-UXTJO</td>\n",
       "      <td>3070-BDOQC</td>\n",
       "      <td>5815-HGGHV</td>\n",
       "      <td>7718-RXDGG</td>\n",
       "    </tr>\n",
       "    <tr>\n",
       "      <th>gender</th>\n",
       "      <td>Male</td>\n",
       "      <td>Male</td>\n",
       "      <td>Female</td>\n",
       "      <td>Male</td>\n",
       "      <td>Male</td>\n",
       "    </tr>\n",
       "    <tr>\n",
       "      <th>senior_citizen</th>\n",
       "      <td>0</td>\n",
       "      <td>1</td>\n",
       "      <td>0</td>\n",
       "      <td>0</td>\n",
       "      <td>0</td>\n",
       "    </tr>\n",
       "    <tr>\n",
       "      <th>partner</th>\n",
       "      <td>Yes</td>\n",
       "      <td>Yes</td>\n",
       "      <td>No</td>\n",
       "      <td>Yes</td>\n",
       "      <td>Yes</td>\n",
       "    </tr>\n",
       "    <tr>\n",
       "      <th>dependents</th>\n",
       "      <td>Yes</td>\n",
       "      <td>No</td>\n",
       "      <td>No</td>\n",
       "      <td>No</td>\n",
       "      <td>No</td>\n",
       "    </tr>\n",
       "    <tr>\n",
       "      <th>tenure</th>\n",
       "      <td>67</td>\n",
       "      <td>34</td>\n",
       "      <td>60</td>\n",
       "      <td>20</td>\n",
       "      <td>15</td>\n",
       "    </tr>\n",
       "    <tr>\n",
       "      <th>phone_service</th>\n",
       "      <td>Yes</td>\n",
       "      <td>Yes</td>\n",
       "      <td>Yes</td>\n",
       "      <td>Yes</td>\n",
       "      <td>Yes</td>\n",
       "    </tr>\n",
       "    <tr>\n",
       "      <th>multiple_lines</th>\n",
       "      <td>No</td>\n",
       "      <td>No</td>\n",
       "      <td>No</td>\n",
       "      <td>No</td>\n",
       "      <td>No</td>\n",
       "    </tr>\n",
       "    <tr>\n",
       "      <th>internet_service_type_id</th>\n",
       "      <td>2</td>\n",
       "      <td>2</td>\n",
       "      <td>2</td>\n",
       "      <td>1</td>\n",
       "      <td>2</td>\n",
       "    </tr>\n",
       "    <tr>\n",
       "      <th>online_security</th>\n",
       "      <td>No</td>\n",
       "      <td>No</td>\n",
       "      <td>No</td>\n",
       "      <td>Yes</td>\n",
       "      <td>No</td>\n",
       "    </tr>\n",
       "    <tr>\n",
       "      <th>online_backup</th>\n",
       "      <td>Yes</td>\n",
       "      <td>No</td>\n",
       "      <td>Yes</td>\n",
       "      <td>No</td>\n",
       "      <td>No</td>\n",
       "    </tr>\n",
       "    <tr>\n",
       "      <th>device_protection</th>\n",
       "      <td>Yes</td>\n",
       "      <td>Yes</td>\n",
       "      <td>Yes</td>\n",
       "      <td>No</td>\n",
       "      <td>No</td>\n",
       "    </tr>\n",
       "    <tr>\n",
       "      <th>tech_support</th>\n",
       "      <td>Yes</td>\n",
       "      <td>No</td>\n",
       "      <td>No</td>\n",
       "      <td>Yes</td>\n",
       "      <td>No</td>\n",
       "    </tr>\n",
       "    <tr>\n",
       "      <th>streaming_tv</th>\n",
       "      <td>Yes</td>\n",
       "      <td>Yes</td>\n",
       "      <td>Yes</td>\n",
       "      <td>No</td>\n",
       "      <td>No</td>\n",
       "    </tr>\n",
       "    <tr>\n",
       "      <th>streaming_movies</th>\n",
       "      <td>Yes</td>\n",
       "      <td>No</td>\n",
       "      <td>Yes</td>\n",
       "      <td>Yes</td>\n",
       "      <td>No</td>\n",
       "    </tr>\n",
       "    <tr>\n",
       "      <th>contract_type_id</th>\n",
       "      <td>3</td>\n",
       "      <td>1</td>\n",
       "      <td>3</td>\n",
       "      <td>2</td>\n",
       "      <td>1</td>\n",
       "    </tr>\n",
       "    <tr>\n",
       "      <th>paperless_billing</th>\n",
       "      <td>No</td>\n",
       "      <td>Yes</td>\n",
       "      <td>Yes</td>\n",
       "      <td>Yes</td>\n",
       "      <td>Yes</td>\n",
       "    </tr>\n",
       "    <tr>\n",
       "      <th>payment_type_id</th>\n",
       "      <td>3</td>\n",
       "      <td>4</td>\n",
       "      <td>1</td>\n",
       "      <td>2</td>\n",
       "      <td>3</td>\n",
       "    </tr>\n",
       "    <tr>\n",
       "      <th>monthly_charges</th>\n",
       "      <td>103.15</td>\n",
       "      <td>85.2</td>\n",
       "      <td>99.65</td>\n",
       "      <td>64.15</td>\n",
       "      <td>68.6</td>\n",
       "    </tr>\n",
       "    <tr>\n",
       "      <th>total_charges</th>\n",
       "      <td>6895.5</td>\n",
       "      <td>2874.45</td>\n",
       "      <td>5941.05</td>\n",
       "      <td>1274.45</td>\n",
       "      <td>1108.6</td>\n",
       "    </tr>\n",
       "    <tr>\n",
       "      <th>churn</th>\n",
       "      <td>No</td>\n",
       "      <td>No</td>\n",
       "      <td>No</td>\n",
       "      <td>No</td>\n",
       "      <td>No</td>\n",
       "    </tr>\n",
       "    <tr>\n",
       "      <th>internet_service_type_id</th>\n",
       "      <td>2</td>\n",
       "      <td>2</td>\n",
       "      <td>2</td>\n",
       "      <td>1</td>\n",
       "      <td>2</td>\n",
       "    </tr>\n",
       "    <tr>\n",
       "      <th>internet_service_type</th>\n",
       "      <td>Fiber optic</td>\n",
       "      <td>Fiber optic</td>\n",
       "      <td>Fiber optic</td>\n",
       "      <td>DSL</td>\n",
       "      <td>Fiber optic</td>\n",
       "    </tr>\n",
       "    <tr>\n",
       "      <th>contract_type_id</th>\n",
       "      <td>3</td>\n",
       "      <td>1</td>\n",
       "      <td>3</td>\n",
       "      <td>2</td>\n",
       "      <td>1</td>\n",
       "    </tr>\n",
       "    <tr>\n",
       "      <th>contract_type</th>\n",
       "      <td>Two year</td>\n",
       "      <td>Month-to-month</td>\n",
       "      <td>Two year</td>\n",
       "      <td>One year</td>\n",
       "      <td>Month-to-month</td>\n",
       "    </tr>\n",
       "  </tbody>\n",
       "</table>\n",
       "</div>"
      ],
      "text/plain": [
       "                                               6221                     675   \\\n",
       "payment_type_id                                   3                        4   \n",
       "payment_type              Bank transfer (automatic)  Credit card (automatic)   \n",
       "customer_id                              5696-CEIQJ               0666-UXTJO   \n",
       "gender                                         Male                     Male   \n",
       "senior_citizen                                    0                        1   \n",
       "partner                                         Yes                      Yes   \n",
       "dependents                                      Yes                       No   \n",
       "tenure                                           67                       34   \n",
       "phone_service                                   Yes                      Yes   \n",
       "multiple_lines                                   No                       No   \n",
       "internet_service_type_id                          2                        2   \n",
       "online_security                                  No                       No   \n",
       "online_backup                                   Yes                       No   \n",
       "device_protection                               Yes                      Yes   \n",
       "tech_support                                    Yes                       No   \n",
       "streaming_tv                                    Yes                      Yes   \n",
       "streaming_movies                                Yes                       No   \n",
       "contract_type_id                                  3                        1   \n",
       "paperless_billing                                No                      Yes   \n",
       "payment_type_id                                   3                        4   \n",
       "monthly_charges                              103.15                     85.2   \n",
       "total_charges                                6895.5                  2874.45   \n",
       "churn                                            No                       No   \n",
       "internet_service_type_id                          2                        2   \n",
       "internet_service_type                   Fiber optic              Fiber optic   \n",
       "contract_type_id                                  3                        1   \n",
       "contract_type                              Two year           Month-to-month   \n",
       "\n",
       "                                      6111          5099  \\\n",
       "payment_type_id                          1             2   \n",
       "payment_type              Electronic check  Mailed check   \n",
       "customer_id                     3070-BDOQC    5815-HGGHV   \n",
       "gender                              Female          Male   \n",
       "senior_citizen                           0             0   \n",
       "partner                                 No           Yes   \n",
       "dependents                              No            No   \n",
       "tenure                                  60            20   \n",
       "phone_service                          Yes           Yes   \n",
       "multiple_lines                          No            No   \n",
       "internet_service_type_id                 2             1   \n",
       "online_security                         No           Yes   \n",
       "online_backup                          Yes            No   \n",
       "device_protection                      Yes            No   \n",
       "tech_support                            No           Yes   \n",
       "streaming_tv                           Yes            No   \n",
       "streaming_movies                       Yes           Yes   \n",
       "contract_type_id                         3             2   \n",
       "paperless_billing                      Yes           Yes   \n",
       "payment_type_id                          1             2   \n",
       "monthly_charges                      99.65         64.15   \n",
       "total_charges                      5941.05       1274.45   \n",
       "churn                                   No            No   \n",
       "internet_service_type_id                 2             1   \n",
       "internet_service_type          Fiber optic           DSL   \n",
       "contract_type_id                         3             2   \n",
       "contract_type                     Two year      One year   \n",
       "\n",
       "                                               2194  \n",
       "payment_type_id                                   3  \n",
       "payment_type              Bank transfer (automatic)  \n",
       "customer_id                              7718-RXDGG  \n",
       "gender                                         Male  \n",
       "senior_citizen                                    0  \n",
       "partner                                         Yes  \n",
       "dependents                                       No  \n",
       "tenure                                           15  \n",
       "phone_service                                   Yes  \n",
       "multiple_lines                                   No  \n",
       "internet_service_type_id                          2  \n",
       "online_security                                  No  \n",
       "online_backup                                    No  \n",
       "device_protection                                No  \n",
       "tech_support                                     No  \n",
       "streaming_tv                                     No  \n",
       "streaming_movies                                 No  \n",
       "contract_type_id                                  1  \n",
       "paperless_billing                               Yes  \n",
       "payment_type_id                                   3  \n",
       "monthly_charges                                68.6  \n",
       "total_charges                                1108.6  \n",
       "churn                                            No  \n",
       "internet_service_type_id                          2  \n",
       "internet_service_type                   Fiber optic  \n",
       "contract_type_id                                  1  \n",
       "contract_type                        Month-to-month  "
      ]
     },
     "execution_count": 5,
     "metadata": {},
     "output_type": "execute_result"
    }
   ],
   "source": [
    "df.sample(5).T"
   ]
  },
  {
   "cell_type": "code",
   "execution_count": 6,
   "metadata": {},
   "outputs": [
    {
     "data": {
      "text/plain": [
       "<bound method DataFrame.info of      payment_type_id               payment_type customer_id  gender  \\\n",
       "0                  2               Mailed check  0030-FNXPP  Female   \n",
       "1                  2               Mailed check  0031-PVLZI  Female   \n",
       "2                  1           Electronic check  0098-BOWSO    Male   \n",
       "3                  1           Electronic check  0107-WESLM    Male   \n",
       "4                  3  Bank transfer (automatic)  0114-RSRRW  Female   \n",
       "...              ...                        ...         ...     ...   \n",
       "7038               4    Credit card (automatic)  9919-FZDED    Male   \n",
       "7039               3  Bank transfer (automatic)  9926-PJHDQ  Female   \n",
       "7040               2               Mailed check  9928-BZVLZ  Female   \n",
       "7041               2               Mailed check  9993-LHIEB    Male   \n",
       "7042               1           Electronic check  9995-HOTOH    Male   \n",
       "\n",
       "      senior_citizen partner dependents  tenure phone_service  \\\n",
       "0                  0      No         No       3           Yes   \n",
       "1                  0     Yes        Yes       4           Yes   \n",
       "2                  0      No         No      27           Yes   \n",
       "3                  0      No         No       1           Yes   \n",
       "4                  0     Yes         No      10           Yes   \n",
       "...              ...     ...        ...     ...           ...   \n",
       "7038               1     Yes         No      72           Yes   \n",
       "7039               0     Yes        Yes      72           Yes   \n",
       "7040               0      No         No      12            No   \n",
       "7041               0     Yes        Yes      67           Yes   \n",
       "7042               0     Yes        Yes      63            No   \n",
       "\n",
       "        multiple_lines  ... contract_type_id paperless_billing  \\\n",
       "0                   No  ...                1                No   \n",
       "1                   No  ...                1                No   \n",
       "2                   No  ...                1               Yes   \n",
       "3                   No  ...                1               Yes   \n",
       "4                   No  ...                1               Yes   \n",
       "...                ...  ...              ...               ...   \n",
       "7038               Yes  ...                3               Yes   \n",
       "7039               Yes  ...                3               Yes   \n",
       "7040  No phone service  ...                3                No   \n",
       "7041                No  ...                3                No   \n",
       "7042  No phone service  ...                3                No   \n",
       "\n",
       "     payment_type_id monthly_charges total_charges churn  \\\n",
       "0                  2           19.85          57.2    No   \n",
       "1                  2           20.35         76.35   Yes   \n",
       "2                  1           19.40         529.8    No   \n",
       "3                  1           19.85         19.85   Yes   \n",
       "4                  3           19.95        187.75    No   \n",
       "...              ...             ...           ...   ...   \n",
       "7038               4           84.10       5981.65    No   \n",
       "7039               3           76.80       5468.45    No   \n",
       "7040               2           49.85         552.1    No   \n",
       "7041               2           67.85       4627.65    No   \n",
       "7042               1           59.00        3707.6    No   \n",
       "\n",
       "     internet_service_type_id  internet_service_type contract_type_id  \\\n",
       "0                           3                   None                1   \n",
       "1                           3                   None                1   \n",
       "2                           3                   None                1   \n",
       "3                           3                   None                1   \n",
       "4                           3                   None                1   \n",
       "...                       ...                    ...              ...   \n",
       "7038                        1                    DSL                3   \n",
       "7039                        1                    DSL                3   \n",
       "7040                        1                    DSL                3   \n",
       "7041                        1                    DSL                3   \n",
       "7042                        1                    DSL                3   \n",
       "\n",
       "       contract_type  \n",
       "0     Month-to-month  \n",
       "1     Month-to-month  \n",
       "2     Month-to-month  \n",
       "3     Month-to-month  \n",
       "4     Month-to-month  \n",
       "...              ...  \n",
       "7038        Two year  \n",
       "7039        Two year  \n",
       "7040        Two year  \n",
       "7041        Two year  \n",
       "7042        Two year  \n",
       "\n",
       "[7043 rows x 27 columns]>"
      ]
     },
     "execution_count": 6,
     "metadata": {},
     "output_type": "execute_result"
    }
   ],
   "source": [
    "df.info"
   ]
  },
  {
   "cell_type": "markdown",
   "metadata": {},
   "source": [
    "## Prepare my data"
   ]
  },
  {
   "cell_type": "code",
   "execution_count": 7,
   "metadata": {},
   "outputs": [
    {
     "data": {
      "text/plain": [
       "['payment_type_id',\n",
       " 'payment_type',\n",
       " 'customer_id',\n",
       " 'gender',\n",
       " 'senior_citizen',\n",
       " 'partner',\n",
       " 'dependents',\n",
       " 'tenure',\n",
       " 'phone_service',\n",
       " 'multiple_lines',\n",
       " 'internet_service_type_id',\n",
       " 'online_security',\n",
       " 'online_backup',\n",
       " 'device_protection',\n",
       " 'tech_support',\n",
       " 'streaming_tv',\n",
       " 'streaming_movies',\n",
       " 'contract_type_id',\n",
       " 'paperless_billing',\n",
       " 'payment_type_id',\n",
       " 'monthly_charges',\n",
       " 'total_charges',\n",
       " 'churn',\n",
       " 'internet_service_type_id',\n",
       " 'internet_service_type',\n",
       " 'contract_type_id',\n",
       " 'contract_type']"
      ]
     },
     "execution_count": 7,
     "metadata": {},
     "output_type": "execute_result"
    }
   ],
   "source": [
    "list(df.columns)"
   ]
  },
  {
   "cell_type": "code",
   "execution_count": 8,
   "metadata": {},
   "outputs": [],
   "source": [
    "# how to rid of duplicate column\n",
    "df = df.loc[:, ~df.columns.duplicated()]"
   ]
  },
  {
   "cell_type": "code",
   "execution_count": 9,
   "metadata": {},
   "outputs": [
    {
     "data": {
      "text/plain": [
       "(7043, 24)"
      ]
     },
     "execution_count": 9,
     "metadata": {},
     "output_type": "execute_result"
    }
   ],
   "source": [
    "df.shape"
   ]
  },
  {
   "cell_type": "code",
   "execution_count": 10,
   "metadata": {},
   "outputs": [
    {
     "data": {
      "text/plain": [
       "payment_type_id             False\n",
       "payment_type                False\n",
       "customer_id                 False\n",
       "gender                      False\n",
       "senior_citizen              False\n",
       "partner                     False\n",
       "dependents                  False\n",
       "tenure                      False\n",
       "phone_service               False\n",
       "multiple_lines              False\n",
       "internet_service_type_id    False\n",
       "online_security             False\n",
       "online_backup               False\n",
       "device_protection           False\n",
       "tech_support                False\n",
       "streaming_tv                False\n",
       "streaming_movies            False\n",
       "contract_type_id            False\n",
       "paperless_billing           False\n",
       "monthly_charges             False\n",
       "total_charges               False\n",
       "churn                       False\n",
       "internet_service_type       False\n",
       "contract_type               False\n",
       "dtype: bool"
      ]
     },
     "execution_count": 10,
     "metadata": {},
     "output_type": "execute_result"
    }
   ],
   "source": [
    "# check for nulls\n",
    "df.isnull().any()"
   ]
  },
  {
   "cell_type": "code",
   "execution_count": 11,
   "metadata": {},
   "outputs": [
    {
     "data": {
      "text/plain": [
       "payment_type_id               int64\n",
       "payment_type                 object\n",
       "customer_id                  object\n",
       "gender                       object\n",
       "senior_citizen                int64\n",
       "partner                      object\n",
       "dependents                   object\n",
       "tenure                        int64\n",
       "phone_service                object\n",
       "multiple_lines               object\n",
       "internet_service_type_id      int64\n",
       "online_security              object\n",
       "online_backup                object\n",
       "device_protection            object\n",
       "tech_support                 object\n",
       "streaming_tv                 object\n",
       "streaming_movies             object\n",
       "contract_type_id              int64\n",
       "paperless_billing            object\n",
       "monthly_charges             float64\n",
       "total_charges                object\n",
       "churn                        object\n",
       "internet_service_type        object\n",
       "contract_type                object\n",
       "dtype: object"
      ]
     },
     "execution_count": 11,
     "metadata": {},
     "output_type": "execute_result"
    }
   ],
   "source": [
    "df.dtypes"
   ]
  },
  {
   "cell_type": "code",
   "execution_count": 12,
   "metadata": {},
   "outputs": [],
   "source": [
    "# this is for the blank total charges\n",
    "df = df.replace(' ', np.nan)"
   ]
  },
  {
   "cell_type": "code",
   "execution_count": 13,
   "metadata": {},
   "outputs": [
    {
     "data": {
      "text/plain": [
       "payment_type_id             False\n",
       "payment_type                False\n",
       "customer_id                 False\n",
       "gender                      False\n",
       "senior_citizen              False\n",
       "partner                     False\n",
       "dependents                  False\n",
       "tenure                      False\n",
       "phone_service               False\n",
       "multiple_lines              False\n",
       "internet_service_type_id    False\n",
       "online_security             False\n",
       "online_backup               False\n",
       "device_protection           False\n",
       "tech_support                False\n",
       "streaming_tv                False\n",
       "streaming_movies            False\n",
       "contract_type_id            False\n",
       "paperless_billing           False\n",
       "monthly_charges             False\n",
       "total_charges                True\n",
       "churn                       False\n",
       "internet_service_type       False\n",
       "contract_type               False\n",
       "dtype: bool"
      ]
     },
     "execution_count": 13,
     "metadata": {},
     "output_type": "execute_result"
    }
   ],
   "source": [
    "# check again for nulls\n",
    "df.isnull().any()"
   ]
  },
  {
   "cell_type": "code",
   "execution_count": 14,
   "metadata": {},
   "outputs": [],
   "source": [
    "# drop nulls\n",
    "df.dropna(inplace=True)"
   ]
  },
  {
   "cell_type": "code",
   "execution_count": 15,
   "metadata": {},
   "outputs": [
    {
     "data": {
      "text/plain": [
       "payment_type_id             False\n",
       "payment_type                False\n",
       "customer_id                 False\n",
       "gender                      False\n",
       "senior_citizen              False\n",
       "partner                     False\n",
       "dependents                  False\n",
       "tenure                      False\n",
       "phone_service               False\n",
       "multiple_lines              False\n",
       "internet_service_type_id    False\n",
       "online_security             False\n",
       "online_backup               False\n",
       "device_protection           False\n",
       "tech_support                False\n",
       "streaming_tv                False\n",
       "streaming_movies            False\n",
       "contract_type_id            False\n",
       "paperless_billing           False\n",
       "monthly_charges             False\n",
       "total_charges               False\n",
       "churn                       False\n",
       "internet_service_type       False\n",
       "contract_type               False\n",
       "dtype: bool"
      ]
     },
     "execution_count": 15,
     "metadata": {},
     "output_type": "execute_result"
    }
   ],
   "source": [
    "# check again for nulls\n",
    "df.isnull().any()"
   ]
  },
  {
   "cell_type": "code",
   "execution_count": 16,
   "metadata": {},
   "outputs": [
    {
     "data": {
      "text/plain": [
       "(7032, 24)"
      ]
     },
     "execution_count": 16,
     "metadata": {},
     "output_type": "execute_result"
    }
   ],
   "source": [
    "df.shape"
   ]
  },
  {
   "cell_type": "code",
   "execution_count": 17,
   "metadata": {},
   "outputs": [],
   "source": [
    "# change total charges to float\n",
    "df.total_charges = df.total_charges.astype('float')"
   ]
  },
  {
   "cell_type": "code",
   "execution_count": 18,
   "metadata": {},
   "outputs": [
    {
     "data": {
      "text/plain": [
       "payment_type_id               int64\n",
       "payment_type                 object\n",
       "customer_id                  object\n",
       "gender                       object\n",
       "senior_citizen                int64\n",
       "partner                      object\n",
       "dependents                   object\n",
       "tenure                        int64\n",
       "phone_service                object\n",
       "multiple_lines               object\n",
       "internet_service_type_id      int64\n",
       "online_security              object\n",
       "online_backup                object\n",
       "device_protection            object\n",
       "tech_support                 object\n",
       "streaming_tv                 object\n",
       "streaming_movies             object\n",
       "contract_type_id              int64\n",
       "paperless_billing            object\n",
       "monthly_charges             float64\n",
       "total_charges               float64\n",
       "churn                        object\n",
       "internet_service_type        object\n",
       "contract_type                object\n",
       "dtype: object"
      ]
     },
     "execution_count": 18,
     "metadata": {},
     "output_type": "execute_result"
    }
   ],
   "source": [
    "df.dtypes"
   ]
  },
  {
   "cell_type": "code",
   "execution_count": null,
   "metadata": {},
   "outputs": [],
   "source": [
    "# general value counts on my entire data frame\n",
    "\n",
    "columns = ['payment_type_id', 'payment_type', 'gender', 'senior_citizen', 'partner', 'dependents', \n",
    "           'tenure', 'phone_service', 'multiple_lines', 'internet_service_type_id', \n",
    "           'online_security', 'online_backup', 'device_protection', 'tech_support',\n",
    "          'streaming_tv', 'streaming_movies', 'contract_type_id', 'paperless_billing',\n",
    "          'monthly_charges', 'total_charges', 'churn', 'internet_service_type', 'contract_type']\n",
    "\n",
    "for col in columns:\n",
    "    print(col)\n",
    "    print(df[col].value_counts())\n",
    "    print('-------------')"
   ]
  },
  {
   "cell_type": "code",
   "execution_count": null,
   "metadata": {},
   "outputs": [],
   "source": []
  },
  {
   "cell_type": "code",
   "execution_count": 20,
   "metadata": {},
   "outputs": [
    {
     "data": {
      "text/html": [
       "<div>\n",
       "<style scoped>\n",
       "    .dataframe tbody tr th:only-of-type {\n",
       "        vertical-align: middle;\n",
       "    }\n",
       "\n",
       "    .dataframe tbody tr th {\n",
       "        vertical-align: top;\n",
       "    }\n",
       "\n",
       "    .dataframe thead th {\n",
       "        text-align: right;\n",
       "    }\n",
       "</style>\n",
       "<table border=\"1\" class=\"dataframe\">\n",
       "  <thead>\n",
       "    <tr style=\"text-align: right;\">\n",
       "      <th></th>\n",
       "      <th>2403</th>\n",
       "      <th>1754</th>\n",
       "      <th>6112</th>\n",
       "      <th>3469</th>\n",
       "      <th>2836</th>\n",
       "    </tr>\n",
       "  </thead>\n",
       "  <tbody>\n",
       "    <tr>\n",
       "      <th>payment_type_id</th>\n",
       "      <td>1</td>\n",
       "      <td>1</td>\n",
       "      <td>4</td>\n",
       "      <td>2</td>\n",
       "      <td>1</td>\n",
       "    </tr>\n",
       "    <tr>\n",
       "      <th>payment_type</th>\n",
       "      <td>Electronic check</td>\n",
       "      <td>Electronic check</td>\n",
       "      <td>Credit card (automatic)</td>\n",
       "      <td>Mailed check</td>\n",
       "      <td>Electronic check</td>\n",
       "    </tr>\n",
       "    <tr>\n",
       "      <th>customer_id</th>\n",
       "      <td>8816-VXNZD</td>\n",
       "      <td>5609-CEBID</td>\n",
       "      <td>3090-HAWSU</td>\n",
       "      <td>6629-CZTTH</td>\n",
       "      <td>1612-EOHDH</td>\n",
       "    </tr>\n",
       "    <tr>\n",
       "      <th>gender</th>\n",
       "      <td>Female</td>\n",
       "      <td>Female</td>\n",
       "      <td>Male</td>\n",
       "      <td>Male</td>\n",
       "      <td>Female</td>\n",
       "    </tr>\n",
       "    <tr>\n",
       "      <th>senior_citizen</th>\n",
       "      <td>0</td>\n",
       "      <td>1</td>\n",
       "      <td>0</td>\n",
       "      <td>0</td>\n",
       "      <td>0</td>\n",
       "    </tr>\n",
       "    <tr>\n",
       "      <th>partner</th>\n",
       "      <td>No</td>\n",
       "      <td>No</td>\n",
       "      <td>No</td>\n",
       "      <td>No</td>\n",
       "      <td>No</td>\n",
       "    </tr>\n",
       "    <tr>\n",
       "      <th>dependents</th>\n",
       "      <td>No</td>\n",
       "      <td>No</td>\n",
       "      <td>No</td>\n",
       "      <td>No</td>\n",
       "      <td>No</td>\n",
       "    </tr>\n",
       "    <tr>\n",
       "      <th>tenure</th>\n",
       "      <td>1</td>\n",
       "      <td>20</td>\n",
       "      <td>61</td>\n",
       "      <td>1</td>\n",
       "      <td>1</td>\n",
       "    </tr>\n",
       "    <tr>\n",
       "      <th>phone_service</th>\n",
       "      <td>Yes</td>\n",
       "      <td>Yes</td>\n",
       "      <td>Yes</td>\n",
       "      <td>Yes</td>\n",
       "      <td>Yes</td>\n",
       "    </tr>\n",
       "    <tr>\n",
       "      <th>multiple_lines</th>\n",
       "      <td>Yes</td>\n",
       "      <td>Yes</td>\n",
       "      <td>Yes</td>\n",
       "      <td>No</td>\n",
       "      <td>No</td>\n",
       "    </tr>\n",
       "    <tr>\n",
       "      <th>internet_service_type_id</th>\n",
       "      <td>2</td>\n",
       "      <td>2</td>\n",
       "      <td>2</td>\n",
       "      <td>1</td>\n",
       "      <td>1</td>\n",
       "    </tr>\n",
       "    <tr>\n",
       "      <th>online_security</th>\n",
       "      <td>No</td>\n",
       "      <td>No</td>\n",
       "      <td>Yes</td>\n",
       "      <td>No</td>\n",
       "      <td>No</td>\n",
       "    </tr>\n",
       "    <tr>\n",
       "      <th>online_backup</th>\n",
       "      <td>No</td>\n",
       "      <td>Yes</td>\n",
       "      <td>No</td>\n",
       "      <td>No</td>\n",
       "      <td>No</td>\n",
       "    </tr>\n",
       "    <tr>\n",
       "      <th>device_protection</th>\n",
       "      <td>No</td>\n",
       "      <td>Yes</td>\n",
       "      <td>Yes</td>\n",
       "      <td>No</td>\n",
       "      <td>No</td>\n",
       "    </tr>\n",
       "    <tr>\n",
       "      <th>tech_support</th>\n",
       "      <td>No</td>\n",
       "      <td>No</td>\n",
       "      <td>Yes</td>\n",
       "      <td>No</td>\n",
       "      <td>No</td>\n",
       "    </tr>\n",
       "    <tr>\n",
       "      <th>streaming_tv</th>\n",
       "      <td>No</td>\n",
       "      <td>No</td>\n",
       "      <td>Yes</td>\n",
       "      <td>No</td>\n",
       "      <td>No</td>\n",
       "    </tr>\n",
       "    <tr>\n",
       "      <th>streaming_movies</th>\n",
       "      <td>No</td>\n",
       "      <td>Yes</td>\n",
       "      <td>Yes</td>\n",
       "      <td>Yes</td>\n",
       "      <td>No</td>\n",
       "    </tr>\n",
       "    <tr>\n",
       "      <th>contract_type_id</th>\n",
       "      <td>1</td>\n",
       "      <td>1</td>\n",
       "      <td>3</td>\n",
       "      <td>1</td>\n",
       "      <td>1</td>\n",
       "    </tr>\n",
       "    <tr>\n",
       "      <th>paperless_billing</th>\n",
       "      <td>Yes</td>\n",
       "      <td>Yes</td>\n",
       "      <td>Yes</td>\n",
       "      <td>Yes</td>\n",
       "      <td>No</td>\n",
       "    </tr>\n",
       "    <tr>\n",
       "      <th>monthly_charges</th>\n",
       "      <td>75.1</td>\n",
       "      <td>94.1</td>\n",
       "      <td>111.6</td>\n",
       "      <td>55.7</td>\n",
       "      <td>45.15</td>\n",
       "    </tr>\n",
       "    <tr>\n",
       "      <th>total_charges</th>\n",
       "      <td>75.1</td>\n",
       "      <td>1782.4</td>\n",
       "      <td>6876.05</td>\n",
       "      <td>55.7</td>\n",
       "      <td>45.15</td>\n",
       "    </tr>\n",
       "    <tr>\n",
       "      <th>churn</th>\n",
       "      <td>Yes</td>\n",
       "      <td>Yes</td>\n",
       "      <td>Yes</td>\n",
       "      <td>Yes</td>\n",
       "      <td>Yes</td>\n",
       "    </tr>\n",
       "    <tr>\n",
       "      <th>internet_service_type</th>\n",
       "      <td>Fiber optic</td>\n",
       "      <td>Fiber optic</td>\n",
       "      <td>Fiber optic</td>\n",
       "      <td>DSL</td>\n",
       "      <td>DSL</td>\n",
       "    </tr>\n",
       "    <tr>\n",
       "      <th>contract_type</th>\n",
       "      <td>Month-to-month</td>\n",
       "      <td>Month-to-month</td>\n",
       "      <td>Two year</td>\n",
       "      <td>Month-to-month</td>\n",
       "      <td>Month-to-month</td>\n",
       "    </tr>\n",
       "  </tbody>\n",
       "</table>\n",
       "</div>"
      ],
      "text/plain": [
       "                                      2403              1754  \\\n",
       "payment_type_id                          1                 1   \n",
       "payment_type              Electronic check  Electronic check   \n",
       "customer_id                     8816-VXNZD        5609-CEBID   \n",
       "gender                              Female            Female   \n",
       "senior_citizen                           0                 1   \n",
       "partner                                 No                No   \n",
       "dependents                              No                No   \n",
       "tenure                                   1                20   \n",
       "phone_service                          Yes               Yes   \n",
       "multiple_lines                         Yes               Yes   \n",
       "internet_service_type_id                 2                 2   \n",
       "online_security                         No                No   \n",
       "online_backup                           No               Yes   \n",
       "device_protection                       No               Yes   \n",
       "tech_support                            No                No   \n",
       "streaming_tv                            No                No   \n",
       "streaming_movies                        No               Yes   \n",
       "contract_type_id                         1                 1   \n",
       "paperless_billing                      Yes               Yes   \n",
       "monthly_charges                       75.1              94.1   \n",
       "total_charges                         75.1            1782.4   \n",
       "churn                                  Yes               Yes   \n",
       "internet_service_type          Fiber optic       Fiber optic   \n",
       "contract_type               Month-to-month    Month-to-month   \n",
       "\n",
       "                                             6112            3469  \\\n",
       "payment_type_id                                 4               2   \n",
       "payment_type              Credit card (automatic)    Mailed check   \n",
       "customer_id                            3090-HAWSU      6629-CZTTH   \n",
       "gender                                       Male            Male   \n",
       "senior_citizen                                  0               0   \n",
       "partner                                        No              No   \n",
       "dependents                                     No              No   \n",
       "tenure                                         61               1   \n",
       "phone_service                                 Yes             Yes   \n",
       "multiple_lines                                Yes              No   \n",
       "internet_service_type_id                        2               1   \n",
       "online_security                               Yes              No   \n",
       "online_backup                                  No              No   \n",
       "device_protection                             Yes              No   \n",
       "tech_support                                  Yes              No   \n",
       "streaming_tv                                  Yes              No   \n",
       "streaming_movies                              Yes             Yes   \n",
       "contract_type_id                                3               1   \n",
       "paperless_billing                             Yes             Yes   \n",
       "monthly_charges                             111.6            55.7   \n",
       "total_charges                             6876.05            55.7   \n",
       "churn                                         Yes             Yes   \n",
       "internet_service_type                 Fiber optic             DSL   \n",
       "contract_type                            Two year  Month-to-month   \n",
       "\n",
       "                                      2836  \n",
       "payment_type_id                          1  \n",
       "payment_type              Electronic check  \n",
       "customer_id                     1612-EOHDH  \n",
       "gender                              Female  \n",
       "senior_citizen                           0  \n",
       "partner                                 No  \n",
       "dependents                              No  \n",
       "tenure                                   1  \n",
       "phone_service                          Yes  \n",
       "multiple_lines                          No  \n",
       "internet_service_type_id                 1  \n",
       "online_security                         No  \n",
       "online_backup                           No  \n",
       "device_protection                       No  \n",
       "tech_support                            No  \n",
       "streaming_tv                            No  \n",
       "streaming_movies                        No  \n",
       "contract_type_id                         1  \n",
       "paperless_billing                       No  \n",
       "monthly_charges                      45.15  \n",
       "total_charges                        45.15  \n",
       "churn                                  Yes  \n",
       "internet_service_type                  DSL  \n",
       "contract_type               Month-to-month  "
      ]
     },
     "execution_count": 20,
     "metadata": {},
     "output_type": "execute_result"
    }
   ],
   "source": [
    "# make a df just for churned customers so we can hone in on a drive\n",
    "churned_df = df[df['churn']=='Yes']\n",
    "churned_df.sample(5).T"
   ]
  },
  {
   "cell_type": "code",
   "execution_count": 21,
   "metadata": {},
   "outputs": [
    {
     "name": "stdout",
     "output_type": "stream",
     "text": [
      "payment_type_id\n",
      "1    1071\n",
      "2     308\n",
      "3     258\n",
      "4     232\n",
      "Name: payment_type_id, dtype: int64\n",
      "-------------\n",
      "payment_type\n",
      "Electronic check             1071\n",
      "Mailed check                  308\n",
      "Bank transfer (automatic)     258\n",
      "Credit card (automatic)       232\n",
      "Name: payment_type, dtype: int64\n",
      "-------------\n",
      "gender\n",
      "Female    939\n",
      "Male      930\n",
      "Name: gender, dtype: int64\n",
      "-------------\n",
      "senior_citizen\n",
      "0    1393\n",
      "1     476\n",
      "Name: senior_citizen, dtype: int64\n",
      "-------------\n",
      "partner\n",
      "No     1200\n",
      "Yes     669\n",
      "Name: partner, dtype: int64\n",
      "-------------\n",
      "dependents\n",
      "No     1543\n",
      "Yes     326\n",
      "Name: dependents, dtype: int64\n",
      "-------------\n",
      "tenure\n",
      "1     380\n",
      "2     123\n",
      "3      94\n",
      "4      83\n",
      "5      64\n",
      "     ... \n",
      "45      6\n",
      "72      6\n",
      "62      5\n",
      "63      4\n",
      "64      4\n",
      "Name: tenure, Length: 72, dtype: int64\n",
      "-------------\n",
      "phone_service\n",
      "Yes    1699\n",
      "No      170\n",
      "Name: phone_service, dtype: int64\n",
      "-------------\n",
      "multiple_lines\n",
      "Yes                 850\n",
      "No                  849\n",
      "No phone service    170\n",
      "Name: multiple_lines, dtype: int64\n",
      "-------------\n",
      "internet_service_type_id\n",
      "2    1297\n",
      "1     459\n",
      "3     113\n",
      "Name: internet_service_type_id, dtype: int64\n",
      "-------------\n",
      "online_security\n",
      "No                     1461\n",
      "Yes                     295\n",
      "No internet service     113\n",
      "Name: online_security, dtype: int64\n",
      "-------------\n",
      "online_backup\n",
      "No                     1233\n",
      "Yes                     523\n",
      "No internet service     113\n",
      "Name: online_backup, dtype: int64\n",
      "-------------\n",
      "device_protection\n",
      "No                     1211\n",
      "Yes                     545\n",
      "No internet service     113\n",
      "Name: device_protection, dtype: int64\n",
      "-------------\n",
      "tech_support\n",
      "No                     1446\n",
      "Yes                     310\n",
      "No internet service     113\n",
      "Name: tech_support, dtype: int64\n",
      "-------------\n",
      "streaming_tv\n",
      "No                     942\n",
      "Yes                    814\n",
      "No internet service    113\n",
      "Name: streaming_tv, dtype: int64\n",
      "-------------\n",
      "streaming_movies\n",
      "No                     938\n",
      "Yes                    818\n",
      "No internet service    113\n",
      "Name: streaming_movies, dtype: int64\n",
      "-------------\n",
      "contract_type_id\n",
      "1    1655\n",
      "2     166\n",
      "3      48\n",
      "Name: contract_type_id, dtype: int64\n",
      "-------------\n",
      "paperless_billing\n",
      "Yes    1400\n",
      "No      469\n",
      "Name: paperless_billing, dtype: int64\n",
      "-------------\n",
      "monthly_charges\n",
      "74.40     13\n",
      "74.90      9\n",
      "74.95      8\n",
      "45.30      8\n",
      "94.40      7\n",
      "          ..\n",
      "84.15      1\n",
      "21.05      1\n",
      "118.35     1\n",
      "94.80      1\n",
      "61.60      1\n",
      "Name: monthly_charges, Length: 910, dtype: int64\n",
      "-------------\n",
      "total_charges\n",
      "20.20      6\n",
      "45.30      5\n",
      "69.60      4\n",
      "75.30      4\n",
      "20.15      4\n",
      "          ..\n",
      "1527.35    1\n",
      "4323.45    1\n",
      "1052.40    1\n",
      "649.65     1\n",
      "63.75      1\n",
      "Name: total_charges, Length: 1732, dtype: int64\n",
      "-------------\n",
      "churn\n",
      "Yes    1869\n",
      "Name: churn, dtype: int64\n",
      "-------------\n",
      "internet_service_type\n",
      "Fiber optic    1297\n",
      "DSL             459\n",
      "None            113\n",
      "Name: internet_service_type, dtype: int64\n",
      "-------------\n",
      "contract_type\n",
      "Month-to-month    1655\n",
      "One year           166\n",
      "Two year            48\n",
      "Name: contract_type, dtype: int64\n",
      "-------------\n"
     ]
    }
   ],
   "source": [
    "# value counts on my churned data frame\n",
    "\n",
    "columns = ['payment_type_id', 'payment_type', 'gender', 'senior_citizen', 'partner', 'dependents', \n",
    "           'tenure', 'phone_service', 'multiple_lines', 'internet_service_type_id', \n",
    "           'online_security', 'online_backup', 'device_protection', 'tech_support',\n",
    "          'streaming_tv', 'streaming_movies', 'contract_type_id', 'paperless_billing',\n",
    "          'monthly_charges', 'total_charges', 'churn', 'internet_service_type', 'contract_type']\n",
    "\n",
    "for col in columns:\n",
    "    print(col)\n",
    "    print(churned_df[col].value_counts())\n",
    "    print('-------------')"
   ]
  },
  {
   "cell_type": "markdown",
   "metadata": {},
   "source": [
    "### What are my takeaways?\n",
    "- Right off the bat I can see which columns have an obvious association to churn:\n",
    " - contract_type/contract_type_id\n",
    " - internet_service_type/internet_service_type_id\n",
    " - paperless billing\n",
    " - tech_support\n",
    " - device_protection\n",
    " - online_backup\n",
    " - online security\n",
    " - phone_service\n",
    " - dependents\n",
    " - partner\n",
    " - senior_citizen\n",
    " - payment_type/paymnent_type_id\n",
    " \n",
    "----------------\n",
    " \n",
    "- Things to investigate further:\n",
    " - Is there an association with total charges?\n",
    " - Is there an association with monthly charges?\n",
    " - Is there an association with tenure?\n",
    " \n",
    "----------------\n",
    " \n",
    "- We don't care too much about:\n",
    " - streaming_movies\n",
    " - streaming_tv\n",
    " - multiple_lines\n",
    " - gender"
   ]
  },
  {
   "cell_type": "code",
   "execution_count": 22,
   "metadata": {},
   "outputs": [],
   "source": [
    "# turn all my string columns into integers\n",
    "columns = ['partner', 'dependents', 'phone_service', 'multiple_lines', \n",
    "           'online_security', 'online_backup', 'device_protection', 'tech_support',\n",
    "          'streaming_tv', 'streaming_movies', 'paperless_billing']\n",
    "\n",
    "for cols in columns:\n",
    "    df[cols] = np.where(df[cols] == 'Yes', 1, 0)"
   ]
  },
  {
   "cell_type": "code",
   "execution_count": 25,
   "metadata": {},
   "outputs": [],
   "source": [
    "# make new df to explore with, drop all string columns except churn\n",
    "explore_df = df.drop(columns=['payment_type', 'customer_id', 'internet_service_type', 'contract_type', 'gender'])"
   ]
  },
  {
   "cell_type": "code",
   "execution_count": 29,
   "metadata": {},
   "outputs": [
    {
     "data": {
      "text/plain": [
       "payment_type_id               int64\n",
       "senior_citizen                int64\n",
       "partner                       int64\n",
       "dependents                    int64\n",
       "tenure                        int64\n",
       "phone_service                 int64\n",
       "multiple_lines                int64\n",
       "internet_service_type_id      int64\n",
       "online_security               int64\n",
       "online_backup                 int64\n",
       "device_protection             int64\n",
       "tech_support                  int64\n",
       "streaming_tv                  int64\n",
       "streaming_movies              int64\n",
       "contract_type_id              int64\n",
       "paperless_billing             int64\n",
       "monthly_charges             float64\n",
       "total_charges               float64\n",
       "churn                        object\n",
       "dtype: object"
      ]
     },
     "execution_count": 29,
     "metadata": {},
     "output_type": "execute_result"
    }
   ],
   "source": [
    "explore_df.dtypes"
   ]
  },
  {
   "cell_type": "code",
   "execution_count": null,
   "metadata": {},
   "outputs": [],
   "source": [
    "# let's drop the columns we know don't matter so we can have a cleaner dataframe\n",
    "df = df.drop(columns=['streaming_movies', 'streaming_tv', 'multiple_lines', 'gender'])\n",
    "churned_df = df[df['churn']=='Yes']"
   ]
  },
  {
   "cell_type": "code",
   "execution_count": 28,
   "metadata": {},
   "outputs": [
    {
     "data": {
      "text/plain": [
       "payment_type_id               int64\n",
       "payment_type                 object\n",
       "customer_id                  object\n",
       "gender                       object\n",
       "senior_citizen                int64\n",
       "partner                       int64\n",
       "dependents                    int64\n",
       "tenure                        int64\n",
       "phone_service                 int64\n",
       "multiple_lines                int64\n",
       "internet_service_type_id      int64\n",
       "online_security               int64\n",
       "online_backup                 int64\n",
       "device_protection             int64\n",
       "tech_support                  int64\n",
       "streaming_tv                  int64\n",
       "streaming_movies              int64\n",
       "contract_type_id              int64\n",
       "paperless_billing             int64\n",
       "monthly_charges             float64\n",
       "total_charges               float64\n",
       "churn                        object\n",
       "internet_service_type        object\n",
       "contract_type                object\n",
       "dtype: object"
      ]
     },
     "execution_count": 28,
     "metadata": {},
     "output_type": "execute_result"
    }
   ],
   "source": [
    "# split my data"
   ]
  },
  {
   "cell_type": "markdown",
   "metadata": {},
   "source": [
    "# Explore"
   ]
  },
  {
   "cell_type": "code",
   "execution_count": null,
   "metadata": {},
   "outputs": [],
   "source": [
    "#  Is there an association with monthly charges?\n",
    "df.monthly_charges.mean(), churned_df.monthly_charges.mean()"
   ]
  },
  {
   "cell_type": "code",
   "execution_count": null,
   "metadata": {},
   "outputs": [],
   "source": [
    "# churned customers pay more monthly charges than overall customers\n",
    "df.monthly_charges.hist()\n",
    "churned_df.monthly_charges.hist()\n",
    "plt.xlabel('monthly charges')\n",
    "plt.ylabel('amount of customers')"
   ]
  },
  {
   "cell_type": "code",
   "execution_count": null,
   "metadata": {},
   "outputs": [],
   "source": [
    "df.total_charges.mean(), churned_df.total_charges.mean()"
   ]
  },
  {
   "cell_type": "code",
   "execution_count": null,
   "metadata": {},
   "outputs": [],
   "source": [
    "# comparison of total charges\n",
    "df.total_charges.hist()\n",
    "churned_df.total_charges.hist()\n",
    "plt.xlabel('total charges')\n",
    "plt.ylabel('amount of customers')"
   ]
  },
  {
   "cell_type": "code",
   "execution_count": null,
   "metadata": {},
   "outputs": [],
   "source": [
    "# comparison of tenure\n",
    "df.tenure.hist()\n",
    "churned_df.tenure.hist()\n",
    "plt.xlabel('tenure')\n",
    "plt.ylabel('amount of customers')"
   ]
  },
  {
   "cell_type": "code",
   "execution_count": null,
   "metadata": {},
   "outputs": [],
   "source": [
    "list(df.columns)"
   ]
  },
  {
   "cell_type": "code",
   "execution_count": null,
   "metadata": {},
   "outputs": [],
   "source": [
    "df.sample(1).T"
   ]
  },
  {
   "cell_type": "code",
   "execution_count": null,
   "metadata": {},
   "outputs": [],
   "source": []
  },
  {
   "cell_type": "code",
   "execution_count": null,
   "metadata": {},
   "outputs": [],
   "source": [
    "df.dtypes"
   ]
  },
  {
   "cell_type": "code",
   "execution_count": null,
   "metadata": {},
   "outputs": [],
   "source": []
  },
  {
   "cell_type": "code",
   "execution_count": 31,
   "metadata": {},
   "outputs": [
    {
     "data": {
      "text/plain": [
       "payment_type_id               int64\n",
       "payment_type                 object\n",
       "customer_id                  object\n",
       "gender                       object\n",
       "senior_citizen                int64\n",
       "partner                       int64\n",
       "dependents                    int64\n",
       "tenure                        int64\n",
       "phone_service                 int64\n",
       "multiple_lines                int64\n",
       "internet_service_type_id      int64\n",
       "online_security               int64\n",
       "online_backup                 int64\n",
       "device_protection             int64\n",
       "tech_support                  int64\n",
       "streaming_tv                  int64\n",
       "streaming_movies              int64\n",
       "contract_type_id              int64\n",
       "paperless_billing             int64\n",
       "monthly_charges             float64\n",
       "total_charges               float64\n",
       "churn                        object\n",
       "internet_service_type        object\n",
       "contract_type                object\n",
       "dtype: object"
      ]
     },
     "execution_count": 31,
     "metadata": {},
     "output_type": "execute_result"
    }
   ],
   "source": [
    "churned_df.dtypes"
   ]
  },
  {
   "cell_type": "code",
   "execution_count": null,
   "metadata": {},
   "outputs": [],
   "source": [
    "# _, ax = plt.subplots(nrows=1, ncols=19, figsize=(16, 6))\n",
    "# for i, column in enumerate(columns):\n",
    "#     sns.barplot(column, 'churn', data=df, ax=ax[i], alpha=0.5)\n",
    "#     plt.show()"
   ]
  },
  {
   "cell_type": "code",
   "execution_count": 30,
   "metadata": {},
   "outputs": [
    {
     "data": {
      "image/png": "[encoded data removed]",
      "text/plain": [
       "<Figure size 432x288 with 1 Axes>"
      ]
     },
     "metadata": {
      "needs_background": "light"
     },
     "output_type": "display_data"
    },
    {
     "data": {
      "image/png": "[encoded data removed]",
      "text/plain": [
       "<Figure size 432x288 with 1 Axes>"
      ]
     },
     "metadata": {
      "needs_background": "light"
     },
     "output_type": "display_data"
    },
    {
     "data": {
      "image/png": "[encoded data removed]",
      "text/plain": [
       "<Figure size 432x288 with 1 Axes>"
      ]
     },
     "metadata": {
      "needs_background": "light"
     },
     "output_type": "display_data"
    },
    {
     "data": {
      "image/png": "[encoded data removed]",
      "text/plain": [
       "<Figure size 432x288 with 1 Axes>"
      ]
     },
     "metadata": {
      "needs_background": "light"
     },
     "output_type": "display_data"
    },
    {
     "data": {
      "image/png": "[encoded data removed]",
      "text/plain": [
       "<Figure size 432x288 with 1 Axes>"
      ]
     },
     "metadata": {
      "needs_background": "light"
     },
     "output_type": "display_data"
    },
    {
     "data": {
      "image/png": "[encoded data removed]",
      "text/plain": [
       "<Figure size 432x288 with 1 Axes>"
      ]
     },
     "metadata": {
      "needs_background": "light"
     },
     "output_type": "display_data"
    },
    {
     "data": {
      "image/png": "[encoded data removed]",
      "text/plain": [
       "<Figure size 432x288 with 1 Axes>"
      ]
     },
     "metadata": {
      "needs_background": "light"
     },
     "output_type": "display_data"
    },
    {
     "data": {
      "image/png": "[encoded data removed]",
      "text/plain": [
       "<Figure size 432x288 with 1 Axes>"
      ]
     },
     "metadata": {
      "needs_background": "light"
     },
     "output_type": "display_data"
    },
    {
     "data": {
      "image/png": "[encoded data removed]",
      "text/plain": [
       "<Figure size 432x288 with 1 Axes>"
      ]
     },
     "metadata": {
      "needs_background": "light"
     },
     "output_type": "display_data"
    },
    {
     "data": {
      "image/png": "[encoded data removed]",
      "text/plain": [
       "<Figure size 432x288 with 1 Axes>"
      ]
     },
     "metadata": {
      "needs_background": "light"
     },
     "output_type": "display_data"
    },
    {
     "data": {
      "image/png": "[encoded data removed]",
      "text/plain": [
       "<Figure size 432x288 with 1 Axes>"
      ]
     },
     "metadata": {
      "needs_background": "light"
     },
     "output_type": "display_data"
    },
    {
     "data": {
      "image/png": "[encoded data removed]",
      "text/plain": [
       "<Figure size 432x288 with 1 Axes>"
      ]
     },
     "metadata": {
      "needs_background": "light"
     },
     "output_type": "display_data"
    },
    {
     "data": {
      "image/png": "[encoded data removed]",
      "text/plain": [
       "<Figure size 432x288 with 1 Axes>"
      ]
     },
     "metadata": {
      "needs_background": "light"
     },
     "output_type": "display_data"
    },
    {
     "data": {
      "image/png": "[encoded data removed]",
      "text/plain": [
       "<Figure size 432x288 with 1 Axes>"
      ]
     },
     "metadata": {
      "needs_background": "light"
     },
     "output_type": "display_data"
    },
    {
     "data": {
      "image/png": "[encoded data removed]",
      "text/plain": [
       "<Figure size 432x288 with 1 Axes>"
      ]
     },
     "metadata": {
      "needs_background": "light"
     },
     "output_type": "display_data"
    },
    {
     "data": {
      "image/png": "[encoded data removed]",
      "text/plain": [
       "<Figure size 432x288 with 1 Axes>"
      ]
     },
     "metadata": {
      "needs_background": "light"
     },
     "output_type": "display_data"
    },
    {
     "data": {
      "image/png": "[encoded data removed]",
      "text/plain": [
       "<Figure size 432x288 with 1 Axes>"
      ]
     },
     "metadata": {
      "needs_background": "light"
     },
     "output_type": "display_data"
    },
    {
     "data": {
      "image/png": "[encoded data removed]",
      "text/plain": [
       "<Figure size 432x288 with 1 Axes>"
      ]
     },
     "metadata": {
      "needs_background": "light"
     },
     "output_type": "display_data"
    },
    {
     "data": {
      "image/png": "[encoded data removed]",
      "text/plain": [
       "<Figure size 432x288 with 1 Axes>"
      ]
     },
     "metadata": {
      "needs_background": "light"
     },
     "output_type": "display_data"
    },
    {
     "data": {
      "image/png": "[encoded data removed]",
      "text/plain": [
       "<Figure size 432x288 with 1 Axes>"
      ]
     },
     "metadata": {
      "needs_background": "light"
     },
     "output_type": "display_data"
    },
    {
     "data": {
      "image/png": "[encoded data removed]",
      "text/plain": [
       "<Figure size 432x288 with 1 Axes>"
      ]
     },
     "metadata": {
      "needs_background": "light"
     },
     "output_type": "display_data"
    },
    {
     "data": {
      "image/png": "[encoded data removed]",
      "text/plain": [
       "<Figure size 432x288 with 1 Axes>"
      ]
     },
     "metadata": {
      "needs_background": "light"
     },
     "output_type": "display_data"
    },
    {
     "data": {
      "image/png": "[encoded data removed]",
      "text/plain": [
       "<Figure size 432x288 with 1 Axes>"
      ]
     },
     "metadata": {
      "needs_background": "light"
     },
     "output_type": "display_data"
    },
    {
     "data": {
      "image/png": "[encoded data removed]",
      "text/plain": [
       "<Figure size 432x288 with 1 Axes>"
      ]
     },
     "metadata": {
      "needs_background": "light"
     },
     "output_type": "display_data"
    }
   ],
   "source": [
    "churned_df = df[df['churn']=='Yes']\n",
    "for i in df.columns:\n",
    "    sns.countplot(data=df, x=i, hue='churn')\n",
    "    plt.show()"
   ]
  },
  {
   "cell_type": "code",
   "execution_count": null,
   "metadata": {},
   "outputs": [],
   "source": [
    "# sns.pairplot(data = df, hue='churn')"
   ]
  },
  {
   "cell_type": "code",
   "execution_count": null,
   "metadata": {},
   "outputs": [],
   "source": []
  },
  {
   "cell_type": "code",
   "execution_count": null,
   "metadata": {},
   "outputs": [],
   "source": []
  },
  {
   "cell_type": "markdown",
   "metadata": {},
   "source": [
    "## Explore"
   ]
  },
  {
   "cell_type": "code",
   "execution_count": null,
   "metadata": {},
   "outputs": [],
   "source": [
    "df.churn.value_counts().sort_index().plot.bar()"
   ]
  },
  {
   "cell_type": "code",
   "execution_count": null,
   "metadata": {},
   "outputs": [],
   "source": [
    "sns.countplot(x='churn', hue='dependents', data=df)"
   ]
  },
  {
   "cell_type": "code",
   "execution_count": null,
   "metadata": {},
   "outputs": [],
   "source": [
    "# partners don't play a part\n",
    "sns.countplot(x='churn', hue='partner', data=df)"
   ]
  },
  {
   "cell_type": "code",
   "execution_count": 32,
   "metadata": {},
   "outputs": [
    {
     "data": {
      "image/png": "[encoded data removed]",
      "text/plain": [
       "<Figure size 432x288 with 2 Axes>"
      ]
     },
     "metadata": {
      "needs_background": "light"
     },
     "output_type": "display_data"
    }
   ],
   "source": [
    "sns.heatmap(churned_df.corr(), cmap='mako', center=0, annot=True)\n",
    "\n",
    "plt.title('')\n",
    "plt.show()"
   ]
  },
  {
   "cell_type": "code",
   "execution_count": null,
   "metadata": {},
   "outputs": [],
   "source": []
  }
 ],
 "metadata": {
  "kernelspec": {
   "display_name": "Python 3",
   "language": "python",
   "name": "python3"
  },
  "language_info": {
   "codemirror_mode": {
    "name": "ipython",
    "version": 3
   },
   "file_extension": ".py",
   "mimetype": "text/x-python",
   "name": "python",
   "nbconvert_exporter": "python",
   "pygments_lexer": "ipython3",
   "version": "3.8.5"
  }
 },
 "nbformat": 4,
 "nbformat_minor": 4
}
